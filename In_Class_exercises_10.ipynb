{
  "nbformat": 4,
  "nbformat_minor": 0,
  "metadata": {
    "kernelspec": {
      "display_name": "Python 3",
      "language": "python",
      "name": "python3"
    },
    "language_info": {
      "codemirror_mode": {
        "name": "ipython",
        "version": 3
      },
      "file_extension": ".py",
      "mimetype": "text/x-python",
      "name": "python",
      "nbconvert_exporter": "python",
      "pygments_lexer": "ipython3",
      "version": "3.8.5"
    },
    "colab": {
      "name": "In_Class_exercises-10.ipynb",
      "provenance": [],
      "toc_visible": true,
      "include_colab_link": true
    }
  },
  "cells": [
    {
      "cell_type": "markdown",
      "metadata": {
        "id": "view-in-github",
        "colab_type": "text"
      },
      "source": [
        "<a href=\"https://colab.research.google.com/github/PriyankaMittapelly/SaiPriyanka_INFO5731_Spring2020/blob/main/In_Class_exercises_10.ipynb\" target=\"_parent\"><img src=\"https://colab.research.google.com/assets/colab-badge.svg\" alt=\"Open In Colab\"/></a>"
      ]
    },
    {
      "cell_type": "markdown",
      "metadata": {
        "id": "w412mx74PxUM"
      },
      "source": [
        "# In class exercise 10 (20 points in total, 4/16/2021)"
      ]
    },
    {
      "cell_type": "markdown",
      "metadata": {
        "id": "USLXqI72PxUg"
      },
      "source": [
        "The purpose of the exercise is to practice different machine learning algorithms for text clustering\n",
        "Please downlad the dataset by using the following link.  https://www.kaggle.com/PromptCloudHQ/amazon-reviews-unlocked-mobile-phones\n",
        "(You can also use different text data which you want)\n",
        "\n",
        "Apply the listed clustering methods to the dataset:\n",
        "\n",
        "K means, \n",
        "DBSCAN,\n",
        "Hierarchical clustering. \n",
        "\n",
        "You can refer to of the codes from  the follwing link below. \n",
        "https://www.kaggle.com/karthik3890/text-clustering \n",
        "    "
      ]
    },
    {
      "cell_type": "code",
      "metadata": {
        "colab": {
          "base_uri": "https://localhost:8080/"
        },
        "id": "qGmpys5PPxUp",
        "outputId": "d8016ce4-f6ac-4469-f3b6-2c3512eba150"
      },
      "source": [
        "import pandas as pd\n",
        "import gensim\n",
        "df=pd.read_csv(\"/content/Amazon_Unlocked_Mobile.csv\")\n",
        "import nltk\n",
        "nltk.download('punkt')\n",
        "from nltk.corpus import stopwords\n",
        "nltk.download('stopwords')\n",
        "from textblob import Word\n",
        "nltk.download('wordnet')\n",
        "from nltk.stem import PorterStemmer\n",
        "st = PorterStemmer()\n",
        "df = df[df['Reviews'].notnull()]\n",
        "stop = stopwords.words('english')\n",
        "df['Punctuation'] = df['Reviews'].str.replace('[^\\w\\s].#','')\n",
        "df['Removingstopwords'] =df['Punctuation'].apply(lambda x: \" \".join(x for x in x.split() if x not in stop))\n",
        "df['Numerics']=df['Removingstopwords'].str.replace('[0-9]','')\n",
        "df['lowercase'] =df['Numerics'].apply(lambda x: \" \".join(x.lower() for x in x.split()))\n",
        "\n",
        "df['Stemming']=df['lowercase'].apply(lambda x: \" \".join([st.stem(word) for word in x.split()]))\n",
        "df['Final_text'] = df['Stemming'].apply(lambda x: \" \".join([Word(word).lemmatize() for word in x.split()]))\n",
        "df['Final_text']"
      ],
      "execution_count": null,
      "outputs": [
        {
          "output_type": "stream",
          "text": [
            "[nltk_data] Downloading package punkt to /root/nltk_data...\n",
            "[nltk_data]   Package punkt is already up-to-date!\n",
            "[nltk_data] Downloading package stopwords to /root/nltk_data...\n",
            "[nltk_data]   Package stopwords is already up-to-date!\n",
            "[nltk_data] Downloading package wordnet to /root/nltk_data...\n",
            "[nltk_data]   Package wordnet is already up-to-date!\n"
          ],
          "name": "stdout"
        },
        {
          "output_type": "execute_result",
          "data": {
            "text/plain": [
              "0         i feel lucki found use (phone u & use hard all...\n",
              "1         nice phone, nice grade pantach revue. veri cle...\n",
              "2                                                 veri plea\n",
              "3           it work good goe slow sometim good phone i love\n",
              "4         great phone replac lost phone. the thing volum...\n",
              "                                ...                        \n",
              "413835                         anoth great deal great price\n",
              "413836                                                   ok\n",
              "413837             pas everi drop test onto porcelain tile!\n",
              "413838          i return meet need seem good select others.\n",
              "413839    onli downsid appar verizon longer use v-cast m...\n",
              "Name: Final_text, Length: 413778, dtype: object"
            ]
          },
          "metadata": {
            "tags": []
          },
          "execution_count": 3
        }
      ]
    },
    {
      "cell_type": "code",
      "metadata": {
        "id": "hDrTKT2PHEK-"
      },
      "source": [
        ""
      ],
      "execution_count": null,
      "outputs": []
    },
    {
      "cell_type": "code",
      "metadata": {
        "colab": {
          "base_uri": "https://localhost:8080/"
        },
        "id": "Aaml_MlnRbZ6",
        "outputId": "0f971a5c-8218-477e-cb83-7ff9582d71cd"
      },
      "source": [
        "df_1=(df.sample(n=4000)).reset_index()\n",
        "from sklearn.feature_extraction.text import TfidfVectorizer\n",
        "tfidf_vect = TfidfVectorizer()\n",
        "tfidf = tfidf_vect.fit_transform(df_1['Final_text'].values)\n",
        "tfidf.shape\n",
        "\n",
        "from sklearn.cluster import KMeans\n",
        "model_tf = KMeans(n_clusters = 5, n_jobs = -1,random_state=99)\n",
        "model_tf.fit(tfidf)"
      ],
      "execution_count": null,
      "outputs": [
        {
          "output_type": "execute_result",
          "data": {
            "text/plain": [
              "KMeans(algorithm='auto', copy_x=True, init='k-means++', max_iter=300,\n",
              "       n_clusters=5, n_init=10, n_jobs=-1, precompute_distances='auto',\n",
              "       random_state=99, tol=0.0001, verbose=0)"
            ]
          },
          "metadata": {
            "tags": []
          },
          "execution_count": 4
        }
      ]
    },
    {
      "cell_type": "code",
      "metadata": {
        "colab": {
          "base_uri": "https://localhost:8080/",
          "height": 993
        },
        "id": "kKNyPKBvRnpu",
        "outputId": "274013b7-e579-4bdb-d341-865456f7e5a1"
      },
      "source": [
        "labels_tf = model_tf.labels_\n",
        "cluster_center_tf=model_tf.cluster_centers_\n",
        "terms = tfidf_vect.get_feature_names()\n",
        "terms[1:5]\n",
        "df_2 = df_1\n",
        "df_2['Tfidf Clus Label'] = model_tf.labels_\n",
        "df_2"
      ],
      "execution_count": null,
      "outputs": [
        {
          "output_type": "execute_result",
          "data": {
            "text/html": [
              "<div>\n",
              "<style scoped>\n",
              "    .dataframe tbody tr th:only-of-type {\n",
              "        vertical-align: middle;\n",
              "    }\n",
              "\n",
              "    .dataframe tbody tr th {\n",
              "        vertical-align: top;\n",
              "    }\n",
              "\n",
              "    .dataframe thead th {\n",
              "        text-align: right;\n",
              "    }\n",
              "</style>\n",
              "<table border=\"1\" class=\"dataframe\">\n",
              "  <thead>\n",
              "    <tr style=\"text-align: right;\">\n",
              "      <th></th>\n",
              "      <th>index</th>\n",
              "      <th>Product Name</th>\n",
              "      <th>Brand Name</th>\n",
              "      <th>Price</th>\n",
              "      <th>Rating</th>\n",
              "      <th>Reviews</th>\n",
              "      <th>Review Votes</th>\n",
              "      <th>Punctuation</th>\n",
              "      <th>Removingstopwords</th>\n",
              "      <th>Numerics</th>\n",
              "      <th>lowercase</th>\n",
              "      <th>Stemming</th>\n",
              "      <th>Final_text</th>\n",
              "      <th>Tfidf Clus Label</th>\n",
              "    </tr>\n",
              "  </thead>\n",
              "  <tbody>\n",
              "    <tr>\n",
              "      <th>0</th>\n",
              "      <td>99695</td>\n",
              "      <td>BlackBerry RCK71CW 9550 Unlocked Phone with Wi...</td>\n",
              "      <td>BlackBerry</td>\n",
              "      <td>29.99</td>\n",
              "      <td>1</td>\n",
              "      <td>i am disappointed in the seller of this phone ...</td>\n",
              "      <td>NaN</td>\n",
              "      <td>i am disappointed in the seller of this phone ...</td>\n",
              "      <td>disappointed seller phone purchase phone new p...</td>\n",
              "      <td>disappointed seller phone purchase phone new p...</td>\n",
              "      <td>disappointed seller phone purchase phone new p...</td>\n",
              "      <td>disappoint seller phone purchas phone new prob...</td>\n",
              "      <td>disappoint seller phone purchas phone new prob...</td>\n",
              "      <td>0</td>\n",
              "    </tr>\n",
              "    <tr>\n",
              "      <th>1</th>\n",
              "      <td>282580</td>\n",
              "      <td>Otterbox Defender Series Protective Case for S...</td>\n",
              "      <td>NaN</td>\n",
              "      <td>49.95</td>\n",
              "      <td>5</td>\n",
              "      <td>Great product, highly recommend!!!!!</td>\n",
              "      <td>0.0</td>\n",
              "      <td>Great product, highly recommend!!!!!</td>\n",
              "      <td>Great product, highly recommend!!!!!</td>\n",
              "      <td>Great product, highly recommend!!!!!</td>\n",
              "      <td>great product, highly recommend!!!!!</td>\n",
              "      <td>great product, highli recommend!!!!!</td>\n",
              "      <td>great product, highli recommend!!!!!</td>\n",
              "      <td>3</td>\n",
              "    </tr>\n",
              "    <tr>\n",
              "      <th>2</th>\n",
              "      <td>181555</td>\n",
              "      <td>FIGO Atrium 5.5 - Dual Micro SIM Unlocked 16GB...</td>\n",
              "      <td>FIGO</td>\n",
              "      <td>93.49</td>\n",
              "      <td>5</td>\n",
              "      <td>It worked fine for 2 days then it stopped read...</td>\n",
              "      <td>0.0</td>\n",
              "      <td>It worked fine for 2 days then it stopped read...</td>\n",
              "      <td>It worked fine 2 days stopped reading sims ......</td>\n",
              "      <td>It worked fine  days stopped reading sims .......</td>\n",
              "      <td>it worked fine days stopped reading sims ....i...</td>\n",
              "      <td>it work fine day stop read sim ....i stop shop...</td>\n",
              "      <td>it work fine day stop read sim ....i stop shop...</td>\n",
              "      <td>0</td>\n",
              "    </tr>\n",
              "    <tr>\n",
              "      <th>3</th>\n",
              "      <td>387256</td>\n",
              "      <td>Smart Watch,[U.S. Warranty]JoyGeek All-in-1 Bl...</td>\n",
              "      <td>JoyGeek</td>\n",
              "      <td>49.41</td>\n",
              "      <td>3</td>\n",
              "      <td>Does more then I thought. Bluetooth function w...</td>\n",
              "      <td>1.0</td>\n",
              "      <td>Does more then I thought. Bluetooth function w...</td>\n",
              "      <td>Does I thought. Bluetooth function works well....</td>\n",
              "      <td>Does I thought. Bluetooth function works well....</td>\n",
              "      <td>does i thought. bluetooth function works well....</td>\n",
              "      <td>doe i thought. bluetooth function work well. i...</td>\n",
              "      <td>doe i thought. bluetooth function work well. i...</td>\n",
              "      <td>0</td>\n",
              "    </tr>\n",
              "    <tr>\n",
              "      <th>4</th>\n",
              "      <td>221785</td>\n",
              "      <td>LG G3 D855 Unlocked Cellphone, International V...</td>\n",
              "      <td>NaN</td>\n",
              "      <td>218.88</td>\n",
              "      <td>1</td>\n",
              "      <td>I bought the phone thinking it was original an...</td>\n",
              "      <td>2.0</td>\n",
              "      <td>I bought the phone thinking it was original an...</td>\n",
              "      <td>I bought phone thinking original began fail ne...</td>\n",
              "      <td>I bought phone thinking original began fail ne...</td>\n",
              "      <td>i bought phone thinking original began fail ne...</td>\n",
              "      <td>i bought phone think origin began fail next mo...</td>\n",
              "      <td>i bought phone think origin began fail next mo...</td>\n",
              "      <td>0</td>\n",
              "    </tr>\n",
              "    <tr>\n",
              "      <th>...</th>\n",
              "      <td>...</td>\n",
              "      <td>...</td>\n",
              "      <td>...</td>\n",
              "      <td>...</td>\n",
              "      <td>...</td>\n",
              "      <td>...</td>\n",
              "      <td>...</td>\n",
              "      <td>...</td>\n",
              "      <td>...</td>\n",
              "      <td>...</td>\n",
              "      <td>...</td>\n",
              "      <td>...</td>\n",
              "      <td>...</td>\n",
              "      <td>...</td>\n",
              "    </tr>\n",
              "    <tr>\n",
              "      <th>3995</th>\n",
              "      <td>108821</td>\n",
              "      <td>BLU Dash C Music-US GSM - Unlocked Cell Phone ...</td>\n",
              "      <td>BLU</td>\n",
              "      <td>54.99</td>\n",
              "      <td>4</td>\n",
              "      <td>excellent quality at a good price</td>\n",
              "      <td>0.0</td>\n",
              "      <td>excellent quality at a good price</td>\n",
              "      <td>excellent quality good price</td>\n",
              "      <td>excellent quality good price</td>\n",
              "      <td>excellent quality good price</td>\n",
              "      <td>excel qualiti good price</td>\n",
              "      <td>excel qualiti good price</td>\n",
              "      <td>4</td>\n",
              "    </tr>\n",
              "    <tr>\n",
              "      <th>3996</th>\n",
              "      <td>274546</td>\n",
              "      <td>Nokia Lumia 920 32GB Unlocked GSM Windows 8 Sm...</td>\n",
              "      <td>NaN</td>\n",
              "      <td>99.99</td>\n",
              "      <td>2</td>\n",
              "      <td>The Lumia 920 per se is a great phone. Althoug...</td>\n",
              "      <td>0.0</td>\n",
              "      <td>The Lumia 920 per se is a great phone. Althoug...</td>\n",
              "      <td>The Lumia 920 per se great phone. Although cou...</td>\n",
              "      <td>The Lumia  per se great phone. Although course...</td>\n",
              "      <td>the lumia per se great phone. although course ...</td>\n",
              "      <td>the lumia per se great phone. although cours n...</td>\n",
              "      <td>the lumia per se great phone. although cours n...</td>\n",
              "      <td>0</td>\n",
              "    </tr>\n",
              "    <tr>\n",
              "      <th>3997</th>\n",
              "      <td>335489</td>\n",
              "      <td>Samsung Galaxy S Duos II S7582 DUAL SIM Factor...</td>\n",
              "      <td>Samsung</td>\n",
              "      <td>299.99</td>\n",
              "      <td>5</td>\n",
              "      <td>At first I did not like it because I did know ...</td>\n",
              "      <td>0.0</td>\n",
              "      <td>At first I did not like it because I did know ...</td>\n",
              "      <td>At first I like I know use it. Now I enjoying.</td>\n",
              "      <td>At first I like I know use it. Now I enjoying.</td>\n",
              "      <td>at first i like i know use it. now i enjoying.</td>\n",
              "      <td>at first i like i know use it. now i enjoying.</td>\n",
              "      <td>at first i like i know use it. now i enjoying.</td>\n",
              "      <td>0</td>\n",
              "    </tr>\n",
              "    <tr>\n",
              "      <th>3998</th>\n",
              "      <td>104382</td>\n",
              "      <td>BLU Advance 4.0L Unlocked Smartphone -Global G...</td>\n",
              "      <td>BLU</td>\n",
              "      <td>149.99</td>\n",
              "      <td>1</td>\n",
              "      <td>This was one of the worst products I ever boug...</td>\n",
              "      <td>3.0</td>\n",
              "      <td>This was one of the worst products I ever boug...</td>\n",
              "      <td>This one worst products I ever bought. Only tw...</td>\n",
              "      <td>This one worst products I ever bought. Only tw...</td>\n",
              "      <td>this one worst products i ever bought. only tw...</td>\n",
              "      <td>thi one worst product i ever bought. onli two ...</td>\n",
              "      <td>thi one worst product i ever bought. onli two ...</td>\n",
              "      <td>0</td>\n",
              "    </tr>\n",
              "    <tr>\n",
              "      <th>3999</th>\n",
              "      <td>359371</td>\n",
              "      <td>Samsung Galaxy S5, White (Verizon Wireless) Ce...</td>\n",
              "      <td>Samsung</td>\n",
              "      <td>249.99</td>\n",
              "      <td>5</td>\n",
              "      <td>I got this phone two weeks ago because I dropp...</td>\n",
              "      <td>0.0</td>\n",
              "      <td>I got this phone two weeks ago because I dropp...</td>\n",
              "      <td>I got phone two weeks ago I dropped S3 water s...</td>\n",
              "      <td>I got phone two weeks ago I dropped S water st...</td>\n",
              "      <td>i got phone two weeks ago i dropped s water st...</td>\n",
              "      <td>i got phone two week ago i drop s water stop w...</td>\n",
              "      <td>i got phone two week ago i drop s water stop w...</td>\n",
              "      <td>0</td>\n",
              "    </tr>\n",
              "  </tbody>\n",
              "</table>\n",
              "<p>4000 rows × 14 columns</p>\n",
              "</div>"
            ],
            "text/plain": [
              "       index  ... Tfidf Clus Label\n",
              "0      99695  ...                0\n",
              "1     282580  ...                3\n",
              "2     181555  ...                0\n",
              "3     387256  ...                0\n",
              "4     221785  ...                0\n",
              "...      ...  ...              ...\n",
              "3995  108821  ...                4\n",
              "3996  274546  ...                0\n",
              "3997  335489  ...                0\n",
              "3998  104382  ...                0\n",
              "3999  359371  ...                0\n",
              "\n",
              "[4000 rows x 14 columns]"
            ]
          },
          "metadata": {
            "tags": []
          },
          "execution_count": 5
        }
      ]
    },
    {
      "cell_type": "code",
      "metadata": {
        "colab": {
          "base_uri": "https://localhost:8080/"
        },
        "id": "bsL6SgdvRsK-",
        "outputId": "3fef5c5c-95c2-420b-c442-6dab4fbcc9ec"
      },
      "source": [
        "df_2.groupby(['Tfidf Clus Label'])['Final_text'].count()"
      ],
      "execution_count": null,
      "outputs": [
        {
          "output_type": "execute_result",
          "data": {
            "text/plain": [
              "Tfidf Clus Label\n",
              "0    3253\n",
              "1     172\n",
              "2     170\n",
              "3     272\n",
              "4     133\n",
              "Name: Final_text, dtype: int64"
            ]
          },
          "metadata": {
            "tags": []
          },
          "execution_count": 6
        }
      ]
    },
    {
      "cell_type": "code",
      "metadata": {
        "colab": {
          "base_uri": "https://localhost:8080/"
        },
        "id": "jSlJ3wSZR2pN",
        "outputId": "cab55b19-bd01-41f8-cf02-2cc1d7891ff5"
      },
      "source": [
        "print(\"Top terms per cluster:\")\n",
        "order_centroids = model_tf.cluster_centers_.argsort()[:, ::-1]\n",
        "for i in range(1,5):\n",
        "    print(\"Cluster %d:\" % i, end='')\n",
        "    for ind in order_centroids[i, :5]:\n",
        "        print(' %s' % terms[ind], end='')\n",
        "        print()"
      ],
      "execution_count": null,
      "outputs": [
        {
          "output_type": "stream",
          "text": [
            "Top terms per cluster:\n",
            "Cluster 1: good\n",
            " veri\n",
            " product\n",
            " phone\n",
            " it\n",
            "Cluster 2: love\n",
            " it\n",
            " phone\n",
            " great\n",
            " new\n",
            "Cluster 3: great\n",
            " excelent\n",
            " phone\n",
            " work\n",
            " product\n",
            "Cluster 4: excel\n",
            " product\n",
            " thank\n",
            " phone\n",
            " price\n"
          ],
          "name": "stdout"
        }
      ]
    },
    {
      "cell_type": "code",
      "metadata": {
        "colab": {
          "base_uri": "https://localhost:8080/"
        },
        "id": "2MRdRbtoR_oO",
        "outputId": "b3efb3be-a392-4a65-c690-a77447e262fc"
      },
      "source": [
        "from sklearn.cluster import DBSCAN\n",
        "import numpy as np\n",
        "import matplotlib.pyplot as plt\n",
        "import gensim\n",
        "i=0\n",
        "list_of_sent=[]\n",
        "for sent in df_1['Final_text'].values:\n",
        "    list_of_sent.append(sent.split())\n",
        "w2v_model=gensim.models.Word2Vec(list_of_sent,size=100, workers=4)\n",
        "import numpy as np\n",
        "sent_vectors = [];\n",
        "for sent in list_of_sent:\n",
        "    sent_vec = np.zeros(100)\n",
        "    cnt_words =0;\n",
        "    for word in sent:\n",
        "        try:\n",
        "            vec = w2v_model.wv[word]\n",
        "            sent_vec += vec\n",
        "            cnt_words += 1\n",
        "        except:\n",
        "            pass\n",
        "    sent_vec /= cnt_words\n",
        "    sent_vectors.append(sent_vec)\n",
        "sent_vectors = np.array(sent_vectors)\n",
        "sent_vectors = np.nan_to_num(sent_vectors)\n",
        "sent_vectors.shape"
      ],
      "execution_count": null,
      "outputs": [
        {
          "output_type": "stream",
          "text": [
            "/usr/local/lib/python3.7/dist-packages/ipykernel_launcher.py:22: RuntimeWarning: invalid value encountered in true_divide\n"
          ],
          "name": "stderr"
        },
        {
          "output_type": "execute_result",
          "data": {
            "text/plain": [
              "(4000, 100)"
            ]
          },
          "metadata": {
            "tags": []
          },
          "execution_count": 8
        }
      ]
    },
    {
      "cell_type": "code",
      "metadata": {
        "colab": {
          "base_uri": "https://localhost:8080/",
          "height": 517
        },
        "id": "9farU6OVSGx8",
        "outputId": "515266e4-7596-4ce1-83c9-f5f80e644ac0"
      },
      "source": [
        "minPts = 2 * 100\n",
        "model = DBSCAN(eps = 8, min_samples = minPts, n_jobs=-2)\n",
        "model.fit(sent_vectors)\n",
        "df_1['AVG-W2V Clus Label'] = model.labels_\n",
        "df_1.head(5)"
      ],
      "execution_count": null,
      "outputs": [
        {
          "output_type": "execute_result",
          "data": {
            "text/html": [
              "<div>\n",
              "<style scoped>\n",
              "    .dataframe tbody tr th:only-of-type {\n",
              "        vertical-align: middle;\n",
              "    }\n",
              "\n",
              "    .dataframe tbody tr th {\n",
              "        vertical-align: top;\n",
              "    }\n",
              "\n",
              "    .dataframe thead th {\n",
              "        text-align: right;\n",
              "    }\n",
              "</style>\n",
              "<table border=\"1\" class=\"dataframe\">\n",
              "  <thead>\n",
              "    <tr style=\"text-align: right;\">\n",
              "      <th></th>\n",
              "      <th>index</th>\n",
              "      <th>Product Name</th>\n",
              "      <th>Brand Name</th>\n",
              "      <th>Price</th>\n",
              "      <th>Rating</th>\n",
              "      <th>Reviews</th>\n",
              "      <th>Review Votes</th>\n",
              "      <th>Punctuation</th>\n",
              "      <th>Removingstopwords</th>\n",
              "      <th>Numerics</th>\n",
              "      <th>lowercase</th>\n",
              "      <th>Stemming</th>\n",
              "      <th>Final_text</th>\n",
              "      <th>Tfidf Clus Label</th>\n",
              "      <th>AVG-W2V Clus Label</th>\n",
              "    </tr>\n",
              "  </thead>\n",
              "  <tbody>\n",
              "    <tr>\n",
              "      <th>0</th>\n",
              "      <td>99695</td>\n",
              "      <td>BlackBerry RCK71CW 9550 Unlocked Phone with Wi...</td>\n",
              "      <td>BlackBerry</td>\n",
              "      <td>29.99</td>\n",
              "      <td>1</td>\n",
              "      <td>i am disappointed in the seller of this phone ...</td>\n",
              "      <td>NaN</td>\n",
              "      <td>i am disappointed in the seller of this phone ...</td>\n",
              "      <td>disappointed seller phone purchase phone new p...</td>\n",
              "      <td>disappointed seller phone purchase phone new p...</td>\n",
              "      <td>disappointed seller phone purchase phone new p...</td>\n",
              "      <td>disappoint seller phone purchas phone new prob...</td>\n",
              "      <td>disappoint seller phone purchas phone new prob...</td>\n",
              "      <td>0</td>\n",
              "      <td>0</td>\n",
              "    </tr>\n",
              "    <tr>\n",
              "      <th>1</th>\n",
              "      <td>282580</td>\n",
              "      <td>Otterbox Defender Series Protective Case for S...</td>\n",
              "      <td>NaN</td>\n",
              "      <td>49.95</td>\n",
              "      <td>5</td>\n",
              "      <td>Great product, highly recommend!!!!!</td>\n",
              "      <td>0.0</td>\n",
              "      <td>Great product, highly recommend!!!!!</td>\n",
              "      <td>Great product, highly recommend!!!!!</td>\n",
              "      <td>Great product, highly recommend!!!!!</td>\n",
              "      <td>great product, highly recommend!!!!!</td>\n",
              "      <td>great product, highli recommend!!!!!</td>\n",
              "      <td>great product, highli recommend!!!!!</td>\n",
              "      <td>3</td>\n",
              "      <td>0</td>\n",
              "    </tr>\n",
              "    <tr>\n",
              "      <th>2</th>\n",
              "      <td>181555</td>\n",
              "      <td>FIGO Atrium 5.5 - Dual Micro SIM Unlocked 16GB...</td>\n",
              "      <td>FIGO</td>\n",
              "      <td>93.49</td>\n",
              "      <td>5</td>\n",
              "      <td>It worked fine for 2 days then it stopped read...</td>\n",
              "      <td>0.0</td>\n",
              "      <td>It worked fine for 2 days then it stopped read...</td>\n",
              "      <td>It worked fine 2 days stopped reading sims ......</td>\n",
              "      <td>It worked fine  days stopped reading sims .......</td>\n",
              "      <td>it worked fine days stopped reading sims ....i...</td>\n",
              "      <td>it work fine day stop read sim ....i stop shop...</td>\n",
              "      <td>it work fine day stop read sim ....i stop shop...</td>\n",
              "      <td>0</td>\n",
              "      <td>0</td>\n",
              "    </tr>\n",
              "    <tr>\n",
              "      <th>3</th>\n",
              "      <td>387256</td>\n",
              "      <td>Smart Watch,[U.S. Warranty]JoyGeek All-in-1 Bl...</td>\n",
              "      <td>JoyGeek</td>\n",
              "      <td>49.41</td>\n",
              "      <td>3</td>\n",
              "      <td>Does more then I thought. Bluetooth function w...</td>\n",
              "      <td>1.0</td>\n",
              "      <td>Does more then I thought. Bluetooth function w...</td>\n",
              "      <td>Does I thought. Bluetooth function works well....</td>\n",
              "      <td>Does I thought. Bluetooth function works well....</td>\n",
              "      <td>does i thought. bluetooth function works well....</td>\n",
              "      <td>doe i thought. bluetooth function work well. i...</td>\n",
              "      <td>doe i thought. bluetooth function work well. i...</td>\n",
              "      <td>0</td>\n",
              "      <td>0</td>\n",
              "    </tr>\n",
              "    <tr>\n",
              "      <th>4</th>\n",
              "      <td>221785</td>\n",
              "      <td>LG G3 D855 Unlocked Cellphone, International V...</td>\n",
              "      <td>NaN</td>\n",
              "      <td>218.88</td>\n",
              "      <td>1</td>\n",
              "      <td>I bought the phone thinking it was original an...</td>\n",
              "      <td>2.0</td>\n",
              "      <td>I bought the phone thinking it was original an...</td>\n",
              "      <td>I bought phone thinking original began fail ne...</td>\n",
              "      <td>I bought phone thinking original began fail ne...</td>\n",
              "      <td>i bought phone thinking original began fail ne...</td>\n",
              "      <td>i bought phone think origin began fail next mo...</td>\n",
              "      <td>i bought phone think origin began fail next mo...</td>\n",
              "      <td>0</td>\n",
              "      <td>0</td>\n",
              "    </tr>\n",
              "  </tbody>\n",
              "</table>\n",
              "</div>"
            ],
            "text/plain": [
              "    index  ... AVG-W2V Clus Label\n",
              "0   99695  ...                  0\n",
              "1  282580  ...                  0\n",
              "2  181555  ...                  0\n",
              "3  387256  ...                  0\n",
              "4  221785  ...                  0\n",
              "\n",
              "[5 rows x 15 columns]"
            ]
          },
          "metadata": {
            "tags": []
          },
          "execution_count": 9
        }
      ]
    },
    {
      "cell_type": "code",
      "metadata": {
        "colab": {
          "base_uri": "https://localhost:8080/"
        },
        "id": "reLovPWmSMGm",
        "outputId": "be05b6ef-fd20-4774-c432-14e9c0038c75"
      },
      "source": [
        "from sklearn.cluster import AgglomerativeClustering\n",
        "\n",
        "cluster = AgglomerativeClustering(n_clusters=7, affinity='euclidean', linkage='ward')  \n",
        "Agg=cluster.fit_predict(sent_vectors)\n",
        "df_1['AVG-W2V Clus Label'] = cluster.labels_\n",
        "df_1.head(2)\n",
        "df_1.groupby(['AVG-W2V Clus Label'])['Final_text'].count()\n",
        "for i in range(5):\n",
        "    print(\"Example for two reviews assigned to cluster \", i)\n",
        "    print(\"-\" * 70)\n",
        "    print(df_1.iloc[df_1.groupby(['AVG-W2V Clus Label']).groups[i][0]]['Final_text'])\n",
        "    print('\\n')\n",
        "    print(df_1.iloc[df_1.groupby(['AVG-W2V Clus Label']).groups[i][1]]['Final_text'])\n",
        "    print('\\n')\n",
        "    print(\"_\" * 70)"
      ],
      "execution_count": null,
      "outputs": [
        {
          "output_type": "stream",
          "text": [
            "Example for two reviews assigned to cluster  0\n",
            "----------------------------------------------------------------------\n",
            "it work fine day stop read sim ....i stop shop amazon\n",
            "\n",
            "\n",
            "great phone\n",
            "\n",
            "\n",
            "______________________________________________________________________\n",
            "Example for two reviews assigned to cluster  1\n",
            "----------------------------------------------------------------------\n",
            "ok\n",
            "\n",
            "\n",
            "el producto fue recibido en excelent condicion parec nuevo se maneja muy bien con el sistema lo recomiendo ampliament\n",
            "\n",
            "\n",
            "______________________________________________________________________\n",
            "Example for two reviews assigned to cluster  2\n",
            "----------------------------------------------------------------------\n",
            "doe i thought. bluetooth function work well. it turn self self function work sim card fit. i believ watch made u.s. sim card.\n",
            "\n",
            "\n",
            "i bought phone think origin began fail next month, work multitask key home , receiv call . i took servic told phone refurbish softwar problems, accept reinstal softwar\n",
            "\n",
            "\n",
            "______________________________________________________________________\n",
            "Example for two reviews assigned to cluster  3\n",
            "----------------------------------------------------------------------\n",
            "excelent.\n",
            "\n",
            "\n",
            "espect\n",
            "\n",
            "\n",
            "______________________________________________________________________\n",
            "Example for two reviews assigned to cluster  4\n",
            "----------------------------------------------------------------------\n",
            "disappoint seller phone purchas phone new problem bring phone technician check open told phone use phone work , type mad stop peopl work hard money way treated, disappoint purchas . the problem phone freez touch screen gone bad\n",
            "\n",
            "\n",
            "amazingly, product work perfectly, i recommend everyone.\n",
            "\n",
            "\n",
            "______________________________________________________________________\n"
          ],
          "name": "stdout"
        }
      ]
    },
    {
      "cell_type": "markdown",
      "metadata": {
        "id": "O9LJHSBHPxUv"
      },
      "source": [
        "In one paragraph, please compare K means, DBSCAN and Hierarchical clustering. "
      ]
    },
    {
      "cell_type": "code",
      "metadata": {
        "id": "wx2K_IeGPxUz"
      },
      "source": [
        "When you have unlabeled data, Kmeans clustering is used because it is a form of unsupervised learning. The aim of this algorithm is to find groups in the data, with K representing the number of groups.\n",
        "DBSCAN is a clustering tool used in machine learning to distinguish high-density clusters from low-density clusters.\n",
        "Hierarchical clustering, also known as hierarchical cluster analysis, is a method of grouping related objects into clusters.\n",
        "Differences I noticed among them are that we know kmeans clusters unlabeled data, but when it comes to hirerarchical, \n",
        "it repeatedly links pairs of clusters until any data object is included in the hierarchy, while the relationship between clusters\n",
        "in the kmeans algorithm is undetermined.Radius(R) and Minimum Points are the two parameters needed (M)and\n",
        "R chooses a radius large enough to contain a dense area if there are enough points within it.\n",
        "The minimum number of data points needed in a neighborhood to be classified as a cluster is determined by M.\n",
        "The Kmeans clustering algorithm is unaffected by data point densities, and it only includes a certain number of clusters (K)\n",
        "\n",
        "\n"
      ],
      "execution_count": null,
      "outputs": []
    }
  ]
}