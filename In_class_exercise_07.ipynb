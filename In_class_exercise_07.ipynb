{
  "nbformat": 4,
  "nbformat_minor": 0,
  "metadata": {
    "kernelspec": {
      "display_name": "Python 3",
      "language": "python",
      "name": "python3"
    },
    "language_info": {
      "codemirror_mode": {
        "name": "ipython",
        "version": 3
      },
      "file_extension": ".py",
      "mimetype": "text/x-python",
      "name": "python",
      "nbconvert_exporter": "python",
      "pygments_lexer": "ipython3",
      "version": "3.8.5"
    },
    "colab": {
      "name": "In_class_exercise_07.ipynb",
      "provenance": [],
      "toc_visible": true,
      "include_colab_link": true
    }
  },
  "cells": [
    {
      "cell_type": "markdown",
      "metadata": {
        "id": "view-in-github",
        "colab_type": "text"
      },
      "source": [
        "<a href=\"https://colab.research.google.com/github/PriyankaMittapelly/SaiPriyanka_INFO5731_Spring2020/blob/main/In_class_exercise_07.ipynb\" target=\"_parent\"><img src=\"https://colab.research.google.com/assets/colab-badge.svg\" alt=\"Open In Colab\"/></a>"
      ]
    },
    {
      "cell_type": "markdown",
      "metadata": {
        "id": "_NoJk3U3d_oG"
      },
      "source": [
        "# **The seventh in-class-exercise (20 points in total, 3/16/2021)**"
      ]
    },
    {
      "cell_type": "markdown",
      "metadata": {
        "id": "mmmWCmY6d_oQ"
      },
      "source": [
        "Question description: In the last in-class-exercise (exercise-06), you collected the titles of 100 articles about data science, natural language processing, and machine learning. The 100 article titles will be used as the text corpus of this exercise. Perform the following tasks:"
      ]
    },
    {
      "cell_type": "markdown",
      "metadata": {
        "id": "uXaIRbsAd_oR"
      },
      "source": [
        "## (1) (8 points) Generate K topics by using LDA, the number of topics K should be decided by the coherence score, then summarize what are the topics. You may refer the code here: \n",
        "\n",
        "https://www.machinelearningplus.com/nlp/topic-modeling-gensim-python/"
      ]
    },
    {
      "cell_type": "code",
      "metadata": {
        "colab": {
          "base_uri": "https://localhost:8080/"
        },
        "id": "DZ4Aks1fiqcg",
        "outputId": "27f2c95e-ec06-4bca-a42a-873420fe5ea0"
      },
      "source": [
        "import re\n",
        "import os\n",
        "import numpy as np\n",
        "import pandas as pd\n",
        "from pprint import pprint\n",
        "import nltk\n",
        "nltk.download('stopwords')\n",
        "\n",
        "# Gensim\n",
        "import gensim\n",
        "import gensim.corpora as corpora\n",
        "from gensim.utils import simple_preprocess\n",
        "from gensim.models import CoherenceModel\n",
        "\n",
        "# spacy for lemmatization\n",
        "import spacy\n",
        "\n",
        "# Plotting tools\n",
        "import pyLDAvis\n",
        "import pyLDAvis.gensim  # don't skip this\n",
        "import matplotlib.pyplot as plt\n",
        "%matplotlib inline\n",
        "\n",
        "# Enable logging for gensim - optional\n",
        "import logging\n",
        "logging.basicConfig(format='%(asctime)s : %(levelname)s : %(message)s', level=logging.ERROR)\n",
        "\n",
        "import warnings\n",
        "warnings.filterwarnings(\"ignore\",category=DeprecationWarning)\n"
      ],
      "execution_count": 12,
      "outputs": [
        {
          "output_type": "stream",
          "text": [
            "[nltk_data] Downloading package stopwords to /root/nltk_data...\n",
            "[nltk_data]   Package stopwords is already up-to-date!\n"
          ],
          "name": "stdout"
        }
      ]
    },
    {
      "cell_type": "code",
      "metadata": {
        "colab": {
          "base_uri": "https://localhost:8080/",
          "height": 1000
        },
        "id": "iAFCC6lXirXB",
        "outputId": "6b0bc795-7cec-4ea5-c4b5-25ab34812697"
      },
      "source": [
        "from nltk.corpus import stopwords\n",
        "stop_words = stopwords.words('english')\n",
        "stop_words.extend(['from', 'subject', 're', 'edu', 'use'])\n",
        "\n",
        "df = pd.read_csv('/content/Abstract1.csv')\n",
        "\n",
        "df.head(101)\n",
        "\n",
        "# Convert to list\n",
        "data = df['Abstract'].tolist()\n",
        "\n",
        "# Remove Emails\n",
        "data = [re.sub('\\S*@\\S*\\s?', '', sent) for sent in data]\n",
        "\n",
        "# Remove new line characters\n",
        "data = [re.sub('\\s+', ' ', sent) for sent in data]\n",
        "\n",
        "# Remove distracting single quotes\n",
        "data = [re.sub(\"\\'\", \"\", sent) for sent in data]\n",
        "\n",
        "print(data)\n",
        "\n",
        "def sent_to_words(sentences):\n",
        "    for sentence in sentences:\n",
        "        yield(gensim.utils.simple_preprocess(str(sentence), deacc=True))  # deacc=True removes punctuations\n",
        "\n",
        "data_words = list(sent_to_words(data))\n",
        "\n",
        "print(data_words)\n",
        "\n",
        "bigram = gensim.models.Phrases(data_words, min_count=5, threshold=100) # higher threshold fewer phrases.\n",
        "trigram = gensim.models.Phrases(bigram[data_words], threshold=100)  \n",
        "\n",
        "# Faster way to get a sentence clubbed as a trigram/bigram\n",
        "bigram_mod = gensim.models.phrases.Phraser(bigram)\n",
        "trigram_mod = gensim.models.phrases.Phraser(trigram)\n",
        "\n",
        "# See trigram example\n",
        "print(trigram_mod[bigram_mod[data_words]])\n",
        "\n",
        "def remove_stopwords(texts):\n",
        "    return [[word for word in simple_preprocess(str(doc)) if word not in stop_words] for doc in texts]\n",
        "\n",
        "def make_bigrams(texts):\n",
        "    return [bigram_mod[doc] for doc in texts]\n",
        "\n",
        "def make_trigrams(texts):\n",
        "    return [trigram_mod[bigram_mod[doc]] for doc in texts]\n",
        "\n",
        "def lemmatization(texts, allowed_postags=['NOUN', 'ADJ', 'VERB', 'ADV']):\n",
        "    \"\"\"https://spacy.io/api/annotation\"\"\"\n",
        "    texts_out = []\n",
        "    for sent in texts:\n",
        "        doc = nlp(\" \".join(sent)) \n",
        "        texts_out.append([token.lemma_ for token in doc if token.pos_ in allowed_postags])\n",
        "    return texts_out\n",
        "\n",
        "\n",
        "# Remove Stop Words\n",
        "data_words_nostops = remove_stopwords(data_words)\n",
        "\n",
        "# Form Bigrams\n",
        "data_words_bigrams = make_bigrams(data_words_nostops)\n",
        "\n",
        "# Initialize spacy 'en' model, keeping only tagger component (for efficiency)\n",
        "# python3 -m spacy download en\n",
        "nlp = spacy.load('en', disable=['parser', 'ner'])\n",
        "\n",
        "# Do lemmatization keeping only noun, adj, vb, adv\n",
        "clean_text = lemmatization(data_words_bigrams, allowed_postags=['NOUN', 'ADJ', 'VERB', 'ADV'])\n",
        "\n",
        "print(clean_text)\n",
        "\n",
        "# Create Dictionary\n",
        "id2word = corpora.Dictionary(clean_text)\n",
        "\n",
        "# Create Corpus\n",
        "texts = clean_text\n",
        "\n",
        "# Term Document Frequency\n",
        "corpus = [id2word.doc2bow(text) for text in texts]\n",
        "\n",
        "# View\n",
        "print(corpus[:1])\n",
        "\n",
        "[[(id2word[id], freq) for id, freq in cp] for cp in corpus]\n",
        "\n",
        "# Build LDA model\n",
        "lda_model = gensim.models.ldamodel.LdaModel(corpus=corpus,\n",
        "                                           id2word=id2word,\n",
        "                                           num_topics=20, \n",
        "                                           random_state=100,\n",
        "                                           update_every=1,\n",
        "                                           chunksize=100,\n",
        "                                           passes=10,\n",
        "                                           alpha='auto',\n",
        "                                           per_word_topics=True)\n",
        "\n",
        "print(lda_model.print_topics())\n",
        "doc_lda = lda_model[corpus]\n",
        "\n",
        "\n",
        "# Compute Perplexity\n",
        "print('\\nPerplexity: ', lda_model.log_perplexity(corpus))  # a measure of how good the model is. lower the better.\n",
        "\n",
        "# Compute Coherence Score\n",
        "coherence_model_lda = CoherenceModel(model=lda_model, texts=clean_text, dictionary=id2word, coherence='c_v')\n",
        "coherence_lda = coherence_model_lda.get_coherence()\n",
        "print('\\nCoherence Score: ', coherence_lda)\n",
        "\n",
        "\n",
        "pyLDAvis.enable_notebook()\n",
        "vis = pyLDAvis.gensim.prepare(lda_model, corpus, id2word)\n",
        "vis\n",
        "\n",
        "\n",
        "\n",
        "import os     \n",
        "def install_java():\n",
        "  !apt-get install -y openjdk-8-jdk-headless -qq > /dev/null      \n",
        "  os.environ[\"JAVA_HOME\"] = \"/usr/lib/jvm/java-8-openjdk-amd64\"     #set environment variable\n",
        "  !java -version       \n",
        "install_java()\n",
        "!wget http://mallet.cs.umass.edu/dist/mallet-2.0.8.zip\n",
        "!unzip mallet-2.0.8.zip\n",
        "\n",
        "import os\n",
        "mallet_path = '/content/mallet-2.0.8/bin/mallet'\n",
        "ldamallet = gensim.models.wrappers.LdaMallet(mallet_path, corpus=corpus, num_topics=20, id2word=id2word)\n",
        "\n",
        "# Show Topics\n",
        "pprint(ldamallet.show_topics(formatted=False))\n",
        "\n",
        "# Compute Coherence Score\n",
        "coherence_model_ldamallet = CoherenceModel(model=ldamallet, texts=clean_text, dictionary=id2word, coherence='c_v')\n",
        "coherence_ldamallet = coherence_model_ldamallet.get_coherence()\n",
        "print('\\nCoherence Score: ', coherence_ldamallet)\n",
        "\n",
        "\n",
        "def compute_coherence_values(dictionary, corpus, texts, limit, start=2, step=3):\n",
        "   \n",
        "    coherence_values = []\n",
        "    model_list = []\n",
        "    for num_topics in range(start, limit, step):\n",
        "        model = gensim.models.wrappers.LdaMallet(mallet_path, corpus=corpus, num_topics=num_topics, id2word=id2word)\n",
        "        model_list.append(model)\n",
        "        coherencemodel = CoherenceModel(model=model, texts=texts, dictionary=dictionary, coherence='c_v')\n",
        "        coherence_values.append(coherencemodel.get_coherence())\n",
        "\n",
        "    return model_list, coherence_values\n",
        "\n",
        "model_list, coherence_values = compute_coherence_values(dictionary=id2word, corpus=corpus, texts=clean_text, start=2, limit=40, step=6)\n",
        "\n",
        "\n",
        "limit=40; start=2; step=6;\n",
        "x = range(start, limit, step)\n",
        "plt.plot(x, coherence_values)\n",
        "plt.xlabel(\"Num Topics\")\n",
        "plt.ylabel(\"Coherence score\")\n",
        "plt.legend((\"coherence_values\"), loc='best')\n",
        "plt.show()\n",
        "\n",
        "for m, cv in zip(x, coherence_values):\n",
        "    print(\"Num Topics =\", m, \" has Coherence Value of\", round(cv, 4))\n",
        "\n",
        "optimal_model = model_list[3]\n",
        "model_topics = optimal_model.show_topics(formatted=False)\n",
        "print(optimal_model.print_topics(num_words=10))\n",
        "\n",
        "\n",
        "def format_topics_sentences(ldamodel=lda_model, corpus=corpus, texts=data):\n",
        "    # Init output\n",
        "    sent_topics_df = pd.DataFrame()\n",
        "\n",
        "    # Get main topic in each document\n",
        "    for i, row in enumerate(ldamodel[corpus]):\n",
        "        row = sorted(row, key=lambda x: (x[1]), reverse=True)\n",
        "        # Get the Dominant topic, Perc Contribution and Keywords for each document\n",
        "        for j, (topic_num, prop_topic) in enumerate(row):\n",
        "            if j == 0:  # => dominant topic\n",
        "                wp = ldamodel.show_topic(topic_num)\n",
        "                topic_keywords = \", \".join([word for word, prop in wp])\n",
        "                sent_topics_df = sent_topics_df.append(pd.Series([int(topic_num), round(prop_topic,4), topic_keywords]), ignore_index=True)\n",
        "            else:\n",
        "                break\n",
        "    sent_topics_df.columns = ['Dominant_Topic', 'Perc_Contribution', 'Topic_Keywords']\n",
        "\n",
        "    # Add original text to the end of the output\n",
        "    contents = pd.Series(texts)\n",
        "    sent_topics_df = pd.concat([sent_topics_df, contents], axis=1)\n",
        "    return(sent_topics_df)\n",
        "\n",
        "\n",
        "df_topic_sents_keywords = format_topics_sentences(ldamodel=optimal_model, corpus=corpus, texts=data)\n",
        "\n",
        "# Format\n",
        "df_dominant_topic = df_topic_sents_keywords.reset_index()\n",
        "df_dominant_topic.columns = ['Document_No', 'Dominant_Topic', 'Topic_Perc_Contrib', 'Keywords', 'Text']\n",
        "\n",
        "# Show\n",
        "df_dominant_topic.head()\n",
        "\n",
        "\n",
        "\n",
        "# Group top 5 sentences under each topic\n",
        "sent_topics_sorteddf_mallet = pd.DataFrame()\n",
        "\n",
        "sent_topics_outdf_grpd = df_topic_sents_keywords.groupby('Dominant_Topic')\n",
        "\n",
        "for i, grp in sent_topics_outdf_grpd:\n",
        "    sent_topics_sorteddf_mallet = pd.concat([sent_topics_sorteddf_mallet, \n",
        "                                             grp.sort_values(['Perc_Contribution'], ascending=[0]).head(1)], \n",
        "                                            axis=0)N\n",
        "\n",
        "# Reset Index    \n",
        "sent_topics_sorteddf_mallet.reset_index(drop=True, inplace=True)\n",
        "\n",
        "# Format\n",
        "sent_topics_sorteddf_mallet.columns = ['Topic_Num', \"Topic_Perc_Contrib\", \"Keywords\", \"Text\"]\n",
        "\n",
        "# Show\n",
        "sent_topics_sorteddf_mallet.head()"
      ],
      "execution_count": 15,
      "outputs": [
        {
          "output_type": "stream",
          "text": [
            "[' Abstract not found ', ' describe a method for statistical modeling based on maximum entropy. We present a maximum-likelihood approach for automatically constructing maximum entropy models and describe how to implement this approach efficiently, using as examples several problems in natural language processing. ', ' Scaling conditional random fields for natural language processing Terms and Conditions: Terms and Conditions: Copyright in works deposited in Minerva Access is retained by the ', ' The paper addresses the issue of cooperation between linguistics and natural language processing (NLP), in general, and between linguistics and machine translation (MT), in particular. It focuses on just one direction of such cooperation, namely applications of linguistics to NLP, virtually ', ' In most natural language processing applications, Description Logics have been used to encode in a knowledge base some syntactic, semantic, and pragmatic elements needed to drive the semantic interpretation and the natural language generation processes. More recently, Description Logics have been ', ' We propose a unified neural network architecture and learning algorithm that can be applied to various natural language processing tasks including part-of-speech tagging, chunking, named entity recognition, and semantic role labeling. This versatility is achieved by trying to avoid task ', ' Natural Language Processing The subject of Natural Language Processing can be considered in both broad and narrow senses. In the broad sense, it covers processing issues at all levels of natural language understanding, including speech recognition, syntactic and semantic analysis of sentences ', ' Robots that interact with humans face-to-face using natural language need to be responsive to the way humans use language in those situations. We propose a psychologicallyinspired natural language processing system for robots which performs incremental semantic interpretation of spoken utterances ', ' Natural languages are languages spoken by humans. Currently we are not yet at the point where these languages in all of their unprocessed forms can be understood by computers. Natural language processing is the collection of techniques employed to try and accomplish that goal. The field of natural ', ' ABSTRACT: Ambiguity can be referred as the ability of having more than one meaning or being understood in more than one way. Natural languages are ambiguous, so computers are not able to understand language the way people do. Natural Language Processing (NLP) is concerned with the development ', ' Introduction Statistical natural language processing (SNLP) is a field lying in the intersection of natural language processing and machine learning. SNLP di#ers from traditional natural language processing in that instead of having a linguist manually construct some model of a given linguistic ', ' text directly (rather than e.g. titles and abstracts), and suggests appropriate approaches to doing this, with a focus on the role of natural language processing. The paper also comments on possible connections with data and knowledge retrieval, and concludes by emphasizing the importance of rigorous ', ' ABSTRACT: Language is way of communicating your words Language helps in understanding the world,we get a better insight of the world. Language helps speakers to be as vague or as precise as they like. NLP Stands for natural language processing.. Natural languages are those languages that are spoken ', ' We report experiments on the use of standard natural language processing (NLP) tools for the analysis of music lyrics. A significant amount of music audio has lyrics. Lyrics encode an important part of the semantics of a song, therefore their analysis complements that of acoustic and cultural ', ' this paper, we will describe a simple rule-based approach to automated learning of linguistic knowledge. This approach has been shown for a number of tasks to capture information in a clearer and more direct fashion without a compromise in performance. We present a detailed case study of this learning method applied to part of speech tagging ', ' This paper focuses on connectionist models in natural language processing. We briefly present and discuss several aspects of high level tasks which recently have been approached with connectionism, either with localist or parallel distributed processing models. Several interesting architectures ', ' process of language understanding. This is a new approach in natural language processing based on the deterministic chaotic behavior of dynamical systems. 1 ', ' this paper (see [Schank 86] for a theoretical discussion and [Kass 86] and [Leake and Owens 86] for brief discussions of a program built around these .principles); the goal here is simply to point out how our interest in natural language processing has led us naturally, and indeed inevitably ', ' Objectives To provide an overview and tutorial of natural language processing (NLP) and modern NLP-system design. Target audience This tutorial targets the medical informatics generalist who has limited acquaintance with the principles behind NLP and/or limited knowledge of the current state ', ' This paper briefly describes the current implementation status of an intelligent information retrieval system, MARIE, that employs natural language processing techniques. Descriptive captions are used to iden- tify photographic images concerning various military projects. The captions are parsed ', ' based and literature resources. We describe here a system for agent directed natural language processing to extract information from journal articles. An interface was developed to permit curation of the NLP results and deposition of accepted results into a knowledge base. Motivation: The advent of high ', ' to evaluation in speech processing. Part 2 surveys significant evaluation work done so far, for instance in machine translation, and discusses the particular problems of generic system evaluation. The conclusion is that evaluation strategies and techniques for NLP need much more development, in particular ', ' similar to the way humans intuitively do in order to eliminate noisy content. In this paper, we describe a combination of HTML DOM analysis and Natural Language Processing (NLP) techniques for automated extractions of main article with associated images from web pages. ', ' Abstract-- Natural Language Processing is a theoretically motivated range of computational techniques for analysing and representing naturally occurring texts at one or more levels of linguistic analysis for the purpose of achieving human-like language processing for a range of tasks ', ' This paper reviews the processes involved in Natural Language Processing (NLP). It then demonstrates the various kinds of choices that need be taken during the execution of the word morphology, the syntactic text analysis, or text generation components. It compares the time complexity ', ' This article focusses on the derivation of large lexicons for natural language processing. We describe the development of a dictionary support environment linking a restructured version of the Longman Dictionary of Contemporary English to natural language processing systems. The process ', ' We introduce a method for analyzing the complexity of natural language processing tasks, and for predicting the difficulty new NLP tasks. Our complexity measures are derived from the Kolmogorov complexity of a class of automata — meaning automata, whose purpose is to extract relevant pieces ', ' , sounds, text and motion. The techniques developed from deep learning research have already been impacting the research of natural language process. This paper reviews the recent research on deep learning, its applications and recent development in natural language processing. 1 ', ' This is an author-produced version of a paper published in The ', ' Abstract—Natural language processing (NLP) is the application of automated parsing and machine learning techniques to analyze standard text. Applications of NLP to requirements engineering include extraction of ontologies from a requirements specification, and use of NLP to verify the consistency ', ' statistical baseline including: the forgiving nature but broad coverage of the typical retrieval task; the lack of good weighting schemes for compound index terms; and the implicit linguistic processing inherent in the statistical methods. Natural language processing techniques may be more important ', ' Work in computational linguistics began very soon after the development of the first computers (Booth, Brandwood and Cleave 1958), yet in the intervening four decades there has been a pervasive feeling that progress in computer understanding of natural language has not been commensurate ', ' the voice recognition for a natural language (Tamil) by combining the digital and mathematical knowledge using MFCC and DTW to extract and match the features to improve the accuracy for better performance. ', ' Abstract: Testing against natural language requirements is the standard approach for system and acceptance testing. This test is often performed by an independent test organization unfamiliar with the application area. The only things the testers have to go by are the written requirements. So ', ' Abstract not found ', ' conversational partners. But it also provides us with information about being creative, making associations, storytelling and language use. Many more subtleties in face-to-face and multiparty interaction can be added, such as using humor to persuade and dominate, to soften or avoid a face threatening act ', ' Abstract not found ', ' In recent years, machine learning (ML) has been used more and more to solve complex tasks in different disciplines, ranging from Data Mining to Information ', ' We argue that manual and automatic thesauruses are alternative resources for the same NLP tasks. This involves the radical step of interpreting manual thesauruses as classifications of words rather than word senses: the case for this is made. The range of roles for thesauruses within NLP is briefly presented and the WASPS thesaurus is introduced. Thesaurus evaluation is now becoming urgent. A range of evaluation strategies, all embedded within NLP tasks, is proposed. ', ' Introduction Patterns in music have been the object of intensive studies in the past years. \\\\One of the purposes of analyzing musical structure and form is to discover the patterns that are explicit or implicit in musical works\" Simon [13]. Patterns comprise periodicity, make use of alphabets, can be compound (made up of subpatterns) and possess phrase structure with various forms of punctuation. Traditionally, composers have employed pattern propagation intuitively, but algorithmic composition techniques allow the pattern propagation to be formalized, albeit a high level. During composition, all the musical patterns evolve according to the rules and constraints specied at the design stage. In jazz improvisation, the musician invents a solo guided by a progression of chords (the changes). One approach [1] to learn improvising is to memorize patterns (short chunks of music) that t sub-progressions, and to concatenate them to form a whole solo that ts a whole progression. One ', ' Abstract Many information retrieval(IR) systems retrieve relevant documents based on exact matching of keywords between a query and documents. This method degrades precision rate. In order to solve the problem, we collected semantically related words and assigned semantic relationships used in general thesaurus and a special relationship called keyfact term(FT) manually. In addition to the semantic knowledge, we automatically constructed statistic knowledge based on the concept of mutual information. Keyfact is an extended concept of keyword represented by noun and compound noun. Keyfact can be a verb and an adjective including subject or object term. We first retrieved relevant documents with original query using tf * idf weighting formula and then an expanded query including keyfacts is used in both second document ranking and word sense disambiguating. So we made an improvement in precision rate using keyfact network. 1 ', ' this paper we argue that questionanswering (QA) over technical domains is distinctly different from TREC-based QA or Web-based QA and it cannot benefit lom data-intensive approaches ', ' Universit&quot;at des Saarlandes ', ' Proceedings of the Workshop on ', ' uni-hamburg.de ', ' Abstract not found ', ' Abstract not found ', ' SRI has developed a new architecture for integrating speech and natural-language processing that applies linguistic constraints during recognition by incrementally expanding the state-transition network embodied in a unification grammar. We compare this dynamic-gralnlnar-network (DGN) approach ', ' This chapter considers the revolution that has taken place in natural language processing research over the last five years. It begins by providing a brief guide to the structure of the field and then presents a caricature of two competing paradigms of 1980s NLP research and indicates the reasons ', ' visual development environment to support the visual assembly, execution and analysis of modular natural language processing systems. The visual model is an executable data flow program graph, automatically synthesised from data dependency declarations of language processing modules. The graph ', ' In this Chapter the basic uses of Description Logics for Natural Language Processing will be analysed, together with a little bit of history, and the role of Description Logics in the current state of the art in computational linguistics will be pointed out. 18.1 Introduction Since the early days ', ' We applied a structure learning model, Max-Margin Structure (MMS), to natural language processing (NLP) tasks, where the aim is to capture the latent relationships within the output language domain. We formulate this model as an extension of multi–class Support Vector Machine (SVM) and present a ', ' -mation Infrastructure, digital libraries, networked services, digital convergence or intelligent agents. This attention is moving natural language processing along the critical path for all kinds of novel applications. This article will mention a number of successful applications of natural language processing (NLP ', ' Over the last few years, a number of areas of natural language processing have begun applying graph-based techniques. These include, among others, text summarization, syntactic parsing, word sense disambiguation, ontology construction, sentiment and subjectivity analysis, text clustering ', ' In Natural Language Processing (NLP), research results from software engineering and software technology have often been neglected. ', ' of kernelized sorting to increase its robustness and performance on several Natural Language Processing (NLP) tasks: document matching from parallel and comparable corpora, machine transliteration and even image processing. Empirically we show that, on these tasks, a semi-supervised variant of kernelized ', ' will be structured. In the words of statistical natural language processing, we need a sophisticated statistical model of the basic elements, such as words or phrases, to be combined with the structural modeling such as syntactic parsing or dependency analysis. Since the basic property of these elements ', ' In this paper, we describe a framework for developing probabilistic classifiers in natural language processing. Our focus is on formulating models that capture the most important interdependencies among features, to avoid overfitting the data while also characterizing the data well. The class ', ' Many Natural Language Processing (NLP) techniques have been used in Information Retrieval. The results are not encouraging. Simple methods (stopwording, porter-style stemming, etc.) usually yield significant improvements, while higher-level processing (chunking, parsing, word sense disambiguation ', ' Abstract- This paper explains the information retrieval using natural language processing for Malayalam language in these basic ', ' in the state of the art plan recognition systems. This paper will outline the relations between natural language processing(NLP) and plan recognition(PR), argue that each of them can effectively inform the other, and then focus on key recent research results in NLP and argue for their applicability to PR. 1 ', ' in the state of the art plan recognition systems. This paper will outline the relations between natural language processing(NLP) and plan recognition(PR), argue that each of them can effectively inform the other, and then focus on key recent research results in NLP and argue for their applicability to PR. 1 ', ' Information retrieval is the process of finding the documents in a document collection that satisfies the information need of the user. The documents are natural language constructs, and the motivation of this work is to investigate how natural language processing can be used to improve ', ' of logic programming within both natural language research and machine learning, we point out opportunities for induction of linguistic knowledge within logic (programming). Keywords: inductive logic programming, natural language processing, logic programming, machine learning. 1 Introduction There is a ', ' What is a statistical method and how can it be used in natural language processing (NLP)? In this paper, we start from a definition of NLP as concerned with the design and implementation of effective natural language input and output components for computational systems. We distinguish three ', ' In this report, some collaborative work between the fields of Machine Learning (ML) and Natural Language Processing (NLP) is presented. The document is structured in two parts. The first part includes a superficial but comprehensive survey covering the state--of--the--art of machine learning ', ' Abstract. This thesis examines the use of machine learning techniques in various tasks of natural language processing, mainly for the task of information extraction from texts. The objectives are the improvement of adaptability of information extraction systems to new thematic do-mains (or even ', ' This chapter examines the application of natural language processing to computerassisted language learning including the history of work in this field over the last thirtyfive years but with a focus on current developments and opportunities. 36.1 ', ' Traditional approaches tointerpretation in natural language processing typically fall into one of three classes: syntax-driven, semantics-driven, or frame/task based. Syntax-driven approaches use a domain-independent grammar to drive the interpretation process and produce a global parse ', ' Natural Language Processing (NLP) is a very large and diverse subtopic of artificial intelligence. As a result, NLP itself has many subtopics including optical character recognition, text to speech translators, foreign language reading and writing aids, machine translation, and speech recognition ', ' Probabilistic finite-state string transducers (FSTs) are extremely popular in natural language processing, due to powerful generic methods for applying, composing, and learning them. Unfortunately, FSTs are not a good fit for much of the current work on probabilistic modeling for machine ', ' ABSTRACT. In this special issue of TAL, we look at the fundamental principles underlying evaluation in natural language processing. We adopt a global point of view that goes beyond the horizon of a single evaluation campaign or a particular protocol. After a brief review of history and terminology ', ' Abstract not found ', ' Natural language processing systems (NLP) that extract clinical information from textual reports were shown to be effective for limited domains and for particular applications. Because an NLP system typically requires substantial resources to develop, it is beneficial if it is designed to be easily ', ' facts forms a link between IE, a recent development in Natural Language Processing, and logic programming with Prolog. 1 ', ' We describe a single convolutional neural network architecture that, given a sentence, outputs a host of language processing predictions: part-of-speech tags, chunks, named entity tags, semantic roles, semantically similar words and the likelihood that the sentence makes sense (grammatically ', ' We developed a prototype information retrieval system which uses advanced natural language processing techniques to enhance the effectiveness of traditional key-word based document retrieval. The backbone of our system is a statistical retrieval engine which performs automated indexing ', ' Abstract not found ', ' In this paper we will discuss several issues and requirements for enabling natural language processing systems to become context-adaptive. Given the fact that emerging systems feature speaker independent continuous speech recognition restricted to individual domains and are equipped with syntactic ', ' In Fall 2004 I introduced a new course called Applied Natural Language Processing, in which students acquire an understanding of which text analysis techniques are currently feasible for practical applications. ', ' Abstract not found ', ' Abstract: Natural language processing is the study of mathematical and computational modelling of various aspects of language and the improvement of a wide range of systems. Natural language is any language that arises as an innate facility for language possessed by the human intellect; it may ', ' Natural Language Processing (NLP), which is a branch of artificial intelligence, includes speech synthesis, Speech recognition, and Machine translation. Natural Language Processing has a wide range of applications in the Indian context. Most of the rural Indian community is unable to make use ', ' An Evaluation of LOLITA and related Natural Language Processing Systems Paul Callaghan Submitted to the University of Durham for the degree of Ph.D., August 1997 --------------------- This research addresses the question, \"how do we evaluate systems like LOLITA?\" LOLITA is the Natural ', ' Previous work demonstrated that Web counts can be used to approximate bigram counts, suggesting that Web-based frequencies should be useful for a wide variety of Natural Language Processing (NLP) tasks. However, only a limited number of tasks have so far been tested using Web-scale data sets ', ' This chapter examines the application of natural language processing to computerassisted language learning including the history of work in this field over the last thirtyfive years but with a focus on current developments and opportunities. 16.1 Introduction This chapter focuses on applications ', ' This paper describes a natural language system which improves its own performance through learning. The system processes short English narratives and is able to acquire, from a single narrative, a new schema for a stereotypical set of actions. During the understanding process, the system attempts ', ' We classify and review current approaches to software infrastructure for research, development and delivery of NLP systems. The task ', ' Confidence measures are a practical solution for improving the usefulness of Natural Language Processing applications. Confidence estimation is a generic machine learning approach for deriving confidence measures. We give an overview of the application of confidence estimation in various fields ', ' ! lex-sign sense-id : sense-id dictionary ? = \"LDOCE\" ! lex-sign sense-id : sense-id ldb-entry-no ? = \"12364\" ! lex-sign sense-id : sense-id sense-no ? = \"0\". When loaded into the LKB, (9) will be expanded into a fully-fledged representation for the transitive use of experience; by integrating word-specific information provided by (9) with the information encoded by the LKB type strict-trans-sign. Thus, although neither LDOCE, LLCE or the earlier subcategorised lexicon contain all the information about psychological verbs defined in Sanfilippo&aposs type system, by using the conjunction of information available from all three, it proved possible to effectively enrich this information at the same time as mapping it into a formal representation. 4.2.5 Towards a Multilingual LKB A goal of ACQUILEX is to demonstrate that an LKB can be produced that usefully exploits various MRD sources and integrates multilingual information. The use of a common LRL with a common type system, makes it possi... ', ' We describe the design and use of the Stanford CoreNLP toolkit, an extensible pipeline that provides core natural lan-guage analysis. This toolkit is quite widely used, both in the research NLP community and also among commercial and govern-ment users of open source NLP technol-ogy. We suggest ', ' Gaussian Processes (GPs) are a powerful mod-elling framework incorporating kernels and Bayesian inference, and are recognised as state-of-the-art for many machine learning tasks. ', ' : A fundamental issue in natural language processing is the prerequisite of an enormous quantity of preprogrammed knowledge concerning both the language and the domain under examination. Manual acquisition of this knowledge is tedious and error prone. Development of an automated acquisition ', ' \" that supports sophisticated natural language processing while significantly simplifying the interface between domain-specific knowledge and general linguis- tic resources. This paper presents the results of our experiences in designing and using the upper model in a variety of applications over the past 5 years ', ' into the same or neighboring map nodes. Nodes may thus be viewed as word categories. Although no a priori information about classes is given, during the self-organizing process a model of the word classes emerges. The central topic of the thesis is the use of the SOM in natural language processing. The approach ', ' This paper presents a workbench built by Priberam Informática for the development of the company’s natural language processing technology. This workbench includes a set of linguistic resources and software tools that have been applied in a considerable number of practical purposes, covering ', ' Abstract—Natural Language Processing (NLP) is an effective approach for bringing improvement in educational setting. Implementing NLP involves initiating the process of learning through the natural acquisition in the educational systems. It is based on effective approaches for providing a solution ', ' ABSTRACT: After twenty years of disfavor, a technology has returned which imitates the processes of the brain. Natural language experiments (Sejnowski & Rosenberg: 1986) demonstrate that neural network computing architecture can learn from actual spoken language, observe rules of pronunciation ', ' Text statistics are frequently used in stylometry and cryptography studies. In this paper, some text statistics tools are developed in ISO Prolog for natural language processing. Details are given on the usage of 21 user-callable predicates. Logic and limitations of the program are also discussed ', ' We summarize our experience using FrameNet in two rather different projects in natural language processing (NLP). We conclude that NLP can benefit from FrameNet in different ways, but we sketch some problems that need to be overcome. 1 ']\n",
            "[['abstract', 'not', 'found'], ['describe', 'method', 'for', 'statistical', 'modeling', 'based', 'on', 'maximum', 'entropy', 'we', 'present', 'maximum', 'likelihood', 'approach', 'for', 'automatically', 'constructing', 'maximum', 'entropy', 'models', 'and', 'describe', 'how', 'to', 'implement', 'this', 'approach', 'efficiently', 'using', 'as', 'examples', 'several', 'problems', 'in', 'natural', 'language', 'processing'], ['scaling', 'conditional', 'random', 'fields', 'for', 'natural', 'language', 'processing', 'terms', 'and', 'conditions', 'terms', 'and', 'conditions', 'copyright', 'in', 'works', 'deposited', 'in', 'minerva', 'access', 'is', 'retained', 'by', 'the'], ['the', 'paper', 'addresses', 'the', 'issue', 'of', 'cooperation', 'between', 'linguistics', 'and', 'natural', 'language', 'processing', 'nlp', 'in', 'general', 'and', 'between', 'linguistics', 'and', 'machine', 'translation', 'mt', 'in', 'particular', 'it', 'focuses', 'on', 'just', 'one', 'direction', 'of', 'such', 'cooperation', 'namely', 'applications', 'of', 'linguistics', 'to', 'nlp', 'virtually'], ['in', 'most', 'natural', 'language', 'processing', 'applications', 'description', 'logics', 'have', 'been', 'used', 'to', 'encode', 'in', 'knowledge', 'base', 'some', 'syntactic', 'semantic', 'and', 'pragmatic', 'elements', 'needed', 'to', 'drive', 'the', 'semantic', 'interpretation', 'and', 'the', 'natural', 'language', 'generation', 'processes', 'more', 'recently', 'description', 'logics', 'have', 'been'], ['we', 'propose', 'unified', 'neural', 'network', 'architecture', 'and', 'learning', 'algorithm', 'that', 'can', 'be', 'applied', 'to', 'various', 'natural', 'language', 'processing', 'tasks', 'including', 'part', 'of', 'speech', 'tagging', 'chunking', 'named', 'entity', 'recognition', 'and', 'semantic', 'role', 'labeling', 'this', 'versatility', 'is', 'achieved', 'by', 'trying', 'to', 'avoid', 'task'], ['natural', 'language', 'processing', 'the', 'subject', 'of', 'natural', 'language', 'processing', 'can', 'be', 'considered', 'in', 'both', 'broad', 'and', 'narrow', 'senses', 'in', 'the', 'broad', 'sense', 'it', 'covers', 'processing', 'issues', 'at', 'all', 'levels', 'of', 'natural', 'language', 'understanding', 'including', 'speech', 'recognition', 'syntactic', 'and', 'semantic', 'analysis', 'of', 'sentences'], ['robots', 'that', 'interact', 'with', 'humans', 'face', 'to', 'face', 'using', 'natural', 'language', 'need', 'to', 'be', 'responsive', 'to', 'the', 'way', 'humans', 'use', 'language', 'in', 'those', 'situations', 'we', 'propose', 'natural', 'language', 'processing', 'system', 'for', 'robots', 'which', 'performs', 'incremental', 'semantic', 'interpretation', 'of', 'spoken', 'utterances'], ['natural', 'languages', 'are', 'languages', 'spoken', 'by', 'humans', 'currently', 'we', 'are', 'not', 'yet', 'at', 'the', 'point', 'where', 'these', 'languages', 'in', 'all', 'of', 'their', 'unprocessed', 'forms', 'can', 'be', 'understood', 'by', 'computers', 'natural', 'language', 'processing', 'is', 'the', 'collection', 'of', 'techniques', 'employed', 'to', 'try', 'and', 'accomplish', 'that', 'goal', 'the', 'field', 'of', 'natural'], ['abstract', 'ambiguity', 'can', 'be', 'referred', 'as', 'the', 'ability', 'of', 'having', 'more', 'than', 'one', 'meaning', 'or', 'being', 'understood', 'in', 'more', 'than', 'one', 'way', 'natural', 'languages', 'are', 'ambiguous', 'so', 'computers', 'are', 'not', 'able', 'to', 'understand', 'language', 'the', 'way', 'people', 'do', 'natural', 'language', 'processing', 'nlp', 'is', 'concerned', 'with', 'the', 'development'], ['introduction', 'statistical', 'natural', 'language', 'processing', 'snlp', 'is', 'field', 'lying', 'in', 'the', 'intersection', 'of', 'natural', 'language', 'processing', 'and', 'machine', 'learning', 'snlp', 'di', 'ers', 'from', 'traditional', 'natural', 'language', 'processing', 'in', 'that', 'instead', 'of', 'having', 'linguist', 'manually', 'construct', 'some', 'model', 'of', 'given', 'linguistic'], ['text', 'directly', 'rather', 'than', 'titles', 'and', 'abstracts', 'and', 'suggests', 'appropriate', 'approaches', 'to', 'doing', 'this', 'with', 'focus', 'on', 'the', 'role', 'of', 'natural', 'language', 'processing', 'the', 'paper', 'also', 'comments', 'on', 'possible', 'connections', 'with', 'data', 'and', 'knowledge', 'retrieval', 'and', 'concludes', 'by', 'emphasizing', 'the', 'importance', 'of', 'rigorous'], ['abstract', 'language', 'is', 'way', 'of', 'communicating', 'your', 'words', 'language', 'helps', 'in', 'understanding', 'the', 'world', 'we', 'get', 'better', 'insight', 'of', 'the', 'world', 'language', 'helps', 'speakers', 'to', 'be', 'as', 'vague', 'or', 'as', 'precise', 'as', 'they', 'like', 'nlp', 'stands', 'for', 'natural', 'language', 'processing', 'natural', 'languages', 'are', 'those', 'languages', 'that', 'are', 'spoken'], ['we', 'report', 'experiments', 'on', 'the', 'use', 'of', 'standard', 'natural', 'language', 'processing', 'nlp', 'tools', 'for', 'the', 'analysis', 'of', 'music', 'lyrics', 'significant', 'amount', 'of', 'music', 'audio', 'has', 'lyrics', 'lyrics', 'encode', 'an', 'important', 'part', 'of', 'the', 'semantics', 'of', 'song', 'therefore', 'their', 'analysis', 'complements', 'that', 'of', 'acoustic', 'and', 'cultural'], ['this', 'paper', 'we', 'will', 'describe', 'simple', 'rule', 'based', 'approach', 'to', 'automated', 'learning', 'of', 'linguistic', 'knowledge', 'this', 'approach', 'has', 'been', 'shown', 'for', 'number', 'of', 'tasks', 'to', 'capture', 'information', 'in', 'clearer', 'and', 'more', 'direct', 'fashion', 'without', 'compromise', 'in', 'performance', 'we', 'present', 'detailed', 'case', 'study', 'of', 'this', 'learning', 'method', 'applied', 'to', 'part', 'of', 'speech', 'tagging'], ['this', 'paper', 'focuses', 'on', 'connectionist', 'models', 'in', 'natural', 'language', 'processing', 'we', 'briefly', 'present', 'and', 'discuss', 'several', 'aspects', 'of', 'high', 'level', 'tasks', 'which', 'recently', 'have', 'been', 'approached', 'with', 'connectionism', 'either', 'with', 'localist', 'or', 'parallel', 'distributed', 'processing', 'models', 'several', 'interesting', 'architectures'], ['process', 'of', 'language', 'understanding', 'this', 'is', 'new', 'approach', 'in', 'natural', 'language', 'processing', 'based', 'on', 'the', 'deterministic', 'chaotic', 'behavior', 'of', 'dynamical', 'systems'], ['this', 'paper', 'see', 'schank', 'for', 'theoretical', 'discussion', 'and', 'kass', 'and', 'leake', 'and', 'owens', 'for', 'brief', 'discussions', 'of', 'program', 'built', 'around', 'these', 'principles', 'the', 'goal', 'here', 'is', 'simply', 'to', 'point', 'out', 'how', 'our', 'interest', 'in', 'natural', 'language', 'processing', 'has', 'led', 'us', 'naturally', 'and', 'indeed', 'inevitably'], ['objectives', 'to', 'provide', 'an', 'overview', 'and', 'tutorial', 'of', 'natural', 'language', 'processing', 'nlp', 'and', 'modern', 'nlp', 'system', 'design', 'target', 'audience', 'this', 'tutorial', 'targets', 'the', 'medical', 'informatics', 'generalist', 'who', 'has', 'limited', 'acquaintance', 'with', 'the', 'principles', 'behind', 'nlp', 'and', 'or', 'limited', 'knowledge', 'of', 'the', 'current', 'state'], ['this', 'paper', 'briefly', 'describes', 'the', 'current', 'implementation', 'status', 'of', 'an', 'intelligent', 'information', 'retrieval', 'system', 'marie', 'that', 'employs', 'natural', 'language', 'processing', 'techniques', 'descriptive', 'captions', 'are', 'used', 'to', 'iden', 'tify', 'photographic', 'images', 'concerning', 'various', 'military', 'projects', 'the', 'captions', 'are', 'parsed'], ['based', 'and', 'literature', 'resources', 'we', 'describe', 'here', 'system', 'for', 'agent', 'directed', 'natural', 'language', 'processing', 'to', 'extract', 'information', 'from', 'journal', 'articles', 'an', 'interface', 'was', 'developed', 'to', 'permit', 'curation', 'of', 'the', 'nlp', 'results', 'and', 'deposition', 'of', 'accepted', 'results', 'into', 'knowledge', 'base', 'motivation', 'the', 'advent', 'of', 'high'], ['to', 'evaluation', 'in', 'speech', 'processing', 'part', 'surveys', 'significant', 'evaluation', 'work', 'done', 'so', 'far', 'for', 'instance', 'in', 'machine', 'translation', 'and', 'discusses', 'the', 'particular', 'problems', 'of', 'generic', 'system', 'evaluation', 'the', 'conclusion', 'is', 'that', 'evaluation', 'strategies', 'and', 'techniques', 'for', 'nlp', 'need', 'much', 'more', 'development', 'in', 'particular'], ['similar', 'to', 'the', 'way', 'humans', 'intuitively', 'do', 'in', 'order', 'to', 'eliminate', 'noisy', 'content', 'in', 'this', 'paper', 'we', 'describe', 'combination', 'of', 'html', 'dom', 'analysis', 'and', 'natural', 'language', 'processing', 'nlp', 'techniques', 'for', 'automated', 'extractions', 'of', 'main', 'article', 'with', 'associated', 'images', 'from', 'web', 'pages'], ['abstract', 'natural', 'language', 'processing', 'is', 'theoretically', 'motivated', 'range', 'of', 'computational', 'techniques', 'for', 'analysing', 'and', 'representing', 'naturally', 'occurring', 'texts', 'at', 'one', 'or', 'more', 'levels', 'of', 'linguistic', 'analysis', 'for', 'the', 'purpose', 'of', 'achieving', 'human', 'like', 'language', 'processing', 'for', 'range', 'of', 'tasks'], ['this', 'paper', 'reviews', 'the', 'processes', 'involved', 'in', 'natural', 'language', 'processing', 'nlp', 'it', 'then', 'demonstrates', 'the', 'various', 'kinds', 'of', 'choices', 'that', 'need', 'be', 'taken', 'during', 'the', 'execution', 'of', 'the', 'word', 'morphology', 'the', 'syntactic', 'text', 'analysis', 'or', 'text', 'generation', 'components', 'it', 'compares', 'the', 'time', 'complexity'], ['this', 'article', 'focusses', 'on', 'the', 'derivation', 'of', 'large', 'lexicons', 'for', 'natural', 'language', 'processing', 'we', 'describe', 'the', 'development', 'of', 'dictionary', 'support', 'environment', 'linking', 'restructured', 'version', 'of', 'the', 'longman', 'dictionary', 'of', 'contemporary', 'english', 'to', 'natural', 'language', 'processing', 'systems', 'the', 'process'], ['we', 'introduce', 'method', 'for', 'analyzing', 'the', 'complexity', 'of', 'natural', 'language', 'processing', 'tasks', 'and', 'for', 'predicting', 'the', 'difficulty', 'new', 'nlp', 'tasks', 'our', 'complexity', 'measures', 'are', 'derived', 'from', 'the', 'kolmogorov', 'complexity', 'of', 'class', 'of', 'automata', 'meaning', 'automata', 'whose', 'purpose', 'is', 'to', 'extract', 'relevant', 'pieces'], ['sounds', 'text', 'and', 'motion', 'the', 'techniques', 'developed', 'from', 'deep', 'learning', 'research', 'have', 'already', 'been', 'impacting', 'the', 'research', 'of', 'natural', 'language', 'process', 'this', 'paper', 'reviews', 'the', 'recent', 'research', 'on', 'deep', 'learning', 'its', 'applications', 'and', 'recent', 'development', 'in', 'natural', 'language', 'processing'], ['this', 'is', 'an', 'author', 'produced', 'version', 'of', 'paper', 'published', 'in', 'the'], ['abstract', 'natural', 'language', 'processing', 'nlp', 'is', 'the', 'application', 'of', 'automated', 'parsing', 'and', 'machine', 'learning', 'techniques', 'to', 'analyze', 'standard', 'text', 'applications', 'of', 'nlp', 'to', 'requirements', 'engineering', 'include', 'extraction', 'of', 'ontologies', 'from', 'requirements', 'specification', 'and', 'use', 'of', 'nlp', 'to', 'verify', 'the', 'consistency'], ['statistical', 'baseline', 'including', 'the', 'forgiving', 'nature', 'but', 'broad', 'coverage', 'of', 'the', 'typical', 'retrieval', 'task', 'the', 'lack', 'of', 'good', 'weighting', 'schemes', 'for', 'compound', 'index', 'terms', 'and', 'the', 'implicit', 'linguistic', 'processing', 'inherent', 'in', 'the', 'statistical', 'methods', 'natural', 'language', 'processing', 'techniques', 'may', 'be', 'more', 'important'], ['work', 'in', 'computational', 'linguistics', 'began', 'very', 'soon', 'after', 'the', 'development', 'of', 'the', 'first', 'computers', 'booth', 'brandwood', 'and', 'cleave', 'yet', 'in', 'the', 'intervening', 'four', 'decades', 'there', 'has', 'been', 'pervasive', 'feeling', 'that', 'progress', 'in', 'computer', 'understanding', 'of', 'natural', 'language', 'has', 'not', 'been', 'commensurate'], ['the', 'voice', 'recognition', 'for', 'natural', 'language', 'tamil', 'by', 'combining', 'the', 'digital', 'and', 'mathematical', 'knowledge', 'using', 'mfcc', 'and', 'dtw', 'to', 'extract', 'and', 'match', 'the', 'features', 'to', 'improve', 'the', 'accuracy', 'for', 'better', 'performance'], ['abstract', 'testing', 'against', 'natural', 'language', 'requirements', 'is', 'the', 'standard', 'approach', 'for', 'system', 'and', 'acceptance', 'testing', 'this', 'test', 'is', 'often', 'performed', 'by', 'an', 'independent', 'test', 'organization', 'unfamiliar', 'with', 'the', 'application', 'area', 'the', 'only', 'things', 'the', 'testers', 'have', 'to', 'go', 'by', 'are', 'the', 'written', 'requirements', 'so'], ['abstract', 'not', 'found'], ['conversational', 'partners', 'but', 'it', 'also', 'provides', 'us', 'with', 'information', 'about', 'being', 'creative', 'making', 'associations', 'storytelling', 'and', 'language', 'use', 'many', 'more', 'subtleties', 'in', 'face', 'to', 'face', 'and', 'multiparty', 'interaction', 'can', 'be', 'added', 'such', 'as', 'using', 'humor', 'to', 'persuade', 'and', 'dominate', 'to', 'soften', 'or', 'avoid', 'face', 'threatening', 'act'], ['abstract', 'not', 'found'], ['in', 'recent', 'years', 'machine', 'learning', 'ml', 'has', 'been', 'used', 'more', 'and', 'more', 'to', 'solve', 'complex', 'tasks', 'in', 'different', 'disciplines', 'ranging', 'from', 'data', 'mining', 'to', 'information'], ['we', 'argue', 'that', 'manual', 'and', 'automatic', 'thesauruses', 'are', 'alternative', 'resources', 'for', 'the', 'same', 'nlp', 'tasks', 'this', 'involves', 'the', 'radical', 'step', 'of', 'interpreting', 'manual', 'thesauruses', 'as', 'classifications', 'of', 'words', 'rather', 'than', 'word', 'senses', 'the', 'case', 'for', 'this', 'is', 'made', 'the', 'range', 'of', 'roles', 'for', 'thesauruses', 'within', 'nlp', 'is', 'briefly', 'presented', 'and', 'the', 'wasps', 'thesaurus', 'is', 'introduced', 'thesaurus', 'evaluation', 'is', 'now', 'becoming', 'urgent', 'range', 'of', 'evaluation', 'strategies', 'all', 'embedded', 'within', 'nlp', 'tasks', 'is', 'proposed'], ['introduction', 'patterns', 'in', 'music', 'have', 'been', 'the', 'object', 'of', 'intensive', 'studies', 'in', 'the', 'past', 'years', 'one', 'of', 'the', 'purposes', 'of', 'analyzing', 'musical', 'structure', 'and', 'form', 'is', 'to', 'discover', 'the', 'patterns', 'that', 'are', 'explicit', 'or', 'implicit', 'in', 'musical', 'works', 'simon', 'patterns', 'comprise', 'periodicity', 'make', 'use', 'of', 'alphabets', 'can', 'be', 'compound', 'made', 'up', 'of', 'subpatterns', 'and', 'possess', 'phrase', 'structure', 'with', 'various', 'forms', 'of', 'punctuation', 'traditionally', 'composers', 'have', 'employed', 'pattern', 'propagation', 'intuitively', 'but', 'algorithmic', 'composition', 'techniques', 'allow', 'the', 'pattern', 'propagation', 'to', 'be', 'formalized', 'albeit', 'high', 'level', 'during', 'composition', 'all', 'the', 'musical', 'patterns', 'evolve', 'according', 'to', 'the', 'rules', 'and', 'constraints', 'specied', 'at', 'the', 'design', 'stage', 'in', 'jazz', 'improvisation', 'the', 'musician', 'invents', 'solo', 'guided', 'by', 'progression', 'of', 'chords', 'the', 'changes', 'one', 'approach', 'to', 'learn', 'improvising', 'is', 'to', 'memorize', 'patterns', 'short', 'chunks', 'of', 'music', 'that', 'sub', 'progressions', 'and', 'to', 'concatenate', 'them', 'to', 'form', 'whole', 'solo', 'that', 'ts', 'whole', 'progression', 'one'], ['abstract', 'many', 'information', 'retrieval', 'ir', 'systems', 'retrieve', 'relevant', 'documents', 'based', 'on', 'exact', 'matching', 'of', 'keywords', 'between', 'query', 'and', 'documents', 'this', 'method', 'degrades', 'precision', 'rate', 'in', 'order', 'to', 'solve', 'the', 'problem', 'we', 'collected', 'semantically', 'related', 'words', 'and', 'assigned', 'semantic', 'relationships', 'used', 'in', 'general', 'thesaurus', 'and', 'special', 'relationship', 'called', 'keyfact', 'term', 'ft', 'manually', 'in', 'addition', 'to', 'the', 'semantic', 'knowledge', 'we', 'automatically', 'constructed', 'statistic', 'knowledge', 'based', 'on', 'the', 'concept', 'of', 'mutual', 'information', 'keyfact', 'is', 'an', 'extended', 'concept', 'of', 'keyword', 'represented', 'by', 'noun', 'and', 'compound', 'noun', 'keyfact', 'can', 'be', 'verb', 'and', 'an', 'adjective', 'including', 'subject', 'or', 'object', 'term', 'we', 'first', 'retrieved', 'relevant', 'documents', 'with', 'original', 'query', 'using', 'tf', 'idf', 'weighting', 'formula', 'and', 'then', 'an', 'expanded', 'query', 'including', 'keyfacts', 'is', 'used', 'in', 'both', 'second', 'document', 'ranking', 'and', 'word', 'sense', 'disambiguating', 'so', 'we', 'made', 'an', 'improvement', 'in', 'precision', 'rate', 'using', 'keyfact', 'network'], ['this', 'paper', 'we', 'argue', 'that', 'qa', 'over', 'technical', 'domains', 'is', 'distinctly', 'different', 'from', 'trec', 'based', 'qa', 'or', 'web', 'based', 'qa', 'and', 'it', 'cannot', 'benefit', 'lom', 'data', 'intensive', 'approaches'], ['universit', 'quot', 'at', 'des', 'saarlandes'], ['proceedings', 'of', 'the', 'workshop', 'on'], ['uni', 'hamburg', 'de'], ['abstract', 'not', 'found'], ['abstract', 'not', 'found'], ['sri', 'has', 'developed', 'new', 'architecture', 'for', 'integrating', 'speech', 'and', 'natural', 'language', 'processing', 'that', 'applies', 'linguistic', 'constraints', 'during', 'recognition', 'by', 'incrementally', 'expanding', 'the', 'state', 'transition', 'network', 'embodied', 'in', 'unification', 'grammar', 'we', 'compare', 'this', 'dynamic', 'gralnlnar', 'network', 'dgn', 'approach'], ['this', 'chapter', 'considers', 'the', 'revolution', 'that', 'has', 'taken', 'place', 'in', 'natural', 'language', 'processing', 'research', 'over', 'the', 'last', 'five', 'years', 'it', 'begins', 'by', 'providing', 'brief', 'guide', 'to', 'the', 'structure', 'of', 'the', 'field', 'and', 'then', 'presents', 'caricature', 'of', 'two', 'competing', 'paradigms', 'of', 'nlp', 'research', 'and', 'indicates', 'the', 'reasons'], ['visual', 'development', 'environment', 'to', 'support', 'the', 'visual', 'assembly', 'execution', 'and', 'analysis', 'of', 'modular', 'natural', 'language', 'processing', 'systems', 'the', 'visual', 'model', 'is', 'an', 'executable', 'data', 'flow', 'program', 'graph', 'automatically', 'synthesised', 'from', 'data', 'dependency', 'declarations', 'of', 'language', 'processing', 'modules', 'the', 'graph'], ['in', 'this', 'chapter', 'the', 'basic', 'uses', 'of', 'description', 'logics', 'for', 'natural', 'language', 'processing', 'will', 'be', 'analysed', 'together', 'with', 'little', 'bit', 'of', 'history', 'and', 'the', 'role', 'of', 'description', 'logics', 'in', 'the', 'current', 'state', 'of', 'the', 'art', 'in', 'computational', 'linguistics', 'will', 'be', 'pointed', 'out', 'introduction', 'since', 'the', 'early', 'days'], ['we', 'applied', 'structure', 'learning', 'model', 'max', 'margin', 'structure', 'mms', 'to', 'natural', 'language', 'processing', 'nlp', 'tasks', 'where', 'the', 'aim', 'is', 'to', 'capture', 'the', 'latent', 'relationships', 'within', 'the', 'output', 'language', 'domain', 'we', 'formulate', 'this', 'model', 'as', 'an', 'extension', 'of', 'multi', 'class', 'support', 'vector', 'machine', 'svm', 'and', 'present'], ['mation', 'infrastructure', 'digital', 'libraries', 'networked', 'services', 'digital', 'convergence', 'or', 'intelligent', 'agents', 'this', 'attention', 'is', 'moving', 'natural', 'language', 'processing', 'along', 'the', 'critical', 'path', 'for', 'all', 'kinds', 'of', 'novel', 'applications', 'this', 'article', 'will', 'mention', 'number', 'of', 'successful', 'applications', 'of', 'natural', 'language', 'processing', 'nlp'], ['over', 'the', 'last', 'few', 'years', 'number', 'of', 'areas', 'of', 'natural', 'language', 'processing', 'have', 'begun', 'applying', 'graph', 'based', 'techniques', 'these', 'include', 'among', 'others', 'text', 'summarization', 'syntactic', 'parsing', 'word', 'sense', 'disambiguation', 'ontology', 'construction', 'sentiment', 'and', 'subjectivity', 'analysis', 'text', 'clustering'], ['in', 'natural', 'language', 'processing', 'nlp', 'research', 'results', 'from', 'software', 'engineering', 'and', 'software', 'technology', 'have', 'often', 'been', 'neglected'], ['of', 'kernelized', 'sorting', 'to', 'increase', 'its', 'robustness', 'and', 'performance', 'on', 'several', 'natural', 'language', 'processing', 'nlp', 'tasks', 'document', 'matching', 'from', 'parallel', 'and', 'comparable', 'corpora', 'machine', 'transliteration', 'and', 'even', 'image', 'processing', 'empirically', 'we', 'show', 'that', 'on', 'these', 'tasks', 'semi', 'supervised', 'variant', 'of', 'kernelized'], ['will', 'be', 'structured', 'in', 'the', 'words', 'of', 'statistical', 'natural', 'language', 'processing', 'we', 'need', 'sophisticated', 'statistical', 'model', 'of', 'the', 'basic', 'elements', 'such', 'as', 'words', 'or', 'phrases', 'to', 'be', 'combined', 'with', 'the', 'structural', 'modeling', 'such', 'as', 'syntactic', 'parsing', 'or', 'dependency', 'analysis', 'since', 'the', 'basic', 'property', 'of', 'these', 'elements'], ['in', 'this', 'paper', 'we', 'describe', 'framework', 'for', 'developing', 'probabilistic', 'classifiers', 'in', 'natural', 'language', 'processing', 'our', 'focus', 'is', 'on', 'formulating', 'models', 'that', 'capture', 'the', 'most', 'important', 'among', 'features', 'to', 'avoid', 'overfitting', 'the', 'data', 'while', 'also', 'characterizing', 'the', 'data', 'well', 'the', 'class'], ['many', 'natural', 'language', 'processing', 'nlp', 'techniques', 'have', 'been', 'used', 'in', 'information', 'retrieval', 'the', 'results', 'are', 'not', 'encouraging', 'simple', 'methods', 'stopwording', 'porter', 'style', 'stemming', 'etc', 'usually', 'yield', 'significant', 'improvements', 'while', 'higher', 'level', 'processing', 'chunking', 'parsing', 'word', 'sense', 'disambiguation'], ['abstract', 'this', 'paper', 'explains', 'the', 'information', 'retrieval', 'using', 'natural', 'language', 'processing', 'for', 'malayalam', 'language', 'in', 'these', 'basic'], ['in', 'the', 'state', 'of', 'the', 'art', 'plan', 'recognition', 'systems', 'this', 'paper', 'will', 'outline', 'the', 'relations', 'between', 'natural', 'language', 'processing', 'nlp', 'and', 'plan', 'recognition', 'pr', 'argue', 'that', 'each', 'of', 'them', 'can', 'effectively', 'inform', 'the', 'other', 'and', 'then', 'focus', 'on', 'key', 'recent', 'research', 'results', 'in', 'nlp', 'and', 'argue', 'for', 'their', 'applicability', 'to', 'pr'], ['in', 'the', 'state', 'of', 'the', 'art', 'plan', 'recognition', 'systems', 'this', 'paper', 'will', 'outline', 'the', 'relations', 'between', 'natural', 'language', 'processing', 'nlp', 'and', 'plan', 'recognition', 'pr', 'argue', 'that', 'each', 'of', 'them', 'can', 'effectively', 'inform', 'the', 'other', 'and', 'then', 'focus', 'on', 'key', 'recent', 'research', 'results', 'in', 'nlp', 'and', 'argue', 'for', 'their', 'applicability', 'to', 'pr'], ['information', 'retrieval', 'is', 'the', 'process', 'of', 'finding', 'the', 'documents', 'in', 'document', 'collection', 'that', 'satisfies', 'the', 'information', 'need', 'of', 'the', 'user', 'the', 'documents', 'are', 'natural', 'language', 'constructs', 'and', 'the', 'motivation', 'of', 'this', 'work', 'is', 'to', 'investigate', 'how', 'natural', 'language', 'processing', 'can', 'be', 'used', 'to', 'improve'], ['of', 'logic', 'programming', 'within', 'both', 'natural', 'language', 'research', 'and', 'machine', 'learning', 'we', 'point', 'out', 'opportunities', 'for', 'induction', 'of', 'linguistic', 'knowledge', 'within', 'logic', 'programming', 'keywords', 'inductive', 'logic', 'programming', 'natural', 'language', 'processing', 'logic', 'programming', 'machine', 'learning', 'introduction', 'there', 'is'], ['what', 'is', 'statistical', 'method', 'and', 'how', 'can', 'it', 'be', 'used', 'in', 'natural', 'language', 'processing', 'nlp', 'in', 'this', 'paper', 'we', 'start', 'from', 'definition', 'of', 'nlp', 'as', 'concerned', 'with', 'the', 'design', 'and', 'implementation', 'of', 'effective', 'natural', 'language', 'input', 'and', 'output', 'components', 'for', 'computational', 'systems', 'we', 'distinguish', 'three'], ['in', 'this', 'report', 'some', 'collaborative', 'work', 'between', 'the', 'fields', 'of', 'machine', 'learning', 'ml', 'and', 'natural', 'language', 'processing', 'nlp', 'is', 'presented', 'the', 'document', 'is', 'structured', 'in', 'two', 'parts', 'the', 'first', 'part', 'includes', 'superficial', 'but', 'comprehensive', 'survey', 'covering', 'the', 'state', 'of', 'the', 'art', 'of', 'machine', 'learning'], ['abstract', 'this', 'thesis', 'examines', 'the', 'use', 'of', 'machine', 'learning', 'techniques', 'in', 'various', 'tasks', 'of', 'natural', 'language', 'processing', 'mainly', 'for', 'the', 'task', 'of', 'information', 'extraction', 'from', 'texts', 'the', 'objectives', 'are', 'the', 'improvement', 'of', 'adaptability', 'of', 'information', 'extraction', 'systems', 'to', 'new', 'thematic', 'do', 'mains', 'or', 'even'], ['this', 'chapter', 'examines', 'the', 'application', 'of', 'natural', 'language', 'processing', 'to', 'language', 'learning', 'including', 'the', 'history', 'of', 'work', 'in', 'this', 'field', 'over', 'the', 'last', 'thirtyfive', 'years', 'but', 'with', 'focus', 'on', 'current', 'developments', 'and', 'opportunities'], ['traditional', 'approaches', 'in', 'natural', 'language', 'processing', 'typically', 'fall', 'into', 'one', 'of', 'three', 'classes', 'syntax', 'driven', 'semantics', 'driven', 'or', 'frame', 'task', 'based', 'syntax', 'driven', 'approaches', 'use', 'domain', 'independent', 'grammar', 'to', 'drive', 'the', 'interpretation', 'process', 'and', 'produce', 'global', 'parse'], ['natural', 'language', 'processing', 'nlp', 'is', 'very', 'large', 'and', 'diverse', 'subtopic', 'of', 'artificial', 'intelligence', 'as', 'result', 'nlp', 'itself', 'has', 'many', 'subtopics', 'including', 'optical', 'character', 'recognition', 'text', 'to', 'speech', 'translators', 'foreign', 'language', 'reading', 'and', 'writing', 'aids', 'machine', 'translation', 'and', 'speech', 'recognition'], ['probabilistic', 'finite', 'state', 'string', 'transducers', 'fsts', 'are', 'extremely', 'popular', 'in', 'natural', 'language', 'processing', 'due', 'to', 'powerful', 'generic', 'methods', 'for', 'applying', 'composing', 'and', 'learning', 'them', 'unfortunately', 'fsts', 'are', 'not', 'good', 'fit', 'for', 'much', 'of', 'the', 'current', 'work', 'on', 'probabilistic', 'modeling', 'for', 'machine'], ['abstract', 'in', 'this', 'special', 'issue', 'of', 'tal', 'we', 'look', 'at', 'the', 'fundamental', 'principles', 'underlying', 'evaluation', 'in', 'natural', 'language', 'processing', 'we', 'adopt', 'global', 'point', 'of', 'view', 'that', 'goes', 'beyond', 'the', 'horizon', 'of', 'single', 'evaluation', 'campaign', 'or', 'particular', 'protocol', 'after', 'brief', 'review', 'of', 'history', 'and', 'terminology'], ['abstract', 'not', 'found'], ['natural', 'language', 'processing', 'systems', 'nlp', 'that', 'extract', 'clinical', 'information', 'from', 'textual', 'reports', 'were', 'shown', 'to', 'be', 'effective', 'for', 'limited', 'domains', 'and', 'for', 'particular', 'applications', 'because', 'an', 'nlp', 'system', 'typically', 'requires', 'substantial', 'resources', 'to', 'develop', 'it', 'is', 'beneficial', 'if', 'it', 'is', 'designed', 'to', 'be', 'easily'], ['facts', 'forms', 'link', 'between', 'ie', 'recent', 'development', 'in', 'natural', 'language', 'processing', 'and', 'logic', 'programming', 'with', 'prolog'], ['we', 'describe', 'single', 'convolutional', 'neural', 'network', 'architecture', 'that', 'given', 'sentence', 'outputs', 'host', 'of', 'language', 'processing', 'predictions', 'part', 'of', 'speech', 'tags', 'chunks', 'named', 'entity', 'tags', 'semantic', 'roles', 'semantically', 'similar', 'words', 'and', 'the', 'likelihood', 'that', 'the', 'sentence', 'makes', 'sense', 'grammatically'], ['we', 'developed', 'prototype', 'information', 'retrieval', 'system', 'which', 'uses', 'advanced', 'natural', 'language', 'processing', 'techniques', 'to', 'enhance', 'the', 'effectiveness', 'of', 'traditional', 'key', 'word', 'based', 'document', 'retrieval', 'the', 'backbone', 'of', 'our', 'system', 'is', 'statistical', 'retrieval', 'engine', 'which', 'performs', 'automated', 'indexing'], ['abstract', 'not', 'found'], ['in', 'this', 'paper', 'we', 'will', 'discuss', 'several', 'issues', 'and', 'requirements', 'for', 'enabling', 'natural', 'language', 'processing', 'systems', 'to', 'become', 'context', 'adaptive', 'given', 'the', 'fact', 'that', 'emerging', 'systems', 'feature', 'speaker', 'independent', 'continuous', 'speech', 'recognition', 'restricted', 'to', 'individual', 'domains', 'and', 'are', 'equipped', 'with', 'syntactic'], ['in', 'fall', 'introduced', 'new', 'course', 'called', 'applied', 'natural', 'language', 'processing', 'in', 'which', 'students', 'acquire', 'an', 'understanding', 'of', 'which', 'text', 'analysis', 'techniques', 'are', 'currently', 'feasible', 'for', 'practical', 'applications'], ['abstract', 'not', 'found'], ['abstract', 'natural', 'language', 'processing', 'is', 'the', 'study', 'of', 'mathematical', 'and', 'computational', 'modelling', 'of', 'various', 'aspects', 'of', 'language', 'and', 'the', 'improvement', 'of', 'wide', 'range', 'of', 'systems', 'natural', 'language', 'is', 'any', 'language', 'that', 'arises', 'as', 'an', 'innate', 'facility', 'for', 'language', 'possessed', 'by', 'the', 'human', 'intellect', 'it', 'may'], ['natural', 'language', 'processing', 'nlp', 'which', 'is', 'branch', 'of', 'artificial', 'intelligence', 'includes', 'speech', 'synthesis', 'speech', 'recognition', 'and', 'machine', 'translation', 'natural', 'language', 'processing', 'has', 'wide', 'range', 'of', 'applications', 'in', 'the', 'indian', 'context', 'most', 'of', 'the', 'rural', 'indian', 'community', 'is', 'unable', 'to', 'make', 'use'], ['an', 'evaluation', 'of', 'lolita', 'and', 'related', 'natural', 'language', 'processing', 'systems', 'paul', 'callaghan', 'submitted', 'to', 'the', 'university', 'of', 'durham', 'for', 'the', 'degree', 'of', 'ph', 'august', 'this', 'research', 'addresses', 'the', 'question', 'how', 'do', 'we', 'evaluate', 'systems', 'like', 'lolita', 'lolita', 'is', 'the', 'natural'], ['previous', 'work', 'demonstrated', 'that', 'web', 'counts', 'can', 'be', 'used', 'to', 'approximate', 'bigram', 'counts', 'suggesting', 'that', 'web', 'based', 'frequencies', 'should', 'be', 'useful', 'for', 'wide', 'variety', 'of', 'natural', 'language', 'processing', 'nlp', 'tasks', 'however', 'only', 'limited', 'number', 'of', 'tasks', 'have', 'so', 'far', 'been', 'tested', 'using', 'web', 'scale', 'data', 'sets'], ['this', 'chapter', 'examines', 'the', 'application', 'of', 'natural', 'language', 'processing', 'to', 'language', 'learning', 'including', 'the', 'history', 'of', 'work', 'in', 'this', 'field', 'over', 'the', 'last', 'thirtyfive', 'years', 'but', 'with', 'focus', 'on', 'current', 'developments', 'and', 'opportunities', 'introduction', 'this', 'chapter', 'focuses', 'on', 'applications'], ['this', 'paper', 'describes', 'natural', 'language', 'system', 'which', 'improves', 'its', 'own', 'performance', 'through', 'learning', 'the', 'system', 'processes', 'short', 'english', 'narratives', 'and', 'is', 'able', 'to', 'acquire', 'from', 'single', 'narrative', 'new', 'schema', 'for', 'stereotypical', 'set', 'of', 'actions', 'during', 'the', 'understanding', 'process', 'the', 'system', 'attempts'], ['we', 'classify', 'and', 'review', 'current', 'approaches', 'to', 'software', 'infrastructure', 'for', 'research', 'development', 'and', 'delivery', 'of', 'nlp', 'systems', 'the', 'task'], ['confidence', 'measures', 'are', 'practical', 'solution', 'for', 'improving', 'the', 'usefulness', 'of', 'natural', 'language', 'processing', 'applications', 'confidence', 'estimation', 'is', 'generic', 'machine', 'learning', 'approach', 'for', 'deriving', 'confidence', 'measures', 'we', 'give', 'an', 'overview', 'of', 'the', 'application', 'of', 'confidence', 'estimation', 'in', 'various', 'fields'], ['lex', 'sign', 'sense', 'id', 'sense', 'id', 'dictionary', 'ldoce', 'lex', 'sign', 'sense', 'id', 'sense', 'id', 'ldb', 'entry', 'no', 'lex', 'sign', 'sense', 'id', 'sense', 'id', 'sense', 'no', 'when', 'loaded', 'into', 'the', 'lkb', 'will', 'be', 'expanded', 'into', 'fully', 'fledged', 'representation', 'for', 'the', 'transitive', 'use', 'of', 'experience', 'by', 'integrating', 'word', 'specific', 'information', 'provided', 'by', 'with', 'the', 'information', 'encoded', 'by', 'the', 'lkb', 'type', 'strict', 'trans', 'sign', 'thus', 'although', 'neither', 'ldoce', 'llce', 'or', 'the', 'earlier', 'subcategorised', 'lexicon', 'contain', 'all', 'the', 'information', 'about', 'psychological', 'verbs', 'defined', 'in', 'sanfilippo', 'aposs', 'type', 'system', 'by', 'using', 'the', 'conjunction', 'of', 'information', 'available', 'from', 'all', 'three', 'it', 'proved', 'possible', 'to', 'effectively', 'enrich', 'this', 'information', 'at', 'the', 'same', 'time', 'as', 'mapping', 'it', 'into', 'formal', 'representation', 'towards', 'multilingual', 'lkb', 'goal', 'of', 'acquilex', 'is', 'to', 'demonstrate', 'that', 'an', 'lkb', 'can', 'be', 'produced', 'that', 'usefully', 'exploits', 'various', 'mrd', 'sources', 'and', 'integrates', 'multilingual', 'information', 'the', 'use', 'of', 'common', 'lrl', 'with', 'common', 'type', 'system', 'makes', 'it', 'possi'], ['we', 'describe', 'the', 'design', 'and', 'use', 'of', 'the', 'stanford', 'corenlp', 'toolkit', 'an', 'extensible', 'pipeline', 'that', 'provides', 'core', 'natural', 'lan', 'guage', 'analysis', 'this', 'toolkit', 'is', 'quite', 'widely', 'used', 'both', 'in', 'the', 'research', 'nlp', 'community', 'and', 'also', 'among', 'commercial', 'and', 'govern', 'ment', 'users', 'of', 'open', 'source', 'nlp', 'technol', 'ogy', 'we', 'suggest'], ['gaussian', 'processes', 'gps', 'are', 'powerful', 'mod', 'elling', 'framework', 'incorporating', 'kernels', 'and', 'bayesian', 'inference', 'and', 'are', 'recognised', 'as', 'state', 'of', 'the', 'art', 'for', 'many', 'machine', 'learning', 'tasks'], ['fundamental', 'issue', 'in', 'natural', 'language', 'processing', 'is', 'the', 'prerequisite', 'of', 'an', 'enormous', 'quantity', 'of', 'preprogrammed', 'knowledge', 'concerning', 'both', 'the', 'language', 'and', 'the', 'domain', 'under', 'examination', 'manual', 'acquisition', 'of', 'this', 'knowledge', 'is', 'tedious', 'and', 'error', 'prone', 'development', 'of', 'an', 'automated', 'acquisition'], ['that', 'supports', 'sophisticated', 'natural', 'language', 'processing', 'while', 'significantly', 'simplifying', 'the', 'interface', 'between', 'domain', 'specific', 'knowledge', 'and', 'general', 'linguis', 'tic', 'resources', 'this', 'paper', 'presents', 'the', 'results', 'of', 'our', 'experiences', 'in', 'designing', 'and', 'using', 'the', 'upper', 'model', 'in', 'variety', 'of', 'applications', 'over', 'the', 'past', 'years'], ['into', 'the', 'same', 'or', 'neighboring', 'map', 'nodes', 'nodes', 'may', 'thus', 'be', 'viewed', 'as', 'word', 'categories', 'although', 'no', 'priori', 'information', 'about', 'classes', 'is', 'given', 'during', 'the', 'self', 'organizing', 'process', 'model', 'of', 'the', 'word', 'classes', 'emerges', 'the', 'central', 'topic', 'of', 'the', 'thesis', 'is', 'the', 'use', 'of', 'the', 'som', 'in', 'natural', 'language', 'processing', 'the', 'approach'], ['this', 'paper', 'presents', 'workbench', 'built', 'by', 'priberam', 'informatica', 'for', 'the', 'development', 'of', 'the', 'company', 'natural', 'language', 'processing', 'technology', 'this', 'workbench', 'includes', 'set', 'of', 'linguistic', 'resources', 'and', 'software', 'tools', 'that', 'have', 'been', 'applied', 'in', 'considerable', 'number', 'of', 'practical', 'purposes', 'covering'], ['abstract', 'natural', 'language', 'processing', 'nlp', 'is', 'an', 'effective', 'approach', 'for', 'bringing', 'improvement', 'in', 'educational', 'setting', 'implementing', 'nlp', 'involves', 'initiating', 'the', 'process', 'of', 'learning', 'through', 'the', 'natural', 'acquisition', 'in', 'the', 'educational', 'systems', 'it', 'is', 'based', 'on', 'effective', 'approaches', 'for', 'providing', 'solution'], ['abstract', 'after', 'twenty', 'years', 'of', 'disfavor', 'technology', 'has', 'returned', 'which', 'imitates', 'the', 'processes', 'of', 'the', 'brain', 'natural', 'language', 'experiments', 'sejnowski', 'rosenberg', 'demonstrate', 'that', 'neural', 'network', 'computing', 'architecture', 'can', 'learn', 'from', 'actual', 'spoken', 'language', 'observe', 'rules', 'of', 'pronunciation'], ['text', 'statistics', 'are', 'frequently', 'used', 'in', 'stylometry', 'and', 'cryptography', 'studies', 'in', 'this', 'paper', 'some', 'text', 'statistics', 'tools', 'are', 'developed', 'in', 'iso', 'prolog', 'for', 'natural', 'language', 'processing', 'details', 'are', 'given', 'on', 'the', 'usage', 'of', 'user', 'callable', 'predicates', 'logic', 'and', 'limitations', 'of', 'the', 'program', 'are', 'also', 'discussed'], ['we', 'summarize', 'our', 'experience', 'using', 'framenet', 'in', 'two', 'rather', 'different', 'projects', 'in', 'natural', 'language', 'processing', 'nlp', 'we', 'conclude', 'that', 'nlp', 'can', 'benefit', 'from', 'framenet', 'in', 'different', 'ways', 'but', 'we', 'sketch', 'some', 'problems', 'that', 'need', 'to', 'be', 'overcome']]\n",
            "<gensim.interfaces.TransformedCorpus object at 0x7fd5513d6e90>\n"
          ],
          "name": "stdout"
        },
        {
          "output_type": "stream",
          "text": [
            "/usr/local/lib/python3.7/dist-packages/gensim/models/phrases.py:598: UserWarning: For a faster implementation, use the gensim.models.phrases.Phraser class\n",
            "  warnings.warn(\"For a faster implementation, use the gensim.models.phrases.Phraser class\")\n"
          ],
          "name": "stderr"
        },
        {
          "output_type": "stream",
          "text": [
            "[['find'], ['describe', 'statistical', 'modeling', 'base', 'maximum', 'entropy', 'present', 'maximum', 'likelihood', 'approach', 'automatically', 'construct', 'maximum', 'entropy', 'model', 'describe', 'implement', 'approach', 'efficiently', 'use', 'example', 'several', 'problem', 'natural', 'language', 'processing'], ['scale', 'conditional', 'random', 'field', 'natural', 'language', 'processing', 'term', 'condition', 'term', 'condition', 'copyright', 'work', 'deposit', 'access', 'retain'], ['paper', 'address', 'issue', 'cooperation', 'linguistic', 'natural', 'language', 'processing', 'general', 'linguistic', 'machine', 'translation', 'particular', 'focus', 'direction', 'cooperation', 'namely', 'application', 'linguistic', 'nlp', 'virtually'], ['natural', 'language', 'processing', 'application', 'description', 'logic', 'use', 'syntactic', 'semantic', 'pragmatic', 'element', 'need', 'drive', 'semantic', 'interpretation', 'natural', 'language', 'generation', 'process', 'recently', 'description', 'logic'], ['unify', 'neural', 'apply', 'various', 'natural', 'language', 'processing', 'task', 'include', 'part', 'speech', 'tagging', 'chunk', 'name', 'entity', 'recognition', 'semantic', 'role', 'labeling', 'versatility', 'achieve', 'try', 'avoid', 'task'], ['natural', 'language', 'processing', 'natural', 'language', 'processing', 'consider', 'broad', 'narrow', 'sense', 'broad', 'sense', 'cover', 'processing', 'issue', 'level', 'natural', 'language', 'understanding', 'include', 'speech', 'recognition', 'syntactic', 'semantic', 'analysis', 'sentence'], ['robot', 'human', 'face', 'face', 'use', 'natural', 'language', 'need', 'responsive', 'way', 'human', 'language', 'situation', 'propose', 'natural', 'language', 'processing', 'system', 'robot', 'perform', 'incremental', 'semantic', 'interpretation', 'speak', 'utterance'], ['natural', 'language', 'language', 'speak', 'human', 'currently', 'yet', 'point', 'language', 'unprocessed', 'form', 'understand', 'computer', 'natural', 'language', 'processing', 'collection', 'technique', 'employ', 'try', 'accomplish', 'goal', 'field', 'natural'], ['refer', 'ability', 'meaning', 'understand', 'way', 'natural', 'language', 'ambiguous', 'computer', 'able', 'understand', 'language', 'way', 'people', 'natural', 'language', 'processing', 'nlp', 'concern', 'development'], ['introduction', 'statistical', 'natural', 'language', 'processing', 'snlp', 'field', 'lie', 'intersection', 'natural', 'language', 'processing', 'machine', 'learn', 'snlp', 'er', 'traditional', 'natural', 'language', 'processing', 'instead', 'linguist', 'manually', 'construct', 'model', 'give', 'linguistic'], ['text', 'directly', 'rather', 'title', 'abstract', 'suggest', 'appropriate', 'approach', 'focus', 'role', 'natural', 'language', 'processing', 'paper', 'also', 'comment', 'possible', 'connection', 'conclude', 'emphasize', 'importance', 'rigorous'], ['way', 'communicate', 'word', 'language', 'help', 'understand', 'world', 'well', 'insight', 'world', 'language', 'help', 'speaker', 'vague', 'precise', 'stand', 'natural', 'language', 'process', 'natural', 'language', 'language', 'speak'], ['report', 'experiment', 'standard', 'natural', 'language', 'processing', 'nlp', 'tool', 'analysis', 'music', 'lyric', 'significant', 'amount', 'music', 'audio', 'lyric', 'lyric', 'encode', 'important', 'part', 'semantic', 'therefore', 'analysis', 'complement'], ['paper', 'simple', 'rule', 'base', 'approach', 'automate', 'learn', 'linguistic', 'knowledge', 'approach', 'show', 'number', 'task', 'capture', 'information', 'clear', 'direct', 'fashion', 'compromise', 'performance', 'present', 'detailed', 'case', 'study', 'learning', 'apply', 'part', 'speech', 'tagging'], ['paper', 'focus', 'connectionist', 'model', 'natural', 'language', 'processing', 'briefly', 'present', 'discuss', 'several', 'aspect', 'high', 'level', 'task', 'recently', 'approach', 'connectionism', 'localist', 'parallel', 'distribute', 'processing', 'model', 'several', 'interesting', 'architecture'], ['process', 'language', 'understand', 'new', 'approach', 'natural', 'language', 'processing', 'base', 'deterministic', 'chaotic', 'behavior', 'dynamical', 'system'], ['paper', 'see', 'schank', 'theoretical', 'discussion', 'discussion', 'program', 'build', 'principle', 'goal', 'simply', 'point', 'interest', 'natural', 'language', 'processing', 'lead', 'naturally', 'indeed', 'inevitably'], ['objective', 'provide', 'overview', 'tutorial', 'natural', 'language', 'processing', 'nlp', 'modern', 'nlp', 'system', 'design', 'target', 'audience', 'tutorial', 'target', 'informatic', 'generalist', 'limited', 'acquaintance', 'principle', 'limited', 'knowledge', 'current', 'state'], ['paper', 'briefly', 'describe', 'current', 'implementation', 'status', 'intelligent', 'system', 'employ', 'natural', 'language', 'processing', 'technique', 'descriptive', 'caption', 'use', 'iden', 'tify', 'photographic', 'image', 'concern', 'various', 'military', 'project', 'caption', 'parse'], ['base', 'literature', 'resource', 'describe', 'system', 'agent', 'direct', 'natural', 'language', 'processing', 'extract', 'information', 'article', 'interface', 'develop', 'permit', 'curation', 'nlp', 'result', 'deposition', 'accept', 'result', 'high'], ['evaluation', 'speech', 'processing', 'part', 'survey', 'significant', 'evaluation', 'work', 'do', 'far', 'instance', 'machine', 'translation', 'discuss', 'particular', 'problem', 'generic', 'system', 'evaluation', 'conclusion', 'evaluation', 'strategie', 'technique', 'nlp', 'need', 'much', 'development', 'particular'], ['similar', 'way', 'human', 'intuitively', 'order', 'eliminate', 'noisy', 'content', 'paper', 'describe', 'combination', 'natural', 'language', 'processing', 'nlp', 'technique', 'automate', 'extraction', 'main', 'article', 'associate', 'image', 'web', 'page'], ['natural', 'language', 'processing', 'theoretically', 'motivate', 'range', 'computational', 'technique', 'analyse', 'represent', 'naturally', 'occur', 'text', 'level', 'linguistic', 'analysis', 'purpose', 'achieve', 'human', 'language', 'processing', 'range', 'task'], ['paper', 'review', 'process', 'involve', 'natural', 'language', 'processing', 'nlp', 'demonstrate', 'various', 'kind', 'choice', 'need', 'take', 'execution', 'word', 'morphology', 'syntactic', 'text', 'analysis', 'text', 'generation', 'component', 'compare', 'time', 'complexity'], ['article', 'focusse', 'derivation', 'large', 'lexicon', 'natural', 'language', 'processing', 'describe', 'development', 'dictionary', 'support', 'environment', 'link', 'restructure', 'version', 'natural', 'language', 'processing', 'system', 'process'], ['introduce', 'method', 'analyze', 'complexity', 'natural', 'language', 'processing', 'task', 'predict', 'difficulty', 'new', 'nlp', 'task', 'complexity', 'measure', 'derive', 'kolmogorov', 'complexity', 'class', 'automata', 'meaning', 'purpose', 'extract', 'relevant', 'piece'], ['sound', 'text', 'motion', 'technique', 'develop', 'deep', 'learning', 'research', 'already', 'impact', 'research', 'natural', 'language', 'process', 'paper', 'review', 'recent', 'research', 'deep', 'learning', 'application', 'recent', 'development', 'natural', 'language', 'processing'], ['author', 'produce', 'version', 'paper', 'publish'], ['language', 'processing', 'nlp', 'application', 'automate', 'parse', 'machine', 'learning', 'technique', 'analyze', 'standard', 'text', 'application', 'nlp', 'requirement', 'engineer', 'include', 'extraction', 'ontology', 'requirement', 'specification', 'verify', 'consistency'], ['statistical', 'baseline', 'include', 'forgiving', 'nature', 'broad', 'coverage', 'typical', 'retrieval', 'task', 'lack', 'good', 'weighting', 'compound', 'index', 'term', 'implicit', 'linguistic', 'processing', 'inherent', 'statistical', 'method', 'natural', 'language', 'processing', 'technique', 'may', 'important'], ['work', 'computational', 'linguistic', 'begin', 'soon', 'development', 'first', 'cleave', 'yet', 'intervene', 'decade', 'pervasive', 'feel', 'progress', 'computer', 'understand', 'natural', 'language', 'commensurate'], ['voice', 'natural', 'language', 'tamil', 'combine', 'digital', 'mathematical', 'knowledge', 'use', 'dtw', 'extract', 'match', 'feature', 'improve', 'accuracy', 'well', 'performance'], ['abstract', 'natural', 'language', 'requirement', 'standard', 'approach', 'system', 'acceptance', 'testing', 'test', 'often', 'perform', 'independent', 'test', 'organization', 'area', 'thing', 'tester', 'go', 'write', 'requirement'], ['find'], ['also', 'provide', 'information', 'creative', 'make', 'association', 'storytelle', 'language', 'many', 'subtlety', 'face', 'face', 'interaction', 'add', 'use', 'humor', 'persuade', 'dominate', 'soften', 'avoid', 'face', 'threaten', 'act'], ['find'], ['recent', 'year', 'machine', 'learning', 'used', 'solve', 'complex', 'task', 'different', 'discipline', 'range', 'datum', 'mining', 'information'], ['argue', 'manual', 'alternative', 'resource', 'nlp', 'task', 'involve', 'radical', 'step', 'interpret', 'manual', 'thesaurus', 'classification', 'word', 'rather', 'word', 'sense', 'case', 'make', 'range', 'role', 'thesaurus', 'briefly', 'present', 'wasp', 'introduce', 'evaluation', 'become', 'urgent', 'range', 'evaluation', 'strategy', 'embed', 'nlp', 'task', 'propose'], ['introduction', 'pattern', 'music', 'object', 'intensive', 'study', 'year', 'purpose', 'analyze', 'musical', 'structure', 'form', 'discover', 'pattern', 'explicit', 'implicit', 'musical', 'work', 'comprise', 'periodicity', 'make', 'alphabet', 'compound', 'make', 'subpattern', 'possess', 'phrase', 'structure', 'various', 'form', 'punctuation', 'traditionally', 'composer', 'employ', 'pattern', 'propagation', 'intuitively', 'algorithmic', 'composition', 'technique', 'allow', 'pattern', 'propagation', 'formalize', 'high', 'level', 'composition', 'musical', 'pattern', 'evolve', 'accord', 'rule', 'constraint', 'specie', 'design', 'stage', 'jazz', 'improvisation', 'invent', 'solo', 'guide', 'progression', 'chord', 'change', 'approach', 'learn', 'improvise', 'memorize', 'pattern', 'short', 'chunk', 'music', 'sub', 'progression', 'concatenate', 'form', 'whole', 'solo', 'whole', 'progression'], ['many', 'system', 'retrieve', 'relevant', 'document', 'base', 'exact', 'matching', 'keyword', 'query', 'document', 'method', 'degrade', 'precision', 'rate', 'order', 'solve', 'problem', 'collect', 'semantically', 'relate', 'word', 'assign', 'semantic', 'relationship', 'use', 'general', 'special', 'relationship', 'call', 'addition', 'semantic', 'knowledge', 'automatically', 'construct', 'statistic', 'knowledge', 'base', 'concept', 'mutual', 'information', 'keyfact', 'extend', 'concept', 'keyword', 'represent', 'noun', 'compound', 'noun', 'keyfact', 'adjective', 'include', 'object', 'term', 'first', 'retrieve', 'relevant', 'document', 'original', 'query', 'use', 'idf', 'weight', 'formula', 'expand', 'query', 'include', 'keyfact', 'use', 'second', 'document', 'rank', 'word', 'sense', 'disambiguating', 'make', 'improvement', 'precision', 'rate', 'use', 'network'], ['technical', 'domain', 'distinctly', 'different', 'base', 'web', 'base', 'can', 'benefit', 'lom', 'data', 'intensive', 'approach'], ['saarlande'], ['proceeding'], [], ['find'], ['find'], ['develop', 'integrate', 'speech', 'natural', 'language', 'processing', 'apply', 'linguistic', 'constraint', 'recognition', 'incrementally', 'expand', 'state', 'transition', 'network', 'embody', 'unification', 'compare', 'dynamic'], ['chapter', 'consider', 'revolution', 'take', 'place', 'natural', 'language', 'processing', 'research', 'last', 'year', 'begin', 'provide', 'brief', 'guide', 'structure', 'field', 'present', 'caricature', 'compete', 'paradigm', 'research', 'indicate', 'reason'], ['visual', 'development', 'environment', 'support', 'visual', 'assembly', 'execution', 'analysis', 'modular', 'natural', 'language', 'processing', 'system', 'visual', 'model', 'executable', 'datum', 'flow', 'program', 'graph', 'automatically', 'synthesise', 'data', 'dependency', 'declaration', 'language', 'processing', 'module', 'graph'], ['chapter', 'use', 'description', 'logic', 'natural', 'language', 'processing', 'analyse', 'together', 'little', 'bit', 'history', 'role', 'description', 'logic', 'current', 'state', 'computational', 'linguistic', 'point', 'introduction', 'early', 'day'], ['applied', 'structure', 'learning', 'model', 'margin', 'structure', 'natural', 'language', 'processing', 'nlp', 'task', 'aim', 'capture', 'latent', 'relationship', 'output', 'language', 'domain', 'formulate', 'model', 'extension', 'multi', 'class', 'support', 'vector', 'machine', 'svm', 'present'], ['mation', 'infrastructure', 'digital', 'library', 'network', 'service', 'digital', 'intelligent', 'agent', 'attention', 'move', 'natural', 'language', 'processing', 'critical', 'path', 'kind', 'novel', 'application', 'article', 'mention', 'number', 'successful', 'application', 'natural', 'language', 'processing', 'nlp'], ['last', 'year', 'number', 'area', 'natural', 'language', 'processing', 'begin', 'apply', 'graph', 'base', 'technique', 'include', 'other', 'text', 'summarization', 'syntactic', 'parse', 'word', 'sense', 'disambiguation', 'ontology', 'construction', 'sentiment', 'subjectivity', 'analysis', 'text', 'cluster'], ['natural', 'language', 'processing', 'nlp', 'research', 'result', 'software', 'engineering', 'software', 'technology', 'often', 'neglect'], ['kernelized', 'sort', 'increase', 'robustness', 'performance', 'several', 'natural', 'language', 'processing', 'nlp', 'task', 'document', 'match', 'parallel', 'comparable', 'corpora', 'machine', 'transliteration', 'even', 'image', 'processing', 'empirically', 'show', 'task', 'semi', 'supervise', 'variant', 'kernelize'], ['structured', 'word', 'statistical', 'natural', 'language', 'processing', 'need', 'sophisticated', 'statistical', 'model', 'basic', 'element', 'word', 'phrase', 'combine', 'structural', 'modeling', 'syntactic', 'parsing', 'dependency', 'analysis', 'basic', 'property', 'element'], ['paper', 'framework', 'develop', 'probabilistic', 'classifier', 'natural', 'language', 'processing', 'focus', 'formulating', 'model', 'capture', 'important', 'feature', 'avoid', 'overfitte', 'datum', 'also', 'characterize', 'datum', 'class'], ['many', 'natural', 'language', 'processing', 'nlp', 'technique', 'use', 'information', 'retrieval', 'result', 'encourage', 'simple', 'method', 'stopworde', 'porter', 'style', 'stem', 'usually', 'yield', 'significant', 'improvement', 'high', 'level', 'processing', 'chunk', 'parse', 'word', 'sense', 'disambiguation'], ['explain', 'use', 'natural', 'language', 'processing', 'malayalam', 'language', 'basic'], ['state', 'art', 'plan', 'recognition', 'system', 'paper', 'outline', 'relation', 'natural', 'language', 'processing', 'nlp', 'plan', 'recognition', 'pr', 'argue', 'effectively', 'inform', 'focus', 'key', 'recent', 'research', 'result', 'argue', 'applicability'], ['state', 'art', 'plan', 'recognition', 'system', 'paper', 'outline', 'relation', 'natural', 'language', 'processing', 'nlp', 'plan', 'recognition', 'pr', 'argue', 'effectively', 'inform', 'focus', 'key', 'recent', 'research', 'result', 'argue', 'applicability'], ['find', 'document', 'document', 'collection', 'satisfie', 'information', 'need', 'user', 'document', 'natural', 'language', 'construct', 'motivation', 'work', 'investigate', 'natural', 'language', 'processing', 'use', 'improve'], ['logic', 'programming', 'natural', 'language', 'research', 'machine', 'learning', 'point', 'opportunity', 'induction', 'linguistic', 'knowledge', 'logic', 'programming', 'keyword', 'inductive', 'logic', 'programming', 'natural', 'language', 'processing', 'logic', 'programming', 'machine', 'learning', 'introduction'], ['statistical', 'method', 'use', 'natural', 'language', 'processing', 'paper', 'start', 'definition', 'nlp', 'concern', 'design', 'implementation', 'effective', 'natural', 'language', 'input', 'output', 'component', 'computational', 'system', 'distinguish'], ['report', 'collaborative', 'work', 'field', 'machine', 'learning', 'natural', 'language', 'processing', 'present', 'document', 'structure', 'part', 'first', 'part', 'include', 'superficial', 'comprehensive', 'survey', 'cover', 'state', 'art', 'machine', 'learning'], ['examine', 'machine', 'learning', 'technique', 'various', 'task', 'natural', 'language', 'processing', 'mainly', 'task', 'information', 'extraction', 'text', 'objective', 'improvement', 'adaptability', 'information', 'extraction', 'system', 'new', 'thematic', 'main', 'even'], ['chapter', 'examine', 'application', 'natural', 'language', 'processing', 'language', 'learning', 'include', 'history', 'work', 'field', 'last', 'thirtyfive', 'year', 'focus', 'current', 'development', 'opportunity'], ['traditional', 'approach', 'natural', 'language', 'processing', 'typically', 'fall', 'class', 'syntax', 'drive', 'semantic', 'drive', 'frame', 'task', 'base', 'syntax', 'drive', 'approach', 'domain', 'independent', 'grammar', 'drive', 'interpretation', 'process', 'produce', 'global', 'parse'], ['natural', 'language', 'processing', 'nlp', 'large', 'diverse', 'subtopic', 'artificial', 'intelligence', 'result', 'nlp', 'many', 'subtopic', 'include', 'optical', 'character', 'recognition', 'text', 'speech', 'translator', 'foreign', 'language', 'reading', 'write', 'machine', 'translation', 'speech', 'recognition'], ['state', 'string', 'transducer', 'fst', 'extremely', 'popular', 'natural', 'language', 'processing', 'due', 'powerful', 'generic', 'method', 'apply', 'compose', 'learning', 'unfortunately', 'fst', 'good', 'fit', 'much', 'current', 'work', 'probabilistic', 'modeling', 'machine'], ['special', 'issue', 'look', 'fundamental', 'principle', 'underlie', 'evaluation', 'natural', 'language', 'processing', 'adopt', 'global', 'point', 'view', 'go', 'horizon', 'single', 'evaluation', 'campaign', 'particular', 'brief', 'review', 'history', 'terminology'], ['find'], ['natural', 'language', 'processing', 'system', 'extract', 'clinical', 'information', 'textual', 'report', 'show', 'effective', 'limited', 'domain', 'particular', 'application', 'nlp', 'system', 'typically', 'require', 'substantial', 'resource', 'develop', 'beneficial', 'design', 'easily'], ['fact', 'form', 'link', 'recent', 'development', 'natural', 'language', 'processing', 'logic', 'programming', 'prolog'], ['describe', 'single', 'convolutional', 'neural', 'network', 'architecture', 'give', 'sentence', 'output', 'host', 'language', 'processing', 'prediction', 'speech', 'tag', 'chunk', 'name', 'entity', 'tag', 'semantic', 'role', 'semantically', 'similar', 'word', 'likelihood', 'sentence', 'make', 'sense', 'grammatically'], ['system', 'use', 'advance', 'natural', 'language', 'processing', 'technique', 'enhance', 'effectiveness', 'traditional', 'key', 'word', 'base', 'document', 'backbone', 'system', 'statistical', 'retrieval', 'engine', 'perform', 'automate', 'indexing'], ['find'], ['paper', 'discuss', 'several', 'issue', 'requirement', 'enable', 'natural', 'language', 'processing', 'system', 'become', 'context', 'adaptive', 'give', 'fact', 'emerge', 'system', 'feature', 'speaker', 'independent', 'continuous', 'speech', 'recognition', 'restrict', 'individual', 'domain', 'equip', 'syntactic'], ['introduce', 'new', 'course', 'call', 'apply', 'natural', 'language', 'processing', 'student', 'acquire', 'understand', 'text', 'analysis', 'technique', 'currently', 'feasible', 'practical', 'application'], ['find'], ['language', 'processing', 'study', 'mathematical', 'computational', 'model', 'various', 'aspect', 'language', 'improvement', 'wide', 'range', 'system', 'natural', 'language', 'language', 'arise', 'innate', 'facility', 'language', 'possess', 'human', 'intellect', 'may'], ['natural', 'language', 'processing', 'branch', 'artificial', 'intelligence', 'include', 'speech', 'speech', 'recognition', 'machine', 'translation', 'natural', 'language', 'processing', 'wide', 'range', 'application', 'indian', 'context', 'rural', 'indian', 'community', 'unable', 'make'], ['relate', 'natural', 'language', 'processing', 'system', 'submit', 'degree', 'research', 'address', 'question', 'system'], ['previous', 'work', 'demonstrate', 'web', 'count', 'use', 'approximate', 'count', 'suggest', 'web', 'base', 'frequency', 'useful', 'wide', 'variety', 'natural', 'language', 'processing', 'nlp', 'task', 'however', 'limited', 'number', 'task', 'far', 'test', 'use', 'web', 'scale', 'data', 'set'], ['chapter', 'examine', 'application', 'natural', 'language', 'processing', 'language', 'learning', 'include', 'history', 'work', 'field', 'last', 'thirtyfive', 'year', 'focus', 'current', 'development', 'opportunity', 'introduction', 'chapter', 'focus', 'application'], ['paper', 'describe', 'natural', 'language', 'system', 'improve', 'performance', 'learning', 'system', 'process', 'short', 'english', 'narrative', 'able', 'single', 'new', 'schema', 'stereotypical', 'set', 'action', 'understand', 'process', 'system', 'attempt'], ['review', 'current', 'approach', 'software', 'infrastructure', 'research', 'development', 'delivery', 'system', 'task'], ['confidence', 'measure', 'practical', 'solution', 'improve', 'usefulness', 'natural', 'language', 'processing', 'application', 'confidence', 'machine', 'learning', 'approach', 'derive', 'confidence', 'measure', 'give', 'overview', 'application', 'confidence', 'estimation', 'various', 'field'], ['sign', 'sense', 'would', 'sense', 'would', 'ldoce', 'lex', 'sign', 'sense', 'would', 'sense', 'would', 'sign', 'sense', 'would', 'sense', 'would', 'sense', 'load', 'lkb', 'expand', 'fully', 'fledge', 'representation', 'transitive', 'experience', 'integrate', 'word', 'specific', 'information', 'provide', 'information', 'encode', 'type', 'strict', 'tran', 'sign', 'thus', 'ldoce', 'earlier', 'contain', 'psychological', 'verb', 'define', 'sanfilippo', 'aposs', 'type', 'system', 'use', 'conjunction', 'information', 'available', 'prove', 'possible', 'effectively', 'enrich', 'information', 'time', 'map', 'formal', 'representation', 'multilingual', 'produce', 'usefully', 'exploit', 'various', 'source', 'integrate', 'multilingual', 'information', 'common', 'common', 'type', 'system', 'make', 'possi'], ['describe', 'corenlp', 'toolkit', 'extensible', 'pipeline', 'provide', 'core', 'natural', 'guage', 'analysis', 'toolkit', 'quite', 'widely', 'use', 'research', 'nlp', 'community', 'also', 'commercial', 'govern', 'ment', 'user', 'open', 'source', 'nlp', 'technol', 'suggest'], ['process', 'gps', 'powerful', 'incorporate', 'kernel', 'inference', 'recognise', 'state', 'art', 'many', 'machine', 'learn', 'task'], ['fundamental', 'issue', 'natural', 'language', 'processing', 'prerequisite', 'enormous', 'quantity', 'preprogramme', 'knowledge', 'concern', 'language', 'domain', 'examination', 'manual', 'acquisition', 'knowledge', 'tedious', 'error', 'prone', 'development', 'automate', 'acquisition'], ['sophisticated', 'natural', 'language', 'processing', 'significantly', 'simplify', 'interface', 'domain', 'specific', 'knowledge', 'resource', 'paper', 'present', 'result', 'experience', 'design', 'use', 'upper', 'model', 'variety', 'application', 'year'], ['neighbor', 'map', 'node', 'node', 'may', 'thus', 'view', 'word', 'category', 'information', 'class', 'give', 'self', 'organizing', 'process', 'model', 'word', 'class', 'emerge', 'central', 'topic', 'thesis', 'som', 'natural', 'language', 'processing', 'approach'], ['paper', 'present', 'build', 'natural', 'language', 'processing', 'technology', 'include', 'set', 'linguistic', 'resource', 'software', 'tool', 'apply', 'considerable', 'number', 'practical', 'purpose', 'cover'], ['language', 'processing', 'nlp', 'effective', 'approach', 'bring', 'improvement', 'educational', 'setting', 'implement', 'involve', 'initiating', 'process', 'learn', 'natural', 'acquisition', 'educational', 'system', 'base', 'effective', 'approach', 'provide', 'solution'], ['year', 'disfavor', 'technology', 'return', 'imitate', 'process', 'brain', 'natural', 'language', 'experiment', 'neural', 'compute', 'architecture', 'learn', 'actual', 'spoken', 'language', 'observe', 'rule', 'pronunciation'], ['text', 'statistic', 'frequently', 'use', 'stylometry', 'cryptography', 'study', 'paper', 'text', 'statistic', 'tool', 'develop', 'iso', 'natural', 'language', 'processing', 'detail', 'give', 'usage', 'user', 'callable', 'predicate', 'logic', 'limitation', 'program', 'also', 'discuss'], ['summarize', 'experience', 'use', 'framenet', 'rather', 'different', 'project', 'natural', 'language', 'processing', 'nlp', 'conclude', 'benefit', 'framenet', 'different', 'way', 'sketch', 'problem', 'need', 'overcome']]\n",
            "[[(0, 1)]]\n",
            "[(0, '0.035*\"language\" + 0.023*\"natural\" + 0.023*\"processing\" + 0.023*\"evaluation\" + 0.023*\"fundamental\" + 0.023*\"issue\" + 0.023*\"knowledge\" + 0.023*\"acquisition\" + 0.012*\"development\" + 0.012*\"review\"'), (1, '0.040*\"language\" + 0.037*\"natural\" + 0.036*\"processing\" + 0.021*\"application\" + 0.018*\"linguistic\" + 0.018*\"system\" + 0.018*\"requirement\" + 0.014*\"nlp\" + 0.014*\"paper\" + 0.014*\"machine\"'), (2, '0.030*\"confidence\" + 0.030*\"language\" + 0.030*\"natural\" + 0.030*\"research\" + 0.023*\"approach\" + 0.023*\"application\" + 0.023*\"processing\" + 0.023*\"learning\" + 0.015*\"class\" + 0.015*\"measure\"'), (3, '0.037*\"evaluation\" + 0.028*\"processing\" + 0.019*\"different\" + 0.019*\"framenet\" + 0.019*\"natural\" + 0.019*\"problem\" + 0.019*\"need\" + 0.019*\"language\" + 0.019*\"nlp\" + 0.019*\"particular\"'), (4, '0.001*\"discussion\" + 0.001*\"language\" + 0.001*\"natural\" + 0.001*\"processing\" + 0.001*\"see\" + 0.001*\"point\" + 0.001*\"naturally\" + 0.001*\"principle\" + 0.001*\"simply\" + 0.001*\"schank\"'), (5, '0.025*\"saarlande\" + 0.001*\"nlp\" + 0.001*\"toolkit\" + 0.001*\"natural\" + 0.001*\"user\" + 0.001*\"commercial\" + 0.001*\"technol\" + 0.001*\"guage\" + 0.001*\"use\" + 0.001*\"corenlp\"'), (6, '0.031*\"language\" + 0.031*\"natural\" + 0.024*\"processing\" + 0.016*\"datum\" + 0.016*\"paper\" + 0.016*\"caption\" + 0.016*\"system\" + 0.016*\"technique\" + 0.016*\"feature\" + 0.016*\"use\"'), (7, '0.026*\"natural\" + 0.026*\"language\" + 0.026*\"processing\" + 0.020*\"nlp\" + 0.020*\"system\" + 0.020*\"state\" + 0.020*\"limited\" + 0.013*\"machine\" + 0.013*\"design\" + 0.013*\"domain\"'), (8, '0.071*\"language\" + 0.036*\"natural\" + 0.026*\"processing\" + 0.021*\"approach\" + 0.021*\"base\" + 0.021*\"drive\" + 0.015*\"web\" + 0.015*\"task\" + 0.015*\"process\" + 0.010*\"world\"'), (9, '0.035*\"pattern\" + 0.018*\"system\" + 0.018*\"musical\" + 0.018*\"form\" + 0.018*\"progression\" + 0.012*\"natural\" + 0.012*\"nlp\" + 0.012*\"process\" + 0.012*\"describe\" + 0.012*\"toolkit\"'), (10, '0.053*\"language\" + 0.053*\"processing\" + 0.041*\"natural\" + 0.017*\"paper\" + 0.017*\"task\" + 0.017*\"approach\" + 0.017*\"model\" + 0.012*\"several\" + 0.012*\"present\" + 0.012*\"linguistic\"'), (11, '0.034*\"language\" + 0.017*\"pronunciation\" + 0.017*\"disfavor\" + 0.017*\"spoken\" + 0.017*\"return\" + 0.017*\"process\" + 0.017*\"imitate\" + 0.017*\"actual\" + 0.017*\"brain\" + 0.017*\"rule\"'), (12, '0.063*\"language\" + 0.048*\"natural\" + 0.045*\"processing\" + 0.029*\"speech\" + 0.023*\"application\" + 0.022*\"include\" + 0.022*\"recognition\" + 0.021*\"logic\" + 0.019*\"semantic\" + 0.014*\"programming\"'), (13, '0.070*\"find\" + 0.036*\"language\" + 0.036*\"natural\" + 0.027*\"lyric\" + 0.018*\"processing\" + 0.018*\"analysis\" + 0.018*\"music\" + 0.018*\"computational\" + 0.018*\"nlp\" + 0.009*\"statistical\"'), (14, '0.036*\"processing\" + 0.036*\"language\" + 0.036*\"natural\" + 0.018*\"system\" + 0.018*\"article\" + 0.018*\"describe\" + 0.018*\"statistic\" + 0.018*\"result\" + 0.018*\"develop\" + 0.018*\"text\"'), (15, '0.050*\"sense\" + 0.043*\"would\" + 0.036*\"information\" + 0.029*\"sign\" + 0.022*\"type\" + 0.015*\"research\" + 0.015*\"provide\" + 0.015*\"system\" + 0.015*\"integrate\" + 0.015*\"common\"'), (16, '0.062*\"language\" + 0.047*\"natural\" + 0.042*\"processing\" + 0.017*\"nlp\" + 0.012*\"use\" + 0.012*\"technique\" + 0.012*\"word\" + 0.012*\"task\" + 0.012*\"face\" + 0.012*\"range\"'), (17, '0.033*\"document\" + 0.033*\"use\" + 0.025*\"keyfact\" + 0.025*\"query\" + 0.017*\"include\" + 0.017*\"semantic\" + 0.017*\"precision\" + 0.017*\"keyword\" + 0.017*\"knowledge\" + 0.017*\"retrieve\"'), (18, '0.030*\"language\" + 0.030*\"natural\" + 0.030*\"processing\" + 0.024*\"recognition\" + 0.024*\"plan\" + 0.024*\"argue\" + 0.018*\"complexity\" + 0.018*\"maximum\" + 0.018*\"nlp\" + 0.018*\"state\"'), (19, '0.001*\"research\" + 0.001*\"language\" + 0.001*\"natural\" + 0.001*\"recent\" + 0.001*\"processing\" + 0.001*\"learning\" + 0.001*\"deep\" + 0.001*\"caricature\" + 0.001*\"process\" + 0.001*\"already\"')]\n",
            "\n",
            "Perplexity:  -6.716580510003938\n",
            "\n",
            "Coherence Score:  0.41285207984953737\n",
            "openjdk version \"11.0.10\" 2021-01-19\n",
            "OpenJDK Runtime Environment (build 11.0.10+9-Ubuntu-0ubuntu1.18.04)\n",
            "OpenJDK 64-Bit Server VM (build 11.0.10+9-Ubuntu-0ubuntu1.18.04, mixed mode, sharing)\n",
            "--2021-03-22 06:24:48--  http://mallet.cs.umass.edu/dist/mallet-2.0.8.zip\n",
            "Resolving mallet.cs.umass.edu (mallet.cs.umass.edu)... 128.119.246.70\n",
            "Connecting to mallet.cs.umass.edu (mallet.cs.umass.edu)|128.119.246.70|:80... connected.\n",
            "HTTP request sent, awaiting response... 200 OK\n",
            "Length: 16184794 (15M) [application/zip]\n",
            "Saving to: ‘mallet-2.0.8.zip.3’\n",
            "\n",
            "mallet-2.0.8.zip.3  100%[===================>]  15.43M  9.25MB/s    in 1.7s    \n",
            "\n",
            "2021-03-22 06:24:50 (9.25 MB/s) - ‘mallet-2.0.8.zip.3’ saved [16184794/16184794]\n",
            "\n",
            "Archive:  mallet-2.0.8.zip\n",
            "replace mallet-2.0.8/bin/classifier2info? [y]es, [n]o, [A]ll, [N]one, [r]ename: y\n",
            "  inflating: mallet-2.0.8/bin/classifier2info  \n",
            "replace mallet-2.0.8/bin/csv2classify? [y]es, [n]o, [A]ll, [N]one, [r]ename: n\n",
            "replace mallet-2.0.8/bin/csv2vectors? [y]es, [n]o, [A]ll, [N]one, [r]ename: N\n",
            "[(13,\n",
            "  [('pattern', 0.06451612903225806),\n",
            "   ('make', 0.053763440860215055),\n",
            "   ('form', 0.053763440860215055),\n",
            "   ('music', 0.043010752688172046),\n",
            "   ('chunk', 0.043010752688172046),\n",
            "   ('structure', 0.043010752688172046),\n",
            "   ('study', 0.043010752688172046),\n",
            "   ('musical', 0.03225806451612903),\n",
            "   ('experience', 0.03225806451612903),\n",
            "   ('progression', 0.03225806451612903)]),\n",
            " (11,\n",
            "  [('language', 0.15178571428571427),\n",
            "   ('work', 0.08928571428571429),\n",
            "   ('development', 0.07142857142857142),\n",
            "   ('current', 0.0625),\n",
            "   ('linguistic', 0.03571428571428571),\n",
            "   ('performance', 0.03571428571428571),\n",
            "   ('chapter', 0.03571428571428571),\n",
            "   ('introduction', 0.03571428571428571),\n",
            "   ('broad', 0.026785714285714284),\n",
            "   ('introduce', 0.017857142857142856)]),\n",
            " (5,\n",
            "  [('natural', 0.36936936936936937),\n",
            "   ('statistical', 0.07207207207207207),\n",
            "   ('describe', 0.06306306306306306),\n",
            "   ('method', 0.036036036036036036),\n",
            "   ('complexity', 0.02702702702702703),\n",
            "   ('set', 0.02702702702702703),\n",
            "   ('understand', 0.018018018018018018),\n",
            "   ('approach', 0.018018018018018018),\n",
            "   ('naturally', 0.018018018018018018),\n",
            "   ('deep', 0.018018018018018018)]),\n",
            " (18,\n",
            "  [('task', 0.2),\n",
            "   ('evaluation', 0.0761904761904762),\n",
            "   ('range', 0.06666666666666667),\n",
            "   ('point', 0.047619047619047616),\n",
            "   ('process', 0.047619047619047616),\n",
            "   ('nlp', 0.02857142857142857),\n",
            "   ('manual', 0.02857142857142857),\n",
            "   ('principle', 0.02857142857142857),\n",
            "   ('direct', 0.01904761904761905),\n",
            "   ('survey', 0.01904761904761905)]),\n",
            " (0,\n",
            "  [('processing', 0.2871287128712871),\n",
            "   ('text', 0.12871287128712872),\n",
            "   ('apply', 0.06930693069306931),\n",
            "   ('face', 0.04950495049504951),\n",
            "   ('recognition', 0.0297029702970297),\n",
            "   ('linguistic', 0.0297029702970297),\n",
            "   ('rule', 0.0297029702970297),\n",
            "   ('learning', 0.019801980198019802),\n",
            "   ('constraint', 0.019801980198019802),\n",
            "   ('sentence', 0.019801980198019802)]),\n",
            " (14,\n",
            "  [('nlp', 0.2765957446808511),\n",
            "   ('natural', 0.2765957446808511),\n",
            "   ('article', 0.0425531914893617),\n",
            "   ('lyric', 0.031914893617021274),\n",
            "   ('make', 0.031914893617021274),\n",
            "   ('program', 0.031914893617021274),\n",
            "   ('likelihood', 0.02127659574468085),\n",
            "   ('educational', 0.02127659574468085),\n",
            "   ('describe', 0.02127659574468085),\n",
            "   ('thesis', 0.010638297872340425)]),\n",
            " (10,\n",
            "  [('information', 0.14414414414414414),\n",
            "   ('word', 0.13513513513513514),\n",
            "   ('sense', 0.10810810810810811),\n",
            "   ('extract', 0.036036036036036036),\n",
            "   ('sign', 0.036036036036036036),\n",
            "   ('expand', 0.02702702702702703),\n",
            "   ('automate', 0.02702702702702703),\n",
            "   ('type', 0.02702702702702703),\n",
            "   ('integrate', 0.02702702702702703),\n",
            "   ('representation', 0.018018018018018018)]),\n",
            " (1,\n",
            "  [('system', 0.2545454545454545),\n",
            "   ('find', 0.07272727272727272),\n",
            "   ('design', 0.045454545454545456),\n",
            "   ('number', 0.045454545454545456),\n",
            "   ('software', 0.03636363636363636),\n",
            "   ('improve', 0.03636363636363636),\n",
            "   ('effective', 0.03636363636363636),\n",
            "   ('limited', 0.02727272727272727),\n",
            "   ('show', 0.01818181818181818),\n",
            "   ('concern', 0.01818181818181818)]),\n",
            " (2,\n",
            "  [('processing', 0.29591836734693877),\n",
            "   ('speech', 0.11224489795918367),\n",
            "   ('term', 0.04081632653061224),\n",
            "   ('extraction', 0.04081632653061224),\n",
            "   ('technique', 0.04081632653061224),\n",
            "   ('fst', 0.02040816326530612),\n",
            "   ('problem', 0.02040816326530612),\n",
            "   ('tag', 0.02040816326530612),\n",
            "   ('datum', 0.02040816326530612),\n",
            "   ('framenet', 0.02040816326530612)]),\n",
            " (4,\n",
            "  [('focus', 0.09574468085106383),\n",
            "   ('recognition', 0.0851063829787234),\n",
            "   ('result', 0.0851063829787234),\n",
            "   ('state', 0.07446808510638298),\n",
            "   ('argue', 0.05319148936170213),\n",
            "   ('role', 0.05319148936170213),\n",
            "   ('plan', 0.0425531914893617),\n",
            "   ('art', 0.0425531914893617),\n",
            "   ('key', 0.031914893617021274),\n",
            "   ('issue', 0.031914893617021274)])]\n",
            "\n",
            "Coherence Score:  0.6113390861521323\n"
          ],
          "name": "stdout"
        },
        {
          "output_type": "display_data",
          "data": {
            "image/png": "[encoded data removed]",
            "text/plain": [
              "<Figure size 432x288 with 1 Axes>"
            ]
          },
          "metadata": {
            "tags": [],
            "needs_background": "light"
          }
        },
        {
          "output_type": "stream",
          "text": [
            "Num Topics = 2  has Coherence Value of 0.3475\n",
            "Num Topics = 8  has Coherence Value of 0.5372\n",
            "Num Topics = 14  has Coherence Value of 0.599\n",
            "Num Topics = 20  has Coherence Value of 0.6435\n",
            "Num Topics = 26  has Coherence Value of 0.6485\n",
            "Num Topics = 32  has Coherence Value of 0.6458\n",
            "Num Topics = 38  has Coherence Value of 0.66\n",
            "[(0, '0.211*\"natural\" + 0.174*\"system\" + 0.092*\"process\" + 0.037*\"limited\" + 0.028*\"experience\" + 0.028*\"computer\" + 0.018*\"deep\" + 0.018*\"entropy\" + 0.018*\"discussion\" + 0.018*\"outline\"'), (1, '0.432*\"language\" + 0.045*\"automate\" + 0.036*\"extraction\" + 0.027*\"architecture\" + 0.027*\"role\" + 0.027*\"sentence\" + 0.018*\"tagging\" + 0.018*\"specific\" + 0.018*\"neural\" + 0.018*\"snlp\"'), (2, '0.158*\"application\" + 0.139*\"learning\" + 0.099*\"development\" + 0.089*\"focus\" + 0.079*\"field\" + 0.050*\"chapter\" + 0.040*\"improve\" + 0.030*\"measure\" + 0.030*\"opportunity\" + 0.020*\"noun\"'), (3, '0.227*\"task\" + 0.034*\"data\" + 0.034*\"digital\" + 0.034*\"speak\" + 0.034*\"base\" + 0.023*\"discuss\" + 0.023*\"global\" + 0.023*\"recently\" + 0.023*\"count\" + 0.023*\"purpose\"'), (4, '0.167*\"approach\" + 0.088*\"present\" + 0.069*\"year\" + 0.059*\"learn\" + 0.059*\"provide\" + 0.059*\"find\" + 0.049*\"face\" + 0.029*\"rule\" + 0.029*\"performance\" + 0.020*\"number\"'), (5, '0.169*\"natural\" + 0.112*\"work\" + 0.101*\"describe\" + 0.056*\"web\" + 0.045*\"review\" + 0.034*\"number\" + 0.034*\"report\" + 0.034*\"word\" + 0.034*\"analyze\" + 0.022*\"composition\"'), (6, '0.180*\"machine\" + 0.146*\"include\" + 0.101*\"speech\" + 0.056*\"programming\" + 0.045*\"part\" + 0.045*\"confidence\" + 0.034*\"translation\" + 0.034*\"issue\" + 0.022*\"solve\" + 0.022*\"practical\"'), (7, '0.137*\"information\" + 0.120*\"sense\" + 0.103*\"word\" + 0.060*\"make\" + 0.051*\"give\" + 0.034*\"sign\" + 0.026*\"set\" + 0.026*\"integrate\" + 0.026*\"type\" + 0.017*\"common\"'), (8, '0.069*\"processing\" + 0.059*\"structure\" + 0.059*\"pattern\" + 0.039*\"chunk\" + 0.039*\"level\" + 0.039*\"form\" + 0.039*\"music\" + 0.029*\"cover\" + 0.029*\"musical\" + 0.029*\"progression\"'), (9, '0.157*\"paper\" + 0.122*\"technique\" + 0.113*\"text\" + 0.070*\"understand\" + 0.035*\"parse\" + 0.035*\"syntactic\" + 0.035*\"concern\" + 0.026*\"find\" + 0.017*\"part\" + 0.017*\"generation\"'), (10, '0.086*\"document\" + 0.086*\"semantic\" + 0.078*\"knowledge\" + 0.034*\"term\" + 0.034*\"base\" + 0.034*\"construct\" + 0.034*\"problem\" + 0.026*\"relationship\" + 0.026*\"network\" + 0.026*\"keyfact\"'), (11, '0.133*\"linguistic\" + 0.133*\"research\" + 0.111*\"logic\" + 0.078*\"current\" + 0.056*\"point\" + 0.056*\"introduction\" + 0.044*\"description\" + 0.022*\"process\" + 0.022*\"role\" + 0.022*\"probabilistic\"'), (12, '0.299*\"language\" + 0.274*\"processing\" + 0.034*\"software\" + 0.017*\"goal\" + 0.017*\"modeling\" + 0.017*\"important\" + 0.017*\"caption\" + 0.017*\"syntactic\" + 0.017*\"community\" + 0.017*\"guide\"'), (13, '0.072*\"apply\" + 0.062*\"develop\" + 0.062*\"range\" + 0.041*\"drive\" + 0.041*\"study\" + 0.041*\"extract\" + 0.041*\"resource\" + 0.031*\"test\" + 0.031*\"wide\" + 0.031*\"feature\"'), (14, '0.529*\"natural\" + 0.049*\"human\" + 0.039*\"complexity\" + 0.029*\"employ\" + 0.020*\"indian\" + 0.020*\"condition\" + 0.020*\"begin\" + 0.020*\"traditional\" + 0.010*\"rigorous\" + 0.010*\"cluster\"'), (15, '0.122*\"recognition\" + 0.089*\"state\" + 0.089*\"result\" + 0.056*\"argue\" + 0.044*\"plan\" + 0.044*\"art\" + 0.044*\"recent\" + 0.033*\"key\" + 0.033*\"nlp\" + 0.022*\"inform\"'), (16, '0.237*\"nlp\" + 0.061*\"evaluation\" + 0.053*\"method\" + 0.044*\"requirement\" + 0.044*\"base\" + 0.035*\"statistical\" + 0.026*\"user\" + 0.018*\"expand\" + 0.018*\"statistic\" + 0.018*\"technology\"'), (17, '0.174*\"processing\" + 0.130*\"model\" + 0.076*\"domain\" + 0.054*\"class\" + 0.033*\"capture\" + 0.033*\"analysis\" + 0.033*\"visual\" + 0.033*\"support\" + 0.022*\"fst\" + 0.022*\"context\"'), (18, '0.316*\"language\" + 0.071*\"analysis\" + 0.051*\"computational\" + 0.041*\"statistical\" + 0.031*\"basic\" + 0.031*\"element\" + 0.031*\"lyric\" + 0.031*\"design\" + 0.020*\"achieve\" + 0.020*\"suggest\"'), (19, '0.293*\"processing\" + 0.111*\"system\" + 0.051*\"improvement\" + 0.040*\"effective\" + 0.030*\"history\" + 0.030*\"retrieval\" + 0.030*\"principle\" + 0.020*\"node\" + 0.020*\"thesaurus\" + 0.020*\"implicit\"')]\n"
          ],
          "name": "stdout"
        },
        {
          "output_type": "execute_result",
          "data": {
            "text/html": [
              "<div>\n",
              "<style scoped>\n",
              "    .dataframe tbody tr th:only-of-type {\n",
              "        vertical-align: middle;\n",
              "    }\n",
              "\n",
              "    .dataframe tbody tr th {\n",
              "        vertical-align: top;\n",
              "    }\n",
              "\n",
              "    .dataframe thead th {\n",
              "        text-align: right;\n",
              "    }\n",
              "</style>\n",
              "<table border=\"1\" class=\"dataframe\">\n",
              "  <thead>\n",
              "    <tr style=\"text-align: right;\">\n",
              "      <th></th>\n",
              "      <th>Topic_Num</th>\n",
              "      <th>Topic_Perc_Contrib</th>\n",
              "      <th>Keywords</th>\n",
              "      <th>Text</th>\n",
              "    </tr>\n",
              "  </thead>\n",
              "  <tbody>\n",
              "    <tr>\n",
              "      <th>0</th>\n",
              "      <td>0.0</td>\n",
              "      <td>0.0887</td>\n",
              "      <td>natural, system, process, limited, experience,...</td>\n",
              "      <td>This paper describes a natural language syste...</td>\n",
              "    </tr>\n",
              "    <tr>\n",
              "      <th>1</th>\n",
              "      <td>1.0</td>\n",
              "      <td>0.1056</td>\n",
              "      <td>language, automate, extraction, architecture, ...</td>\n",
              "      <td>ABSTRACT: After twenty years of disfavor, a t...</td>\n",
              "    </tr>\n",
              "    <tr>\n",
              "      <th>2</th>\n",
              "      <td>2.0</td>\n",
              "      <td>0.1829</td>\n",
              "      <td>application, learning, development, focus, fie...</td>\n",
              "      <td>This chapter examines the application of natu...</td>\n",
              "    </tr>\n",
              "    <tr>\n",
              "      <th>3</th>\n",
              "      <td>3.0</td>\n",
              "      <td>0.0983</td>\n",
              "      <td>task, data, digital, speak, base, discuss, glo...</td>\n",
              "      <td>We introduce a method for analyzing the compl...</td>\n",
              "    </tr>\n",
              "    <tr>\n",
              "      <th>4</th>\n",
              "      <td>4.0</td>\n",
              "      <td>0.1301</td>\n",
              "      <td>approach, present, year, learn, provide, find,...</td>\n",
              "      <td>this paper, we will describe a simple rule-ba...</td>\n",
              "    </tr>\n",
              "  </tbody>\n",
              "</table>\n",
              "</div>"
            ],
            "text/plain": [
              "   Topic_Num  ...                                               Text\n",
              "0        0.0  ...   This paper describes a natural language syste...\n",
              "1        1.0  ...   ABSTRACT: After twenty years of disfavor, a t...\n",
              "2        2.0  ...   This chapter examines the application of natu...\n",
              "3        3.0  ...   We introduce a method for analyzing the compl...\n",
              "4        4.0  ...   this paper, we will describe a simple rule-ba...\n",
              "\n",
              "[5 rows x 4 columns]"
            ]
          },
          "metadata": {
            "tags": []
          },
          "execution_count": 15
        }
      ]
    },
    {
      "cell_type": "code",
      "metadata": {
        "colab": {
          "base_uri": "https://localhost:8080/"
        },
        "id": "4swh_XXels3z",
        "outputId": "3192079f-9996-43a3-bcce-a35dffca4403"
      },
      "source": [
        "!pip install pyLDAvis"
      ],
      "execution_count": 14,
      "outputs": [
        {
          "output_type": "stream",
          "text": [
            "Requirement already satisfied: pyLDAvis in /usr/local/lib/python3.7/dist-packages (3.2.2)\n",
            "Requirement already satisfied: numpy>=1.9.2 in /usr/local/lib/python3.7/dist-packages (from pyLDAvis) (1.19.5)\n",
            "Requirement already satisfied: funcy in /usr/local/lib/python3.7/dist-packages (from pyLDAvis) (1.15)\n",
            "Requirement already satisfied: numexpr in /usr/local/lib/python3.7/dist-packages (from pyLDAvis) (2.7.3)\n",
            "Requirement already satisfied: future in /usr/local/lib/python3.7/dist-packages (from pyLDAvis) (0.16.0)\n",
            "Requirement already satisfied: jinja2>=2.7.2 in /usr/local/lib/python3.7/dist-packages (from pyLDAvis) (2.11.3)\n",
            "Requirement already satisfied: pandas>=0.17.0; python_version > \"3.5\" in /usr/local/lib/python3.7/dist-packages (from pyLDAvis) (1.1.5)\n",
            "Requirement already satisfied: joblib>=0.8.4 in /usr/local/lib/python3.7/dist-packages (from pyLDAvis) (1.0.1)\n",
            "Requirement already satisfied: scipy>=0.18.0 in /usr/local/lib/python3.7/dist-packages (from pyLDAvis) (1.4.1)\n",
            "Requirement already satisfied: wheel>=0.23.0 in /usr/local/lib/python3.7/dist-packages (from pyLDAvis) (0.36.2)\n",
            "Requirement already satisfied: MarkupSafe>=0.23 in /usr/local/lib/python3.7/dist-packages (from jinja2>=2.7.2->pyLDAvis) (1.1.1)\n",
            "Requirement already satisfied: pytz>=2017.2 in /usr/local/lib/python3.7/dist-packages (from pandas>=0.17.0; python_version > \"3.5\"->pyLDAvis) (2018.9)\n",
            "Requirement already satisfied: python-dateutil>=2.7.3 in /usr/local/lib/python3.7/dist-packages (from pandas>=0.17.0; python_version > \"3.5\"->pyLDAvis) (2.8.1)\n",
            "Requirement already satisfied: six>=1.5 in /usr/local/lib/python3.7/dist-packages (from python-dateutil>=2.7.3->pandas>=0.17.0; python_version > \"3.5\"->pyLDAvis) (1.15.0)\n"
          ],
          "name": "stdout"
        }
      ]
    },
    {
      "cell_type": "markdown",
      "metadata": {
        "id": "gdaj_gOsd_oT"
      },
      "source": [
        "## (2) (8 points) Generate K topics by using LSA, the number of topics K should be decided by the coherence score, then summarize what are the topics. You may refer the code here:\n",
        "\n",
        "https://www.datacamp.com/community/tutorials/discovering-hidden-topics-python"
      ]
    },
    {
      "cell_type": "code",
      "metadata": {
        "id": "zJpP9YHSimqF"
      },
      "source": [
        ""
      ],
      "execution_count": null,
      "outputs": []
    },
    {
      "cell_type": "code",
      "metadata": {
        "id": "YVRt1YAUd_oU"
      },
      "source": [
        "import os.path\n",
        "from gensim import corpora\n",
        "from gensim.models import LsiModel\n",
        "from nltk.tokenize import RegexpTokenizer\n",
        "from nltk.corpus import stopwords\n",
        "from nltk.stem.porter import PorterStemmer\n",
        "from gensim.models.coherencemodel import CoherenceModel\n",
        "import matplotlib.pyplot as plt\n",
        "\n"
      ],
      "execution_count": 1,
      "outputs": []
    },
    {
      "cell_type": "code",
      "metadata": {
        "id": "Sik3sdBVeKJy"
      },
      "source": [
        "\n",
        "def load_data(path,file_name):\n",
        "    \"\"\"\n",
        "    Input  : path and file_name\n",
        "    Purpose: loading text file\n",
        "    Output : list of paragraphs/documents and\n",
        "             title(initial 100 words considred as title of document)\n",
        "    \"\"\"\n",
        "    documents_list = []\n",
        "    titles=[]\n",
        "    with open( os.path.join(path, file_name) ,\"r\") as fin:\n",
        "        for line in fin.readlines():\n",
        "            text = line.strip()\n",
        "            documents_list.append(text)\n",
        "    print(\"Total Number of Documents:\",len(documents_list))\n",
        "    titles.append( text[0:min(len(text),100)] )\n",
        "    return documents_list,titles"
      ],
      "execution_count": 19,
      "outputs": []
    },
    {
      "cell_type": "code",
      "metadata": {
        "id": "0bX0WTrfeNZK"
      },
      "source": [
        "\n",
        "def preprocess_data(doc_set):\n",
        "    \"\"\"\n",
        "    Input  : docuemnt list\n",
        "    Purpose: preprocess text (tokenize, removing stopwords, and stemming)\n",
        "    Output : preprocessed text\n",
        "    \"\"\"\n",
        "    # initialize regex tokenizer\n",
        "    tokenizer = RegexpTokenizer(r'\\w+')\n",
        "    # create English stop words list\n",
        "    en_stop = set(stopwords.words('english'))\n",
        "    # Create p_stemmer of class PorterStemmer\n",
        "    p_stemmer = PorterStemmer()\n",
        "    # list for tokenized documents in loop\n",
        "    texts = []\n",
        "    # loop through document list\n",
        "    for i in doc_set:\n",
        "        # clean and tokenize document string\n",
        "        raw = i.lower()\n",
        "        tokens = tokenizer.tokenize(raw)\n",
        "        # remove stop words from tokens\n",
        "        stopped_tokens = [i for i in tokens if not i in en_stop]\n",
        "        # stem tokens\n",
        "        stemmed_tokens = [p_stemmer.stem(i) for i in stopped_tokens]\n",
        "        # add tokens to list\n",
        "        texts.append(stemmed_tokens)\n",
        "    return texts"
      ],
      "execution_count": 3,
      "outputs": []
    },
    {
      "cell_type": "code",
      "metadata": {
        "id": "s4xrMve7eQb1"
      },
      "source": [
        "def prepare_corpus(doc_clean):\n",
        "    \"\"\"\n",
        "    Input  : clean document\n",
        "    Purpose: create term dictionary of our courpus and Converting list of documents (corpus) into Document Term Matrix\n",
        "    Output : term dictionary and Document Term Matrix\n",
        "    \"\"\"\n",
        "    # Creating the term dictionary of our courpus, where every unique term is assigned an index. dictionary = corpora.Dictionary(doc_clean)\n",
        "    dictionary = corpora.Dictionary(doc_clean)\n",
        "    # Converting list of documents (corpus) into Document Term Matrix using dictionary prepared above.\n",
        "    doc_term_matrix = [dictionary.doc2bow(doc) for doc in doc_clean]\n",
        "    # generate LDA model\n",
        "    return dictionary,doc_term_matrix"
      ],
      "execution_count": 20,
      "outputs": []
    },
    {
      "cell_type": "code",
      "metadata": {
        "id": "mWg3qxTLeXoy"
      },
      "source": [
        "\n",
        "def create_gensim_lsa_model(doc_clean,num_topics,words):\n",
        "    \"\"\"\n",
        "    Input  : clean document, number of topics and number of words associated with each topic\n",
        "    Purpose: create LSA model using gensim\n",
        "    Output : return LSA model\n",
        "    \"\"\"\n",
        "    dictionary,doc_term_matrix=prepare_corpus(doc_clean)\n",
        "    # generate LSA model\n",
        "    lsamodel = LsiModel(doc_term_matrix, num_topics=num_topics, id2word = dictionary)  # train model\n",
        "    print(lsamodel.print_topics(num_topics=number_of_topics, num_words=words))\n",
        "    return lsamodel"
      ],
      "execution_count": 21,
      "outputs": []
    },
    {
      "cell_type": "code",
      "metadata": {
        "id": "UVpqR4T9esME"
      },
      "source": [
        "def compute_coherence_values(dictionary, doc_term_matrix, doc_clean, stop, start=2, step=3):\n",
        "    \"\"\"\n",
        "    Input   : dictionary : Gensim dictionary\n",
        "              corpus : Gensim corpus\n",
        "              texts : List of input texts\n",
        "              stop : Max num of topics\n",
        "    purpose : Compute c_v coherence for various number of topics\n",
        "    Output  : model_list : List of LSA topic models\n",
        "              coherence_values : Coherence values corresponding to the LDA model with respective number of topics\n",
        "    \"\"\"\n",
        "    coherence_values = []\n",
        "    model_list = []\n",
        "    for num_topics in range(start, stop, step):\n",
        "        # generate LSA model\n",
        "        model = LsiModel(doc_term_matrix, num_topics=num_topics, id2word = dictionary)  # train model\n",
        "        model_list.append(model)\n",
        "        coherencemodel = CoherenceModel(model=model, texts=doc_clean, dictionary=dictionary, coherence='c_v')\n",
        "        coherence_values.append(coherencemodel.get_coherence())\n",
        "    return model_list, coherence_values"
      ],
      "execution_count": 22,
      "outputs": []
    },
    {
      "cell_type": "code",
      "metadata": {
        "id": "_lgU0ov9ewgb"
      },
      "source": [
        "def plot_graph(doc_clean,start, stop, step):\n",
        "    dictionary,doc_term_matrix=prepare_corpus(doc_clean)\n",
        "    model_list, coherence_values = compute_coherence_values(dictionary, doc_term_matrix,doc_clean,\n",
        "                                                            stop, start, step)\n",
        "    # Show graph\n",
        "    x = range(start, stop, step)\n",
        "    plt.plot(x, coherence_values)\n",
        "    plt.xlabel(\"Number of Topics\")\n",
        "    plt.ylabel(\"Coherence score\")\n",
        "    plt.legend((\"coherence_values\"), loc='best')\n",
        "    plt.show()"
      ],
      "execution_count": 23,
      "outputs": []
    },
    {
      "cell_type": "code",
      "metadata": {
        "colab": {
          "base_uri": "https://localhost:8080/",
          "height": 444
        },
        "id": "pS5As0ame0PH",
        "outputId": "2e84ba84-6938-41cc-8dd7-121999946159"
      },
      "source": [
        "start,stop,step=4,12,1\n",
        "plot_graph(clean_text,start,stop,step)\n",
        "\n",
        "number_of_topics=8\n",
        "words=12\n",
        "model=create_gensim_lsa_model(clean_text,number_of_topics,words)\n",
        "\n",
        "dictionary,doc_term_matrix= prepare_corpus(clean_text)\n",
        "model_list_lsa,coherence_values_lsa = compute_coherence_values(dictionary,doc_term_matrix,clean_text,40,2,6)\n",
        "\n",
        "\n",
        "x = range(start, stop, step)\n",
        "for m, cv in zip(x, coherence_values_lsa):\n",
        "    print(\"Num Topics =\", m, \" has Coherence Value of\", round(cv, 4))"
      ],
      "execution_count": 31,
      "outputs": [
        {
          "output_type": "display_data",
          "data": {
            "image/png": "[encoded data removed]",
            "text/plain": [
              "<Figure size 432x288 with 1 Axes>"
            ]
          },
          "metadata": {
            "tags": [],
            "needs_background": "light"
          }
        },
        {
          "output_type": "stream",
          "text": [
            "[(0, '0.619*\"language\" + 0.481*\"natural\" + 0.423*\"processing\" + 0.126*\"system\" + 0.123*\"nlp\" + 0.094*\"use\" + 0.080*\"application\" + 0.077*\"machine\" + 0.074*\"task\" + 0.073*\"paper\" + 0.072*\"learning\" + 0.064*\"include\"'), (1, '-0.479*\"sense\" + -0.375*\"would\" + -0.363*\"information\" + -0.250*\"sign\" + -0.187*\"type\" + -0.166*\"use\" + -0.162*\"system\" + -0.133*\"word\" + -0.125*\"ldoce\" + -0.125*\"multilingual\" + -0.125*\"representation\" + -0.125*\"common\"'), (2, '-0.411*\"pattern\" + -0.206*\"progression\" + -0.206*\"musical\" + -0.204*\"form\" + -0.173*\"document\" + -0.161*\"make\" + -0.159*\"use\" + -0.143*\"structure\" + -0.140*\"music\" + -0.137*\"propagation\" + -0.137*\"composition\" + -0.137*\"whole\"'), (3, '0.290*\"document\" + 0.287*\"use\" + -0.279*\"pattern\" + 0.194*\"keyfact\" + 0.194*\"query\" + 0.150*\"base\" + -0.145*\"form\" + -0.139*\"progression\" + -0.139*\"musical\" + -0.139*\"would\" + 0.137*\"semantic\" + 0.136*\"knowledge\"'), (4, '0.426*\"nlp\" + -0.343*\"language\" + 0.324*\"task\" + 0.230*\"evaluation\" + 0.207*\"processing\" + 0.144*\"recognition\" + 0.132*\"argue\" + 0.127*\"machine\" + 0.115*\"paper\" + 0.114*\"speech\" + 0.101*\"result\" + 0.098*\"present\"'), (5, '0.364*\"learning\" + 0.335*\"machine\" + 0.328*\"logic\" + 0.268*\"programming\" + -0.245*\"system\" + 0.216*\"application\" + 0.158*\"linguistic\" + 0.138*\"include\" + 0.124*\"research\" + 0.122*\"field\" + -0.119*\"approach\" + 0.118*\"introduction\"'), (6, '-0.358*\"system\" + 0.318*\"task\" + -0.250*\"recognition\" + -0.228*\"research\" + -0.218*\"plan\" + -0.196*\"argue\" + 0.175*\"approach\" + -0.156*\"paper\" + -0.152*\"result\" + 0.152*\"model\" + -0.151*\"recent\" + -0.146*\"nlp\"'), (7, '0.411*\"approach\" + 0.284*\"system\" + 0.216*\"learning\" + 0.199*\"base\" + 0.194*\"process\" + 0.186*\"drive\" + -0.151*\"nlp\" + 0.144*\"paper\" + -0.137*\"speech\" + -0.136*\"evaluation\" + -0.131*\"sense\" + -0.125*\"include\"')]\n",
            "Num Topics = 4  has Coherence Value of 0.4646\n",
            "Num Topics = 5  has Coherence Value of 0.4547\n",
            "Num Topics = 6  has Coherence Value of 0.3924\n",
            "Num Topics = 7  has Coherence Value of 0.4164\n",
            "Num Topics = 8  has Coherence Value of 0.408\n",
            "Num Topics = 9  has Coherence Value of 0.4191\n",
            "Num Topics = 10  has Coherence Value of 0.4518\n"
          ],
          "name": "stdout"
        }
      ]
    },
    {
      "cell_type": "markdown",
      "metadata": {
        "id": "4n8Lwpv_d_oU"
      },
      "source": [
        "## (3) (4 points) Compare the results generated by the two topic modeling algorithms, which one is better? You should explain the reasons in details."
      ]
    },
    {
      "cell_type": "code",
      "metadata": {
        "id": "0G4u59UDd_oV"
      },
      "source": [
        "# Write your answer here (no code needed for this question)"
      ],
      "execution_count": null,
      "outputs": []
    }
  ]
}