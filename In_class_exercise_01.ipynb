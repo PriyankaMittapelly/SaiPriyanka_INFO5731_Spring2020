{
  "nbformat": 4,
  "nbformat_minor": 0,
  "metadata": {
    "colab": {
      "name": "In_class_exercise_01.ipynb",
      "provenance": [],
      "collapsed_sections": [],
      "include_colab_link": true
    },
    "kernelspec": {
      "display_name": "Python 3",
      "language": "python",
      "name": "python3"
    },
    "language_info": {
      "codemirror_mode": {
        "name": "ipython",
        "version": 3
      },
      "file_extension": ".py",
      "mimetype": "text/x-python",
      "name": "python",
      "nbconvert_exporter": "python",
      "pygments_lexer": "ipython3",
      "version": "3.7.4"
    }
  },
  "cells": [
    {
      "cell_type": "markdown",
      "metadata": {
        "id": "view-in-github",
        "colab_type": "text"
      },
      "source": [
        "<a href=\"https://colab.research.google.com/github/PriyankaMittapelly/SaiPriyanka_INFO5731_Spring2020/blob/main/In_class_exercise_01.ipynb\" target=\"_parent\"><img src=\"https://colab.research.google.com/assets/colab-badge.svg\" alt=\"Open In Colab\"/></a>"
      ]
    },
    {
      "cell_type": "markdown",
      "metadata": {
        "id": "DymRJbxDBCnf"
      },
      "source": [
        "# **The first In-class-exercise (1/19/2021, 20 points in total)**"
      ]
    },
    {
      "cell_type": "markdown",
      "metadata": {
        "id": "03jb4GZsBkBS"
      },
      "source": [
        "(1) Write a Python program to calculate the length of a string. (2 points)"
      ]
    },
    {
      "cell_type": "code",
      "metadata": {
        "id": "YaGLbSHHB8Ej",
        "colab": {
          "base_uri": "https://localhost:8080/"
        },
        "outputId": "d6d06ef8-5622-4172-8c14-216ea232fa85"
      },
      "source": [
        "string1 = 'computational methods for IS'\n",
        "print(len(string1))\n"
      ],
      "execution_count": 17,
      "outputs": [
        {
          "output_type": "stream",
          "text": [
            "28\n"
          ],
          "name": "stdout"
        }
      ]
    },
    {
      "cell_type": "markdown",
      "metadata": {
        "id": "jJDe71iLB616"
      },
      "source": [
        "(2) Write a Python program to count the number of characters in a string. (2 points)\n",
        "\n",
        "Sample String : 'google.com‘, \n",
        "\n",
        "Expected Result : {'o': 3, 'g': 2, '.': 1, 'e': 1, 'l': 1, 'm': 1, 'c': 1}"
      ]
    },
    {
      "cell_type": "code",
      "metadata": {
        "id": "MtKskTzbCLaU",
        "colab": {
          "base_uri": "https://localhost:8080/"
        },
        "outputId": "38f5fa6f-dee4-4d18-8587-d841a36a7a33"
      },
      "source": [
        "import operator\n",
        "def count_lis(s):\n",
        "    val ={}\n",
        "    keys = val.keys()\n",
        "#for x in range(6):\n",
        "    for n in s:\n",
        "        keys = val.keys()\n",
        "        #print(' keys val {} ' .format(keys))\n",
        "        if n in keys:\n",
        "            #print(n)\n",
        "            val[n] += 1\n",
        "        else:\n",
        "            val[n] = 1\n",
        "            \n",
        "    print(val)\n",
        "    Fval = sorted(val.items() , key = operator.itemgetter(1) ,reverse = True )\n",
        "    print(\"Sorted in desnding order \")\n",
        "    print(dict(Fval))\n",
        "    \n",
        "count_lis(\"google.com\")\n"
      ],
      "execution_count": 2,
      "outputs": [
        {
          "output_type": "stream",
          "text": [
            "{'g': 2, 'o': 3, 'l': 1, 'e': 1, '.': 1, 'c': 1, 'm': 1}\n",
            "Sorted in desnding order \n",
            "{'o': 3, 'g': 2, 'l': 1, 'e': 1, '.': 1, 'c': 1, 'm': 1}\n"
          ],
          "name": "stdout"
        }
      ]
    },
    {
      "cell_type": "markdown",
      "metadata": {
        "id": "55W9AMdXCSpV"
      },
      "source": [
        "(3) Write a Python program to sum all the items in a list. (2 points)"
      ]
    },
    {
      "cell_type": "code",
      "metadata": {
        "id": "I57NXsauCec2",
        "colab": {
          "base_uri": "https://localhost:8080/"
        },
        "outputId": "b26e4587-634d-46b6-e323-05d4e1f23cc8"
      },
      "source": [
        "lis1 = [  'UNT' , 2021 , ]\n",
        "lis2 = [ 'IS' , 'semester1' ]\n",
        "lis3 = [ 'section'  , 'CM' , 5731.002]\n",
        "Flis = lis1+lis2+lis3\n",
        "print(Flis)"
      ],
      "execution_count": 18,
      "outputs": [
        {
          "output_type": "stream",
          "text": [
            "['UNT', 2021, 'IS', 'semester1', 'section', 'CM', 5731.002]\n"
          ],
          "name": "stdout"
        }
      ]
    },
    {
      "cell_type": "markdown",
      "metadata": {
        "id": "4ulBZ6yhCi9F"
      },
      "source": [
        "(4) Write a Python program to get a string from a given string where all occurrences of its first char have been changed to '\\$', except the first char itself. (2 points)\n",
        "\n",
        "Sample String : 'restart‘, \n",
        "\n",
        "Expected Result : 'resta\\$t'"
      ]
    },
    {
      "cell_type": "code",
      "metadata": {
        "id": "Fj0XhwbBCw2o",
        "colab": {
          "base_uri": "https://localhost:8080/"
        },
        "outputId": "c2e90874-0c7b-43d5-a771-46fe1e47b37b"
      },
      "source": [
        "def occurence(s):\n",
        "    x = len(s)\n",
        "    count = 0\n",
        "    for x  , i in zip ( range(x+1) ,  s ):\n",
        "        for j in s[1:]:\n",
        "            count = count + 1\n",
        "            #print( \" count {} \" .format(count))\n",
        "            if i is j :\n",
        "            \n",
        "                old = list(s)\n",
        "                print('old value {} ' .format(old))\n",
        "                #print(\"match\")\n",
        "                old[count] = '$'\n",
        "                new = old\n",
        "                output = str(new)\n",
        "                return(output)\n",
        "                \n",
        "            \n",
        "            #else :\n",
        "               # print(\"no match\")\n",
        "        \n",
        "print( ' new value {} ' .format(occurence('restart')))\n",
        " \n"
      ],
      "execution_count": 5,
      "outputs": [
        {
          "output_type": "stream",
          "text": [
            "old value ['r', 'e', 's', 't', 'a', 'r', 't'] \n",
            " new value ['r', 'e', 's', 't', 'a', '$', 't'] \n"
          ],
          "name": "stdout"
        }
      ]
    },
    {
      "cell_type": "markdown",
      "metadata": {
        "id": "_bIP7s1MCzue"
      },
      "source": [
        "(5) Write a program with python which could accept two parameter a and b to calculate and output the result of S, where \n",
        "\n",
        "$\\ S=3.14*(1+a/b)^3$ (3 points)\n",
        "\n"
      ]
    },
    {
      "cell_type": "code",
      "metadata": {
        "id": "w79QilHXD3Mg",
        "colab": {
          "base_uri": "https://localhost:8080/"
        },
        "outputId": "7b4d6eaf-e2cc-437a-abf0-5c005b172560"
      },
      "source": [
        "def sample(a, b ):\n",
        "  x = (a/b) + 1\n",
        "  \n",
        "  y = lambda a : a * (pow(x,3))\n",
        "  return(y(3.14))\n",
        "print(sample(10,100))\n"
      ],
      "execution_count": 19,
      "outputs": [
        {
          "output_type": "stream",
          "text": [
            "4.179340000000002\n"
          ],
          "name": "stdout"
        }
      ]
    },
    {
      "cell_type": "markdown",
      "metadata": {
        "id": "xCa2bK9aD4Q3"
      },
      "source": [
        "(6) Write a Python program to concatenate following dictionaries to create a new one. (3 points)\n",
        "\n",
        "Sample Dictionary : dic1={1:10, 2:20}, dic2={3:30, 4:40}, dic3={5:50,6:60}, \n",
        "\n",
        "Expected Result : {1: 10, 2: 20, 3: 30, 4: 40, 5: 50, 6: 60}\n"
      ]
    },
    {
      "cell_type": "code",
      "metadata": {
        "id": "_z4aLqAbEET1",
        "colab": {
          "base_uri": "https://localhost:8080/"
        },
        "outputId": "7b618ded-39ff-4c9b-ffec-709c5d95577b"
      },
      "source": [
        "dic1 = {1:10,2:20}\n",
        "dic2 = {3:30,4:40}\n",
        "dic3 = {5:50,6:60}\n",
        "dic4 = { **dic1 , **dic2 , **dic3}\n",
        "print(dic4)\n"
      ],
      "execution_count": 20,
      "outputs": [
        {
          "output_type": "stream",
          "text": [
            "{1: 10, 2: 20, 3: 30, 4: 40, 5: 50, 6: 60}\n"
          ],
          "name": "stdout"
        }
      ]
    },
    {
      "cell_type": "markdown",
      "metadata": {
        "id": "0v48Vqa7FrQh"
      },
      "source": [
        "(7) Write a Python program to check whether an element exists within a tuple. (3 points)"
      ]
    },
    {
      "cell_type": "code",
      "metadata": {
        "id": "7WEmgq-DF2P1",
        "colab": {
          "base_uri": "https://localhost:8080/"
        },
        "outputId": "59e2e0d3-762e-4ef3-fcd2-3b39c6d0fc4c"
      },
      "source": [
        "tup = ( \" computational\" , \"methods\" ,  \"information science\")\n",
        "ele = input(\" enter the element\")\n",
        "if ele in tup :\n",
        "  print('element exist in tuple')\n",
        "else:\n",
        "  print('element doesnt exist')\n"
      ],
      "execution_count": 11,
      "outputs": [
        {
          "output_type": "stream",
          "text": [
            " enter the elementIS\n",
            "element doesnt exist\n"
          ],
          "name": "stdout"
        }
      ]
    },
    {
      "cell_type": "markdown",
      "metadata": {
        "id": "vD5PYLMuGga_"
      },
      "source": [
        "(8) Write a Python program to find maximum and the minimum value in a set. (3 points)"
      ]
    },
    {
      "cell_type": "code",
      "metadata": {
        "id": "t0D5kdJUGjjw",
        "colab": {
          "base_uri": "https://localhost:8080/"
        },
        "outputId": "c73c435a-203e-4248-8923-17752bc85249"
      },
      "source": [
        "sets = { 12, 22, 56, 74 , 21, 24}\n",
        "minimum = min(sets)\n",
        "maximum = max(sets)\n",
        "print(' MINIMUM VALUE {} MAXIMUM VALUE {}' .format(minimum,maximum))\n"
      ],
      "execution_count": 21,
      "outputs": [
        {
          "output_type": "stream",
          "text": [
            " MINIMUM VALUE 12 MAXIMUM VALUE 74\n"
          ],
          "name": "stdout"
        }
      ]
    },
    {
      "cell_type": "markdown",
      "metadata": {
        "id": "uHkd-y5VhVWC"
      },
      "source": [
        "(9) Write a Python program to randomly divide the students in this class into five groups for term projects, each group should have at least 3 students but no more than 5 students (including 5). Here is the students list: (3 points for extra)\n",
        "\n",
        "studnet_list = ['vmb0067','pc0353','snd0097','yye0005','sg0940','bk0301','rak0120','rrk0058','spk0057','vl0135','nm0547','pn0159',\n",
        "                'msp0174','dd0420','ds0761','rs0850','ss1995','at0739','at0768','mv0299','tv0119','dy0091']"
      ]
    },
    {
      "cell_type": "code",
      "metadata": {
        "id": "3iGbmcOBhTwy",
        "colab": {
          "base_uri": "https://localhost:8080/"
        },
        "outputId": "3dc767ca-85cc-4925-da01-0220ab9f252b"
      },
      "source": [
        "import random\n",
        "student = \" 'vmb0067','pc0353','snd0097','yye0005','sg0940','bk0301','rak0120','rrk0058','spk0057','vl0135','nm0547','pn0159', 'msp0174','dd0420','ds0761','rs0850','ss1995','at0739','at0768','mv0299','tv0119','dy0091' \"\n",
        "Slist = student.split(\",\")\n",
        "print(Slist)\n",
        "size = len(Slist)\n",
        "print(' \"size of student list \" :  {} ' .format(size))\n",
        "l = round(size/3)\n",
        "print(' \"no of groups can be formed \"  : {} '.format(l))\n",
        "    \n",
        "lis1 =[]\n",
        "lis2 = []\n",
        "count = 0\n",
        "flis = []\n",
        "for x in range(l):\n",
        "    lis2.extend(lis1)\n",
        "    i = 0\n",
        "    print(\"GROUP NUMBER {} \" .format(x))\n",
        "    \n",
        "    for i in range(3):\n",
        "        \n",
        "        if i < 3:\n",
        "            x = random.choice(Slist)\n",
        "            if x is not lis2:\n",
        "                count = count + 1\n",
        "                \n",
        "                lis1.append(x)\n",
        "            \n",
        "                #print(lis1)\n",
        "                #i =+ 1 \n",
        "                if i is 2  :\n",
        "                \n",
        "                    \n",
        "                    lis2 = lis1\n",
        "                    print(' GROUP MEMBERS {} '.format(lis1))\n",
        "                    lis1.clear()\n",
        "                    break \n",
        "            \n",
        "            else :\n",
        "                print(\" no slection \")\n",
        "        \n",
        "        #print('flist {} '.format(flis))\n",
        "if count <= size - 1:\n",
        "    x = random.choice(Slist)\n",
        "    if x is not lis2 or lis1 :\n",
        "        lis2.append(x)\n",
        "        print(lis2)\n",
        "                    \n",
        "          \n",
        "    print(count)\n"
      ],
      "execution_count": 22,
      "outputs": [
        {
          "output_type": "stream",
          "text": [
            "[\" 'vmb0067'\", \"'pc0353'\", \"'snd0097'\", \"'yye0005'\", \"'sg0940'\", \"'bk0301'\", \"'rak0120'\", \"'rrk0058'\", \"'spk0057'\", \"'vl0135'\", \"'nm0547'\", \"'pn0159'\", \" 'msp0174'\", \"'dd0420'\", \"'ds0761'\", \"'rs0850'\", \"'ss1995'\", \"'at0739'\", \"'at0768'\", \"'mv0299'\", \"'tv0119'\", \"'dy0091' \"]\n",
            " \"size of student list \" :  22 \n",
            " \"no of groups can be formed \"  : 7 \n",
            "GROUP NUMBER 0 \n",
            " GROUP MEMBERS [\"'rak0120'\", \"'pn0159'\", \"'pc0353'\"] \n",
            "GROUP NUMBER 1 \n",
            " GROUP MEMBERS [\"'rrk0058'\", \"'mv0299'\", \"'ds0761'\"] \n",
            "GROUP NUMBER 2 \n",
            " GROUP MEMBERS [\"'vl0135'\", \"'bk0301'\", \"'rak0120'\"] \n",
            "GROUP NUMBER 3 \n",
            " GROUP MEMBERS [\"'nm0547'\", \"'ss1995'\", \"'vl0135'\"] \n",
            "GROUP NUMBER 4 \n",
            " GROUP MEMBERS [\"'dy0091' \", \"'bk0301'\", \" 'vmb0067'\"] \n",
            "GROUP NUMBER 5 \n",
            " GROUP MEMBERS [\"'rs0850'\", \"'pn0159'\", \"'nm0547'\"] \n",
            "GROUP NUMBER 6 \n",
            " GROUP MEMBERS [\"'vl0135'\", \"'snd0097'\", \" 'vmb0067'\"] \n",
            "[\"'pc0353'\"]\n",
            "21\n"
          ],
          "name": "stdout"
        }
      ]
    },
    {
      "cell_type": "code",
      "metadata": {
        "id": "51Ti3rEitAna"
      },
      "source": [
        ""
      ],
      "execution_count": null,
      "outputs": []
    }
  ]
}