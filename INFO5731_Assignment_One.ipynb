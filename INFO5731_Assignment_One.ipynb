{
  "nbformat": 4,
  "nbformat_minor": 0,
  "metadata": {
    "colab": {
      "name": "INFO5731_Assignment_One.ipynb",
      "provenance": [],
      "collapsed_sections": [],
      "toc_visible": true,
      "include_colab_link": true
    },
    "kernelspec": {
      "display_name": "Python 3",
      "language": "python",
      "name": "python3"
    },
    "language_info": {
      "codemirror_mode": {
        "name": "ipython",
        "version": 3
      },
      "file_extension": ".py",
      "mimetype": "text/x-python",
      "name": "python",
      "nbconvert_exporter": "python",
      "pygments_lexer": "ipython3",
      "version": "3.7.4"
    }
  },
  "cells": [
    {
      "cell_type": "markdown",
      "metadata": {
        "id": "view-in-github",
        "colab_type": "text"
      },
      "source": [
        "<a href=\"https://colab.research.google.com/github/PriyankaMittapelly/SaiPriyanka_INFO5731_Spring2020/blob/main/INFO5731_Assignment_One.ipynb\" target=\"_parent\"><img src=\"https://colab.research.google.com/assets/colab-badge.svg\" alt=\"Open In Colab\"/></a>"
      ]
    },
    {
      "cell_type": "markdown",
      "metadata": {
        "id": "Ryk8D1Q4Wsrp"
      },
      "source": [
        "# **INFO5731 Assignment One**"
      ]
    },
    {
      "cell_type": "markdown",
      "metadata": {
        "id": "90_NR8c5XGWc"
      },
      "source": [
        "# Question 1\n",
        "\n",
        "(20 points). Write a Python program to generate 12 random numbers between 1 and 100. Sort the list of numbers in ascending order and print it out. Sort the list of numbers in descending order and print it out. Calculate the average for the group and print it out."
      ]
    },
    {
      "cell_type": "code",
      "metadata": {
        "colab": {
          "base_uri": "https://localhost:8080/"
        },
        "id": "5QX6bJjGWXY9",
        "outputId": "0da47290-fe00-45a8-86d5-b19fd86fdbcd"
      },
      "source": [
        "import random\n",
        "\n",
        "list1 = []\n",
        "val = []\n",
        "for i in range(101):\n",
        "    list1.append(i)\n",
        "print(list1)\n",
        "for j in range(12):\n",
        "    x = random.choice(list1)\n",
        "    val.append(x)\n",
        "    asc = []\n",
        "    dec = []\n",
        "    if j is 12:\n",
        "        print(val)\n",
        "        \n",
        "        #print(asc)\n",
        "        #print(dec)\n",
        "print(' random  20 numbers  {} ' .format(val))\n",
        "val.sort()\n",
        "print(' ascending {} ' .format(val))\n",
        "val.sort(reverse=True)\n",
        "print(' decending {} ' .format(val))\n",
        "sum = 0\n",
        "for x in val:\n",
        "  sum = sum + x\n",
        "print(\" average of sum {} \" .format(sum) )\n",
        "  \n",
        "\n",
        "\n"
      ],
      "execution_count": null,
      "outputs": [
        {
          "output_type": "stream",
          "text": [
            "[0, 1, 2, 3, 4, 5, 6, 7, 8, 9, 10, 11, 12, 13, 14, 15, 16, 17, 18, 19, 20, 21, 22, 23, 24, 25, 26, 27, 28, 29, 30, 31, 32, 33, 34, 35, 36, 37, 38, 39, 40, 41, 42, 43, 44, 45, 46, 47, 48, 49, 50, 51, 52, 53, 54, 55, 56, 57, 58, 59, 60, 61, 62, 63, 64, 65, 66, 67, 68, 69, 70, 71, 72, 73, 74, 75, 76, 77, 78, 79, 80, 81, 82, 83, 84, 85, 86, 87, 88, 89, 90, 91, 92, 93, 94, 95, 96, 97, 98, 99, 100]\n",
            " random  20 numbers  [5, 95, 78, 0, 5, 90, 72, 87, 80, 3, 64, 78] \n",
            " ascending [0, 3, 5, 5, 64, 72, 78, 78, 80, 87, 90, 95] \n",
            " decending [95, 90, 87, 80, 78, 78, 72, 64, 5, 5, 3, 0] \n",
            " average of sum 657 \n"
          ],
          "name": "stdout"
        }
      ]
    },
    {
      "cell_type": "markdown",
      "metadata": {
        "id": "1F_PZdH9Sh49"
      },
      "source": [
        "# Question 2\n",
        "(25 points). Write a program that will do the following string formatting tasks:\n",
        "\n",
        "(1) Ask the user to enter two sentences.\n",
        "\n",
        "(2) Make each sentence into a list. Each element in the list should correspond to a word in the sentence. For example, if the sentence is \"Alas! Am I alive? This is my first python program\", the program should print out ['Alas, '!', 'Am', 'I', 'alive, '?', 'This', 'is', 'my', 'first', 'python', 'program'].\n",
        "\n",
        "(3) Compare the two sentences. Print out a list of words that occur in both sentences.\n",
        "\n",
        "(4) Remove any punctuation from the sentence and print it back out. It should remove at least the following characters, but it can remove more: period(“.”), comma (“,”), semicolon (“;”), and colon (“:”)\n",
        "\n",
        "(5) Count the number of vowels in the sentences. Print out each vowel and the number of times it appears in the sentences, such as: a:2, e:1, i:0, etc"
      ]
    },
    {
      "cell_type": "code",
      "metadata": {
        "colab": {
          "base_uri": "https://localhost:8080/"
        },
        "id": "Y0oOSlsOS0cq",
        "outputId": "7af9c4f3-0f04-4323-d362-8b6161c29bb0"
      },
      "source": [
        "import re\n",
        "fs1 = []\n",
        "fs2 = []\n",
        "fs3 = []\n",
        "final = []\n",
        "def program2(s1,s2):\n",
        "    fs1 = (re.findall(r\"[\\w]+|[^\\s\\w]\", s1))\n",
        "    fs2 = (re.findall(r\"[\\w]+|[^\\s\\w]\", s2))\n",
        "    #fs3 = (re.findall(r\"[\\w]+\", s2))\n",
        "    print('sentence one split')\n",
        "    print(str(fs1))\n",
        "    print('sentence two ')\n",
        "    print(str(fs2))\n",
        "    size1 = len(fs1)\n",
        "    size2 = len(fs2)\n",
        "    f = []\n",
        "    f = set(fs1)&set(fs2)\n",
        "    print(' common words {}' .format(f))\n",
        "    list4 = sorted(f, key = lambda k : fs1.index(k))\n",
        "    s = len(f)\n",
        "    check = [ ';' , ':' , '.', ',','?', '!' ]\n",
        "    for i in range(s):\n",
        "        for i in list4:\n",
        "            for j in check :\n",
        "                if i is j :\n",
        "                    list4.remove(i)\n",
        "    print('after removing special chars {} ' .format(list4))    \n",
        "    \n",
        "  \n",
        "\n",
        "\n",
        "    \n",
        "\n",
        "val1 = input('enter first sentence')\n",
        "val2 = input('sentence two ')\n",
        "program2(val1,val2)\n",
        "\n"
      ],
      "execution_count": null,
      "outputs": [
        {
          "output_type": "stream",
          "text": [
            "enter first sentencehi! how are you ?\n",
            "sentence two im good! how you ?\n",
            "sentence one split\n",
            "['hi', '!', 'how', 'are', 'you', '?']\n",
            "sentence two \n",
            "['im', 'good', '!', 'how', 'you', '?']\n",
            " common words {'?', '!', 'you', 'how'}\n",
            "after removing special chars ['how', 'you'] \n"
          ],
          "name": "stdout"
        }
      ]
    },
    {
      "cell_type": "markdown",
      "metadata": {
        "id": "CmFoI4jDS9nx"
      },
      "source": [
        "# Question 3 \n",
        "\n",
        "(15 points). The formula that describes the volume V of a sphere with radius r is the following:\n",
        "\n",
        "$ V=\\frac{4}{3}\\ast\\ \\pi\\ast\\ r^3 $\n",
        "\n",
        "Write a program to calculate the value of V when r is in the range of 1–10. Output the result in the following format:\n",
        "\n",
        "\tr\tV\n",
        "\t1\t…\n",
        "\t2\t…\n",
        "\t3\t…\n"
      ]
    },
    {
      "cell_type": "code",
      "metadata": {
        "colab": {
          "base_uri": "https://localhost:8080/"
        },
        "id": "pEyqeioAT95b",
        "outputId": "2c1f4b60-c0c9-4e45-b23c-ae183bc7c32b"
      },
      "source": [
        "for r in range(11):\n",
        "    v = 4/3 * 3.14\n",
        "  \n",
        "    y = lambda a  : a * (pow(r,3))\n",
        "    \n",
        "    print(  ' the value for R {} {}'.format(r,y(v)))\n",
        "\n"
      ],
      "execution_count": null,
      "outputs": [
        {
          "output_type": "stream",
          "text": [
            " the value for R 0 0.0\n",
            " the value for R 1 4.1866666666666665\n",
            " the value for R 2 33.49333333333333\n",
            " the value for R 3 113.03999999999999\n",
            " the value for R 4 267.94666666666666\n",
            " the value for R 5 523.3333333333334\n",
            " the value for R 6 904.3199999999999\n",
            " the value for R 7 1436.0266666666666\n",
            " the value for R 8 2143.5733333333333\n",
            " the value for R 9 3052.08\n",
            " the value for R 10 4186.666666666667\n"
          ],
          "name": "stdout"
        }
      ]
    },
    {
      "cell_type": "code",
      "metadata": {
        "id": "pMCr3l8tnu0j"
      },
      "source": [
        ""
      ],
      "execution_count": null,
      "outputs": []
    },
    {
      "cell_type": "markdown",
      "metadata": {
        "id": "z3tBE7E-Xn5X"
      },
      "source": [
        "# Question 4\n",
        "\n",
        "(40 points). In the field of Data Science, data is often formatted as a comma-delimited (CSV) file, where each line in a file corresponds to a field's value. Refer to Chapter 9 (p. 106) for more information on comma-delimited files. To answer this question, you will need to download the file [Assignment1_denton_housing.csv](https://github.com/unt-iialab/info5731_spring2021/blob/main/assignment/Assignment1_denton_housing.csv) included with this assignment. The file [Assignment1_denton_housing.csv](https://github.com/unt-iialab/info5731_spring2021/blob/main/assignment/Assignment1_denton_housing.csv) contains statistics about housing in the city of Denton from 2008 to 2014. Write a program to implement the following questions.\n",
        "\n",
        "(1) (10 pts) Calculate the difference in the number of Occupied Housing Units from year to year and print it. The difference must be calculated for the consecutive years such as 2008-2009, 2009-2010 etc. Finally, print the values in the ascending order.\n",
        "\n",
        "(2) (10 pts) For all the years, calculate the percentage of housing units which are vacant an occupied. Print the results in the following format:\n",
        "\n",
        "Year Vacant Housing Units Occupied Housing Units\n",
        "\n",
        "    2008  30%   70%                          \n",
        "\t2009 ----- -----\n",
        "\t2010 ----- -----\n",
        "    2011 ----- -----\n",
        "\t2012 ----- -----\n",
        "    2013 ----- -----\n",
        "\t2014 ----- -----\n",
        "  \n",
        "  \n",
        "\n",
        "(3) (10 pts) Calculate and print the valued and years in which the highest number of housing units were vacant and occupied. Print the results in the following format:  \n",
        "\n",
        "                              Year\tValue\n",
        "\tVacant Housing Units\t  -----   -----\n",
        "\tOccupied Housing Units\t-----   -----\n",
        "\n",
        "(4) (10 pts) Calculate the harmonic mean of the total housing units and print it out. You can find the information about harmonic mean here: https://ncalculators.com/statistics/harmonic-mean-calculator.htm"
      ]
    },
    {
      "cell_type": "code",
      "metadata": {
        "colab": {
          "base_uri": "https://localhost:8080/"
        },
        "id": "KWd1EXltoyli",
        "outputId": "f9ccf44d-c0a5-4424-d0c4-34b36ba8a342"
      },
      "source": [
        "import pandas as pd\n",
        "import csv\n",
        "\n",
        "df = pd.read_csv(\"https://raw.githubusercontent.com/unt-iialab/INFO5731_FALL2020/master/Assignments/Assignment1_denton_housing.csv\")\n",
        "\n",
        "\n",
        " # differnec for consecutive years \n",
        "\n",
        "occupy = df[(df[\"title_field\" ] == 'Occupied Housing Units')]\n",
        "occ_sor = occupy.sort_values(by=['year'])\n",
        "#print(\"OCCUPIED HOUSING UNITS\")\n",
        "#print(occ_sor)\n",
        "df1 = pd.DataFrame(occ_sor)\n",
        "diff_value = pd.DataFrame(df1, columns = ['year', 'value'])\n",
        "print(\"DIFFERENCE FOR CONSECUTIVE YEARS\")\n",
        "f_diff = diff_value.diff() \n",
        "print(f_diff)\n",
        "\n",
        "# division\n",
        "grouped = df.groupby(df.title_field)\n",
        "\n",
        "total = grouped.get_group(\"Total Housing Units\")\n",
        "vacant = grouped.get_group(\"Vacant Housing Units\")\n",
        "occupied = grouped.get_group(\"Occupied Housing Units\")\n",
        "\n",
        "df1 = pd.DataFrame(total)\n",
        "df2 = pd.DataFrame(vacant)\n",
        "df3 = pd.DataFrame(occupied)\n",
        " # merging \n",
        "df4 = pd.merge(df1, df2,on='year')\n",
        "df5 = pd.merge(df4, df3,on='year')\n",
        "final = pd.DataFrame(df5)\n",
        "# sorting\n",
        "f = final.sort_values(by=['year'])\n",
        "\n",
        "per_val = pd.DataFrame(f)\n",
        "fout = []\n",
        "\n",
        "print(\"     year   vacant      occupied\")\n",
        " # percent calculation \n",
        "\n",
        "for i ,row in  per_val.iterrows():\n",
        "  print( '{} {} {}% {}% '.format((i) , (row[0]), ((round((row[4]/row[2])*100))) , ((round((row[6]/row[2])*100)))))\n",
        "  \n",
        "# harmonic mean\n",
        "\n",
        "l = len(df1)\n",
        "val = 0\n",
        "for i in df1['value'] :\n",
        "  val = val + (1/i)\n",
        "Harmonic_mean = l / val\n",
        "print(\" HARMONIC MEAN {} \".format(Harmonic_mean))\n"
      ],
      "execution_count": null,
      "outputs": [
        {
          "output_type": "stream",
          "text": [
            "DIFFERENCE FOR CONSECUTIVE YEARS\n",
            "    year   value\n",
            "20   NaN     NaN\n",
            "17   1.0  -795.0\n",
            "14   1.0  5091.0\n",
            "11   1.0  -303.0\n",
            "8    1.0  1404.0\n",
            "5    1.0  1565.0\n",
            "2    1.0  2622.0\n",
            "     year   vacant      occupied\n",
            "6 2008 11% 89% \n",
            "5 2009 9% 91% \n",
            "4 2010 8% 92% \n",
            "3 2011 9% 91% \n",
            "2 2012 7% 93% \n",
            "1 2013 9% 91% \n",
            "0 2014 6% 94% \n",
            " HARMONIC MEAN 44398.28543969185 \n"
          ],
          "name": "stdout"
        }
      ]
    },
    {
      "cell_type": "code",
      "metadata": {
        "colab": {
          "base_uri": "https://localhost:8080/"
        },
        "id": "_G1Urq0r2IxF",
        "outputId": "7a04396b-6429-4a3b-8a22-aa9e57d863f3"
      },
      "source": [
        "import pandas as pd\r\n",
        "import csv\r\n",
        "\r\n",
        "df = pd.read_csv(\"https://raw.githubusercontent.com/unt-iialab/INFO5731_FALL2020/master/Assignments/Assignment1_denton_housing.csv\")\r\n",
        "\r\n",
        "grouped = df.groupby(df.title_field)\r\n",
        "\r\n",
        "total = grouped.get_group(\"Total Housing Units\")\r\n",
        "vacant = grouped.get_group(\"Vacant Housing Units\")\r\n",
        "occupied = grouped.get_group(\"Occupied Housing Units\")\r\n",
        "\r\n",
        "df1 = pd.DataFrame(total)\r\n",
        "df2 = pd.DataFrame(vacant)\r\n",
        "df3 = pd.DataFrame(occupied)\r\n",
        "\r\n",
        "\r\n",
        "df4 = df3[df3[\"value\"] == df3[\"value\"].max()]\r\n",
        "#print(df5)\r\n",
        "\r\n",
        "fdo = list(zip(*map(df4.get , df4)))\r\n",
        "\r\n",
        "\r\n",
        "df5 = df2[df2[\"value\"] == df2[\"value\"].max()]\r\n",
        "#print(df5)\r\n",
        "\r\n",
        "fdv = list(zip(*map(df5.get , df5)))\r\n",
        "print( \" year    title_field            value  \")\r\n",
        "print(fdo)\r\n",
        "print(fdv)\r\n"
      ],
      "execution_count": null,
      "outputs": [
        {
          "output_type": "stream",
          "text": [
            " year    title_field            value  \n",
            "[(2014, 'Occupied Housing Units', 46295)]\n",
            "[(2008, 'Vacant Housing Units', 4483)]\n"
          ],
          "name": "stdout"
        }
      ]
    }
  ]
}